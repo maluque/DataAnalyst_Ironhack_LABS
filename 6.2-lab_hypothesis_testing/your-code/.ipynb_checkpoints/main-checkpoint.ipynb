{
 "cells": [
  {
   "cell_type": "markdown",
   "metadata": {},
   "source": [
    "# Before your start:\n",
    "- Read the README.md file\n",
    "- Comment as much as you can and use the resources (README.md file)\n",
    "- Happy learning!"
   ]
  },
  {
   "cell_type": "code",
   "execution_count": 1,
   "metadata": {},
   "outputs": [],
   "source": [
    "import numpy as np\n",
    "import pandas as pd\n",
    "import pylab as plt\n",
    "\n",
    "import seaborn as sns  \n",
    "\n",
    "from scipy.stats import norm\n",
    "from scipy.stats import t"
   ]
  },
  {
   "cell_type": "markdown",
   "metadata": {},
   "source": [
    "# Challenge 1 - Exploring the Data\n",
    "\n",
    "In this challenge, we will examine all salaries of employees of the City of Chicago. We will start by loading the dataset and examining its contents"
   ]
  },
  {
   "cell_type": "code",
   "execution_count": 2,
   "metadata": {},
   "outputs": [],
   "source": [
    "# Run this code:\n",
    "\n",
    "salaries = pd.read_csv('../Current_Employee_Names__Salaries__and_Position_Titles.csv')"
   ]
  },
  {
   "cell_type": "markdown",
   "metadata": {},
   "source": [
    "Examine the `salaries` dataset using the `head` function below."
   ]
  },
  {
   "cell_type": "code",
   "execution_count": 3,
   "metadata": {},
   "outputs": [
    {
     "data": {
      "text/html": [
       "<div>\n",
       "<style scoped>\n",
       "    .dataframe tbody tr th:only-of-type {\n",
       "        vertical-align: middle;\n",
       "    }\n",
       "\n",
       "    .dataframe tbody tr th {\n",
       "        vertical-align: top;\n",
       "    }\n",
       "\n",
       "    .dataframe thead th {\n",
       "        text-align: right;\n",
       "    }\n",
       "</style>\n",
       "<table border=\"1\" class=\"dataframe\">\n",
       "  <thead>\n",
       "    <tr style=\"text-align: right;\">\n",
       "      <th></th>\n",
       "      <th>Name</th>\n",
       "      <th>Job Titles</th>\n",
       "      <th>Department</th>\n",
       "      <th>Full or Part-Time</th>\n",
       "      <th>Salary or Hourly</th>\n",
       "      <th>Typical Hours</th>\n",
       "      <th>Annual Salary</th>\n",
       "      <th>Hourly Rate</th>\n",
       "    </tr>\n",
       "  </thead>\n",
       "  <tbody>\n",
       "    <tr>\n",
       "      <th>0</th>\n",
       "      <td>AARON,  JEFFERY M</td>\n",
       "      <td>SERGEANT</td>\n",
       "      <td>POLICE</td>\n",
       "      <td>F</td>\n",
       "      <td>Salary</td>\n",
       "      <td>NaN</td>\n",
       "      <td>101442.0</td>\n",
       "      <td>NaN</td>\n",
       "    </tr>\n",
       "    <tr>\n",
       "      <th>1</th>\n",
       "      <td>AARON,  KARINA</td>\n",
       "      <td>POLICE OFFICER (ASSIGNED AS DETECTIVE)</td>\n",
       "      <td>POLICE</td>\n",
       "      <td>F</td>\n",
       "      <td>Salary</td>\n",
       "      <td>NaN</td>\n",
       "      <td>94122.0</td>\n",
       "      <td>NaN</td>\n",
       "    </tr>\n",
       "    <tr>\n",
       "      <th>2</th>\n",
       "      <td>AARON,  KIMBERLEI R</td>\n",
       "      <td>CHIEF CONTRACT EXPEDITER</td>\n",
       "      <td>GENERAL SERVICES</td>\n",
       "      <td>F</td>\n",
       "      <td>Salary</td>\n",
       "      <td>NaN</td>\n",
       "      <td>101592.0</td>\n",
       "      <td>NaN</td>\n",
       "    </tr>\n",
       "    <tr>\n",
       "      <th>3</th>\n",
       "      <td>ABAD JR,  VICENTE M</td>\n",
       "      <td>CIVIL ENGINEER IV</td>\n",
       "      <td>WATER MGMNT</td>\n",
       "      <td>F</td>\n",
       "      <td>Salary</td>\n",
       "      <td>NaN</td>\n",
       "      <td>110064.0</td>\n",
       "      <td>NaN</td>\n",
       "    </tr>\n",
       "    <tr>\n",
       "      <th>4</th>\n",
       "      <td>ABASCAL,  REECE E</td>\n",
       "      <td>TRAFFIC CONTROL AIDE-HOURLY</td>\n",
       "      <td>OEMC</td>\n",
       "      <td>P</td>\n",
       "      <td>Hourly</td>\n",
       "      <td>20.0</td>\n",
       "      <td>NaN</td>\n",
       "      <td>19.86</td>\n",
       "    </tr>\n",
       "  </tbody>\n",
       "</table>\n",
       "</div>"
      ],
      "text/plain": [
       "                  Name                              Job Titles  \\\n",
       "0    AARON,  JEFFERY M                                SERGEANT   \n",
       "1      AARON,  KARINA   POLICE OFFICER (ASSIGNED AS DETECTIVE)   \n",
       "2  AARON,  KIMBERLEI R                CHIEF CONTRACT EXPEDITER   \n",
       "3  ABAD JR,  VICENTE M                       CIVIL ENGINEER IV   \n",
       "4    ABASCAL,  REECE E             TRAFFIC CONTROL AIDE-HOURLY   \n",
       "\n",
       "         Department Full or Part-Time Salary or Hourly  Typical Hours  \\\n",
       "0            POLICE                 F           Salary            NaN   \n",
       "1            POLICE                 F           Salary            NaN   \n",
       "2  GENERAL SERVICES                 F           Salary            NaN   \n",
       "3       WATER MGMNT                 F           Salary            NaN   \n",
       "4              OEMC                 P           Hourly           20.0   \n",
       "\n",
       "   Annual Salary  Hourly Rate  \n",
       "0       101442.0          NaN  \n",
       "1        94122.0          NaN  \n",
       "2       101592.0          NaN  \n",
       "3       110064.0          NaN  \n",
       "4            NaN        19.86  "
      ]
     },
     "execution_count": 3,
     "metadata": {},
     "output_type": "execute_result"
    }
   ],
   "source": [
    "# Your code here:\n",
    "salaries.head()"
   ]
  },
  {
   "cell_type": "markdown",
   "metadata": {},
   "source": [
    "We see from looking at the `head` function that there is quite a bit of missing data. Let's examine how much missing data is in each column. Produce this output in the cell below"
   ]
  },
  {
   "cell_type": "code",
   "execution_count": 4,
   "metadata": {},
   "outputs": [
    {
     "name": "stdout",
     "output_type": "stream",
     "text": [
      "Percentage of NAs in float columns:\n"
     ]
    },
    {
     "data": {
      "text/plain": [
       "Typical Hours    75.824971\n",
       "Annual Salary    24.175029\n",
       "Hourly Rate      75.824971\n",
       "Name: count, dtype: float64"
      ]
     },
     "execution_count": 4,
     "metadata": {},
     "output_type": "execute_result"
    }
   ],
   "source": [
    "sumdf=salaries.describe(exclude=[\"object\", \"category\"]).T\n",
    "\n",
    "print(\"Percentage of NAs in float columns:\")\n",
    "((len(salaries)-sumdf[\"count\"])*100)/len(salaries)"
   ]
  },
  {
   "cell_type": "markdown",
   "metadata": {},
   "source": [
    "Let's also look at the count of hourly vs. salaried employees. Write the code in the cell below"
   ]
  },
  {
   "cell_type": "code",
   "execution_count": 5,
   "metadata": {},
   "outputs": [
    {
     "data": {
      "text/plain": [
       "Typical Hours     8022.0\n",
       "Annual Salary    25161.0\n",
       "Name: count, dtype: float64"
      ]
     },
     "metadata": {},
     "output_type": "display_data"
    },
    {
     "data": {
      "text/plain": [
       "True"
      ]
     },
     "execution_count": 5,
     "metadata": {},
     "output_type": "execute_result"
    }
   ],
   "source": [
    "display(sumdf[\"count\"][:2])\n",
    "sumdf[\"count\"][1]+sumdf[\"count\"][2] == len(salaries)"
   ]
  },
  {
   "cell_type": "markdown",
   "metadata": {},
   "source": [
    "What this information indicates is that the table contains information about two types of employees - salaried and hourly. Some columns apply only to one type of employee while other columns only apply to another kind. This is why there are so many missing values. Therefore, we will not do anything to handle the missing values."
   ]
  },
  {
   "cell_type": "markdown",
   "metadata": {},
   "source": [
    "There are different departments in the city. List all departments and the count of employees in each department."
   ]
  },
  {
   "cell_type": "code",
   "execution_count": 6,
   "metadata": {},
   "outputs": [],
   "source": [
    "departm_df=salaries.groupby(\"Department\").count().head()"
   ]
  },
  {
   "cell_type": "markdown",
   "metadata": {},
   "source": [
    "# Challenge 2 - Hypothesis Tests\n",
    "\n",
    "In this section of the lab, we will test whether the **hourly wage of all hourly workers** is significantly different from $30/hr. Import the correct one sample test function from scipy and perform the hypothesis test for a 95% two sided confidence interval."
   ]
  },
  {
   "cell_type": "markdown",
   "metadata": {},
   "source": [
    "#### According to what the exercice asks: \n",
    "\n",
    "I will apply One-sample, Two-sided t-test \n",
    "\n",
    "* Ho: wage hourly workers == 30\n",
    "* Ha: wage hourly workers != 30\n",
    "\n",
    "P.val thresh < 0.05 (95% confidence)\n"
   ]
  },
  {
   "cell_type": "markdown",
   "metadata": {},
   "source": [
    "By default, numpy.std returns the population standard deviation, <br/>\n",
    "in which case np.std([0,1]) is correctly reported to be 0.5. <br/>\n",
    "If you are looking for the sample standard deviation, <br/>\n",
    "you can supply an optional ddof parameter to std() <br/>\n"
   ]
  },
  {
   "cell_type": "code",
   "execution_count": 18,
   "metadata": {},
   "outputs": [
    {
     "data": {
      "text/plain": [
       "12.11257268427681"
      ]
     },
     "metadata": {},
     "output_type": "display_data"
    },
    {
     "data": {
      "text/plain": [
       "12.111817701093837"
      ]
     },
     "metadata": {},
     "output_type": "display_data"
    },
    {
     "data": {
      "text/plain": [
       "12.11257268427681"
      ]
     },
     "metadata": {},
     "output_type": "display_data"
    }
   ],
   "source": [
    "hourly_workers=salaries[salaries[\"Salary or Hourly\"]==\"Hourly\"]\n",
    "hourly_workers.head()\n",
    "#hourly_workers.describe()[\"Hourly Rate\"][2]\n",
    "display(np.std(hourly_workers[\"Hourly Rate\"],ddof=1),np.std(hourly_workers[\"Hourly Rate\"]),hourly_workers.describe()[\"Hourly Rate\"][2])"
   ]
  },
  {
   "cell_type": "code",
   "execution_count": 19,
   "metadata": {},
   "outputs": [
    {
     "name": "stdout",
     "output_type": "stream",
     "text": [
      "30 32.78855771628128 12.11257268427681 8022\n"
     ]
    }
   ],
   "source": [
    "mu = 30       # media poblacional\n",
    "mu_hat = hourly_workers[\"Hourly Rate\"].mean()    # media muestral, media del experimento\n",
    "std_hat = np.std(hourly_workers[\"Hourly Rate\"],ddof=1)  # std muestral, std del experimento\n",
    "n = len(hourly_workers)         # tamaño de la muestr\n",
    "                 \n",
    "Ho= \"wage hourly workers == 30\"\n",
    "Ha= \"wage hourly workers != 30\"\n",
    "\n",
    "print(mu, mu_hat, std_hat, n)"
   ]
  },
  {
   "cell_type": "code",
   "execution_count": 20,
   "metadata": {},
   "outputs": [
    {
     "data": {
      "image/png": "[encoded data removed]",
      "text/plain": [
       "<Figure size 640x480 with 1 Axes>"
      ]
     },
     "metadata": {},
     "output_type": "display_data"
    }
   ],
   "source": [
    "sns.histplot(hourly_workers[\"Hourly Rate\"]);\n",
    "#from scipy.stats import shapiro\n",
    "#shapiro(hourly_workers[\"Hourly Rate\"])  # es normal, NO puedo rechazar H0"
   ]
  },
  {
   "cell_type": "code",
   "execution_count": 21,
   "metadata": {},
   "outputs": [],
   "source": [
    "from scipy.stats import ttest_1samp  # testeo de una muestra frente a poblacion\n",
    "t_test = ttest_1samp(hourly_workers[\"Hourly Rate\"], 30, alternative='two-sided')"
   ]
  },
  {
   "cell_type": "code",
   "execution_count": 22,
   "metadata": {},
   "outputs": [
    {
     "name": "stdout",
     "output_type": "stream",
     "text": [
      "4.3230240486229894e-92, We reject the Ho thus, wage hourly workers != 30\n"
     ]
    }
   ],
   "source": [
    "if (t_test.pvalue < 0.05):\n",
    "    print(f'{t_test.pvalue}, We reject the Ho thus, {Ha}')\n",
    "else:\n",
    "    print(f'{t_test.pvalue}, We cannot reject Ho i.e., {Ho}')"
   ]
  },
  {
   "cell_type": "markdown",
   "metadata": {},
   "source": [
    "We are also curious about salaries in the police force. The chief of police in Chicago claimed in a press briefing that **salaries this year are higher than last year's mean of $86000/year a year for all salaried** employees. Test this one sided hypothesis using a 95% confidence interval.\n",
    "\n",
    "Hint: A one tailed test has a p-value that is half of the two tailed p-value. If our hypothesis is greater than, then to reject, the test statistic must also be positive."
   ]
  },
  {
   "cell_type": "markdown",
   "metadata": {},
   "source": [
    "#### According to what the exercice asks: \n",
    "\n",
    "I will apply One-sample, One-sided t-test (less)\n",
    "\n",
    "* Ho: year salary of salaried workers >= 86,000\n",
    "* Ha: year salary of salaried workers < 86,000\n",
    "\n",
    "P.val thresh < 0.05 (95% confidence)\n",
    "\n"
   ]
  },
  {
   "cell_type": "code",
   "execution_count": 26,
   "metadata": {},
   "outputs": [
    {
     "data": {
      "text/html": [
       "<div>\n",
       "<style scoped>\n",
       "    .dataframe tbody tr th:only-of-type {\n",
       "        vertical-align: middle;\n",
       "    }\n",
       "\n",
       "    .dataframe tbody tr th {\n",
       "        vertical-align: top;\n",
       "    }\n",
       "\n",
       "    .dataframe thead th {\n",
       "        text-align: right;\n",
       "    }\n",
       "</style>\n",
       "<table border=\"1\" class=\"dataframe\">\n",
       "  <thead>\n",
       "    <tr style=\"text-align: right;\">\n",
       "      <th></th>\n",
       "      <th>Name</th>\n",
       "      <th>Job Titles</th>\n",
       "      <th>Department</th>\n",
       "      <th>Full or Part-Time</th>\n",
       "      <th>Salary or Hourly</th>\n",
       "      <th>Typical Hours</th>\n",
       "      <th>Annual Salary</th>\n",
       "      <th>Hourly Rate</th>\n",
       "    </tr>\n",
       "  </thead>\n",
       "  <tbody>\n",
       "    <tr>\n",
       "      <th>0</th>\n",
       "      <td>AARON,  JEFFERY M</td>\n",
       "      <td>SERGEANT</td>\n",
       "      <td>POLICE</td>\n",
       "      <td>F</td>\n",
       "      <td>Salary</td>\n",
       "      <td>NaN</td>\n",
       "      <td>101442.0</td>\n",
       "      <td>NaN</td>\n",
       "    </tr>\n",
       "    <tr>\n",
       "      <th>1</th>\n",
       "      <td>AARON,  KARINA</td>\n",
       "      <td>POLICE OFFICER (ASSIGNED AS DETECTIVE)</td>\n",
       "      <td>POLICE</td>\n",
       "      <td>F</td>\n",
       "      <td>Salary</td>\n",
       "      <td>NaN</td>\n",
       "      <td>94122.0</td>\n",
       "      <td>NaN</td>\n",
       "    </tr>\n",
       "    <tr>\n",
       "      <th>9</th>\n",
       "      <td>ABBATE,  TERRY M</td>\n",
       "      <td>POLICE OFFICER</td>\n",
       "      <td>POLICE</td>\n",
       "      <td>F</td>\n",
       "      <td>Salary</td>\n",
       "      <td>NaN</td>\n",
       "      <td>93354.0</td>\n",
       "      <td>NaN</td>\n",
       "    </tr>\n",
       "    <tr>\n",
       "      <th>11</th>\n",
       "      <td>ABDALLAH,  ZAID</td>\n",
       "      <td>POLICE OFFICER</td>\n",
       "      <td>POLICE</td>\n",
       "      <td>F</td>\n",
       "      <td>Salary</td>\n",
       "      <td>NaN</td>\n",
       "      <td>84054.0</td>\n",
       "      <td>NaN</td>\n",
       "    </tr>\n",
       "    <tr>\n",
       "      <th>12</th>\n",
       "      <td>ABDELHADI,  ABDALMAHD</td>\n",
       "      <td>POLICE OFFICER</td>\n",
       "      <td>POLICE</td>\n",
       "      <td>F</td>\n",
       "      <td>Salary</td>\n",
       "      <td>NaN</td>\n",
       "      <td>87006.0</td>\n",
       "      <td>NaN</td>\n",
       "    </tr>\n",
       "    <tr>\n",
       "      <th>...</th>\n",
       "      <td>...</td>\n",
       "      <td>...</td>\n",
       "      <td>...</td>\n",
       "      <td>...</td>\n",
       "      <td>...</td>\n",
       "      <td>...</td>\n",
       "      <td>...</td>\n",
       "      <td>...</td>\n",
       "    </tr>\n",
       "    <tr>\n",
       "      <th>33177</th>\n",
       "      <td>ZYGMUNT,  DAWID</td>\n",
       "      <td>POLICE OFFICER</td>\n",
       "      <td>POLICE</td>\n",
       "      <td>F</td>\n",
       "      <td>Salary</td>\n",
       "      <td>NaN</td>\n",
       "      <td>72510.0</td>\n",
       "      <td>NaN</td>\n",
       "    </tr>\n",
       "    <tr>\n",
       "      <th>33178</th>\n",
       "      <td>ZYLINSKA,  KATARZYNA</td>\n",
       "      <td>POLICE OFFICER</td>\n",
       "      <td>POLICE</td>\n",
       "      <td>F</td>\n",
       "      <td>Salary</td>\n",
       "      <td>NaN</td>\n",
       "      <td>72510.0</td>\n",
       "      <td>NaN</td>\n",
       "    </tr>\n",
       "    <tr>\n",
       "      <th>33179</th>\n",
       "      <td>ZYMANTAS,  LAURA C</td>\n",
       "      <td>POLICE OFFICER</td>\n",
       "      <td>POLICE</td>\n",
       "      <td>F</td>\n",
       "      <td>Salary</td>\n",
       "      <td>NaN</td>\n",
       "      <td>48078.0</td>\n",
       "      <td>NaN</td>\n",
       "    </tr>\n",
       "    <tr>\n",
       "      <th>33180</th>\n",
       "      <td>ZYMANTAS,  MARK E</td>\n",
       "      <td>POLICE OFFICER</td>\n",
       "      <td>POLICE</td>\n",
       "      <td>F</td>\n",
       "      <td>Salary</td>\n",
       "      <td>NaN</td>\n",
       "      <td>90024.0</td>\n",
       "      <td>NaN</td>\n",
       "    </tr>\n",
       "    <tr>\n",
       "      <th>33181</th>\n",
       "      <td>ZYRKOWSKI,  CARLO E</td>\n",
       "      <td>POLICE OFFICER</td>\n",
       "      <td>POLICE</td>\n",
       "      <td>F</td>\n",
       "      <td>Salary</td>\n",
       "      <td>NaN</td>\n",
       "      <td>93354.0</td>\n",
       "      <td>NaN</td>\n",
       "    </tr>\n",
       "  </tbody>\n",
       "</table>\n",
       "<p>13406 rows × 8 columns</p>\n",
       "</div>"
      ],
      "text/plain": [
       "                         Name                              Job Titles  \\\n",
       "0           AARON,  JEFFERY M                                SERGEANT   \n",
       "1             AARON,  KARINA   POLICE OFFICER (ASSIGNED AS DETECTIVE)   \n",
       "9            ABBATE,  TERRY M                          POLICE OFFICER   \n",
       "11           ABDALLAH,  ZAID                           POLICE OFFICER   \n",
       "12     ABDELHADI,  ABDALMAHD                           POLICE OFFICER   \n",
       "...                       ...                                     ...   \n",
       "33177        ZYGMUNT,  DAWID                           POLICE OFFICER   \n",
       "33178   ZYLINSKA,  KATARZYNA                           POLICE OFFICER   \n",
       "33179      ZYMANTAS,  LAURA C                          POLICE OFFICER   \n",
       "33180       ZYMANTAS,  MARK E                          POLICE OFFICER   \n",
       "33181     ZYRKOWSKI,  CARLO E                          POLICE OFFICER   \n",
       "\n",
       "      Department Full or Part-Time Salary or Hourly  Typical Hours  \\\n",
       "0         POLICE                 F           Salary            NaN   \n",
       "1         POLICE                 F           Salary            NaN   \n",
       "9         POLICE                 F           Salary            NaN   \n",
       "11        POLICE                 F           Salary            NaN   \n",
       "12        POLICE                 F           Salary            NaN   \n",
       "...          ...               ...              ...            ...   \n",
       "33177     POLICE                 F           Salary            NaN   \n",
       "33178     POLICE                 F           Salary            NaN   \n",
       "33179     POLICE                 F           Salary            NaN   \n",
       "33180     POLICE                 F           Salary            NaN   \n",
       "33181     POLICE                 F           Salary            NaN   \n",
       "\n",
       "       Annual Salary  Hourly Rate  \n",
       "0           101442.0          NaN  \n",
       "1            94122.0          NaN  \n",
       "9            93354.0          NaN  \n",
       "11           84054.0          NaN  \n",
       "12           87006.0          NaN  \n",
       "...              ...          ...  \n",
       "33177        72510.0          NaN  \n",
       "33178        72510.0          NaN  \n",
       "33179        48078.0          NaN  \n",
       "33180        90024.0          NaN  \n",
       "33181        93354.0          NaN  \n",
       "\n",
       "[13406 rows x 8 columns]"
      ]
     },
     "execution_count": 26,
     "metadata": {},
     "output_type": "execute_result"
    }
   ],
   "source": [
    "police=salaries[(salaries.Department ==\"POLICE\") | (salaries.Department ==\"POLICE BOARD\")]\n",
    "police\n",
    "\n",
    "police[police[\"Salary or Hourly\"]==\"Salary\"]\n",
    "police=police[police[\"Salary or Hourly\"]==\"Salary\"]\n",
    "\n",
    "police"
   ]
  },
  {
   "cell_type": "markdown",
   "metadata": {},
   "source": [
    "Using the `crosstab` function, find the department that has the most hourly workers. "
   ]
  },
  {
   "cell_type": "code",
   "execution_count": 27,
   "metadata": {
    "scrolled": true
   },
   "outputs": [
    {
     "name": "stdout",
     "output_type": "stream",
     "text": [
      "86000 86486.36222586902 18272.44306756898 13406\n"
     ]
    }
   ],
   "source": [
    "mu = 86_000       # media poblacional\n",
    "mu_hat = police[\"Annual Salary\"].mean()    # media muestral, media del experimento\n",
    "std_hat = np.std(police[\"Annual Salary\"],ddof=1)  # std muestral, std del experimento\n",
    "n = len(police)         # tamaño de la muestr\n",
    "\n",
    "Ho= \"year salary of salaried workers >= 86,000\"\n",
    "Ha= \"year salary of salaried workers < 86,000\" # less\n",
    "\n",
    "print(mu, mu_hat, std_hat, n)\n"
   ]
  },
  {
   "cell_type": "code",
   "execution_count": 28,
   "metadata": {},
   "outputs": [
    {
     "data": {
      "image/png": "[encoded data removed]",
      "text/plain": [
       "<Figure size 640x480 with 1 Axes>"
      ]
     },
     "metadata": {},
     "output_type": "display_data"
    }
   ],
   "source": [
    "sns.histplot(salaried_workers[\"Annual Salary\"]);\n",
    "#from scipy.stats import shapiro\n",
    "#shapiro(salaried_workers[\"Annual Salary\"])  # es normal, NO puedo rechazar H0"
   ]
  },
  {
   "cell_type": "code",
   "execution_count": 29,
   "metadata": {},
   "outputs": [],
   "source": [
    "from scipy.stats import ttest_1samp  # testeo de una muestra frente a poblacion\n",
    "t_test = ttest_1samp(police[\"Annual Salary\"], 86000, alternative='less')"
   ]
  },
  {
   "cell_type": "code",
   "execution_count": 30,
   "metadata": {},
   "outputs": [
    {
     "name": "stdout",
     "output_type": "stream",
     "text": [
      "0.9989693542994336, We cannot reject Ho i.e., year salary of salaried workers >= 86,000\n"
     ]
    }
   ],
   "source": [
    "if (t_test.pvalue < 0.05):\n",
    "    print(f'{t_test.pvalue}, We reject the Ho thus, {Ha}')\n",
    "else:\n",
    "    print(f'{t_test.pvalue}, We cannot reject Ho i.e., {Ho}')"
   ]
  },
  {
   "cell_type": "markdown",
   "metadata": {},
   "source": [
    "The workers from the department with the **most hourly workers** have complained that their **hourly wage is less than $35/hour**. Using a one sample t-test, test this one-sided hypothesis at the 95% confidence level."
   ]
  },
  {
   "cell_type": "code",
   "execution_count": 33,
   "metadata": {},
   "outputs": [
    {
     "data": {
      "text/html": [
       "<div>\n",
       "<style scoped>\n",
       "    .dataframe tbody tr th:only-of-type {\n",
       "        vertical-align: middle;\n",
       "    }\n",
       "\n",
       "    .dataframe tbody tr th {\n",
       "        vertical-align: top;\n",
       "    }\n",
       "\n",
       "    .dataframe thead th {\n",
       "        text-align: right;\n",
       "    }\n",
       "</style>\n",
       "<table border=\"1\" class=\"dataframe\">\n",
       "  <thead>\n",
       "    <tr style=\"text-align: right;\">\n",
       "      <th></th>\n",
       "      <th></th>\n",
       "      <th>Hourly</th>\n",
       "    </tr>\n",
       "    <tr>\n",
       "      <th></th>\n",
       "      <th>Department</th>\n",
       "      <th></th>\n",
       "    </tr>\n",
       "  </thead>\n",
       "  <tbody>\n",
       "    <tr>\n",
       "      <th>Hourly Rate</th>\n",
       "      <th>STREETS &amp; SAN</th>\n",
       "      <td>1862.0</td>\n",
       "    </tr>\n",
       "    <tr>\n",
       "      <th>Typical Hours</th>\n",
       "      <th>STREETS &amp; SAN</th>\n",
       "      <td>1862.0</td>\n",
       "    </tr>\n",
       "    <tr>\n",
       "      <th>Full or Part-Time</th>\n",
       "      <th>STREETS &amp; SAN</th>\n",
       "      <td>1862.0</td>\n",
       "    </tr>\n",
       "    <tr>\n",
       "      <th>Job Titles</th>\n",
       "      <th>STREETS &amp; SAN</th>\n",
       "      <td>1862.0</td>\n",
       "    </tr>\n",
       "    <tr>\n",
       "      <th>Name</th>\n",
       "      <th>STREETS &amp; SAN</th>\n",
       "      <td>1862.0</td>\n",
       "    </tr>\n",
       "    <tr>\n",
       "      <th>...</th>\n",
       "      <th>...</th>\n",
       "      <td>...</td>\n",
       "    </tr>\n",
       "    <tr>\n",
       "      <th rowspan=\"5\" valign=\"top\">Typical Hours</th>\n",
       "      <th>HUMAN RELATIONS</th>\n",
       "      <td>NaN</td>\n",
       "    </tr>\n",
       "    <tr>\n",
       "      <th>INSPECTOR GEN</th>\n",
       "      <td>NaN</td>\n",
       "    </tr>\n",
       "    <tr>\n",
       "      <th>LICENSE APPL COMM</th>\n",
       "      <td>NaN</td>\n",
       "    </tr>\n",
       "    <tr>\n",
       "      <th>POLICE BOARD</th>\n",
       "      <td>NaN</td>\n",
       "    </tr>\n",
       "    <tr>\n",
       "      <th>TREASURER</th>\n",
       "      <td>NaN</td>\n",
       "    </tr>\n",
       "  </tbody>\n",
       "</table>\n",
       "<p>210 rows × 1 columns</p>\n",
       "</div>"
      ],
      "text/plain": [
       "                                     Hourly\n",
       "                  Department               \n",
       "Hourly Rate       STREETS & SAN      1862.0\n",
       "Typical Hours     STREETS & SAN      1862.0\n",
       "Full or Part-Time STREETS & SAN      1862.0\n",
       "Job Titles        STREETS & SAN      1862.0\n",
       "Name              STREETS & SAN      1862.0\n",
       "...                                     ...\n",
       "Typical Hours     HUMAN RELATIONS       NaN\n",
       "                  INSPECTOR GEN         NaN\n",
       "                  LICENSE APPL COMM     NaN\n",
       "                  POLICE BOARD          NaN\n",
       "                  TREASURER             NaN\n",
       "\n",
       "[210 rows x 1 columns]"
      ]
     },
     "execution_count": 33,
     "metadata": {},
     "output_type": "execute_result"
    }
   ],
   "source": [
    "sal_dep_df=salaries.pivot_table(columns=(\"Department\"), index=(\"Salary or Hourly\"), aggfunc=\"count\").T\n",
    "sal_dep_df2=pd.DataFrame(sal_dep_df[\"Hourly\"].sort_values(ascending=False))\n",
    "sal_dep_df2"
   ]
  },
  {
   "cell_type": "code",
   "execution_count": 35,
   "metadata": {},
   "outputs": [
    {
     "data": {
      "text/html": [
       "<div>\n",
       "<style scoped>\n",
       "    .dataframe tbody tr th:only-of-type {\n",
       "        vertical-align: middle;\n",
       "    }\n",
       "\n",
       "    .dataframe tbody tr th {\n",
       "        vertical-align: top;\n",
       "    }\n",
       "\n",
       "    .dataframe thead th {\n",
       "        text-align: right;\n",
       "    }\n",
       "</style>\n",
       "<table border=\"1\" class=\"dataframe\">\n",
       "  <thead>\n",
       "    <tr style=\"text-align: right;\">\n",
       "      <th></th>\n",
       "      <th>Name</th>\n",
       "      <th>Job Titles</th>\n",
       "      <th>Department</th>\n",
       "      <th>Full or Part-Time</th>\n",
       "      <th>Salary or Hourly</th>\n",
       "      <th>Typical Hours</th>\n",
       "      <th>Annual Salary</th>\n",
       "      <th>Hourly Rate</th>\n",
       "    </tr>\n",
       "  </thead>\n",
       "  <tbody>\n",
       "    <tr>\n",
       "      <th>7</th>\n",
       "      <td>ABBATE,  JOSEPH L</td>\n",
       "      <td>POOL MOTOR TRUCK DRIVER</td>\n",
       "      <td>STREETS &amp; SAN</td>\n",
       "      <td>F</td>\n",
       "      <td>Hourly</td>\n",
       "      <td>40.0</td>\n",
       "      <td>NaN</td>\n",
       "      <td>35.60</td>\n",
       "    </tr>\n",
       "    <tr>\n",
       "      <th>21</th>\n",
       "      <td>ABDUL-SHAKUR,  TAHIR</td>\n",
       "      <td>GENERAL LABORER - DSS</td>\n",
       "      <td>STREETS &amp; SAN</td>\n",
       "      <td>F</td>\n",
       "      <td>Hourly</td>\n",
       "      <td>40.0</td>\n",
       "      <td>NaN</td>\n",
       "      <td>21.43</td>\n",
       "    </tr>\n",
       "    <tr>\n",
       "      <th>24</th>\n",
       "      <td>ABERCROMBIE,  TIMOTHY</td>\n",
       "      <td>MOTOR TRUCK DRIVER</td>\n",
       "      <td>STREETS &amp; SAN</td>\n",
       "      <td>F</td>\n",
       "      <td>Hourly</td>\n",
       "      <td>40.0</td>\n",
       "      <td>NaN</td>\n",
       "      <td>35.60</td>\n",
       "    </tr>\n",
       "    <tr>\n",
       "      <th>36</th>\n",
       "      <td>ABRAMS,  DANIELLE T</td>\n",
       "      <td>SANITATION LABORER</td>\n",
       "      <td>STREETS &amp; SAN</td>\n",
       "      <td>F</td>\n",
       "      <td>Hourly</td>\n",
       "      <td>40.0</td>\n",
       "      <td>NaN</td>\n",
       "      <td>36.21</td>\n",
       "    </tr>\n",
       "    <tr>\n",
       "      <th>39</th>\n",
       "      <td>ABRAMS,  SAMUEL A</td>\n",
       "      <td>POOL MOTOR TRUCK DRIVER</td>\n",
       "      <td>STREETS &amp; SAN</td>\n",
       "      <td>F</td>\n",
       "      <td>Hourly</td>\n",
       "      <td>40.0</td>\n",
       "      <td>NaN</td>\n",
       "      <td>35.60</td>\n",
       "    </tr>\n",
       "    <tr>\n",
       "      <th>...</th>\n",
       "      <td>...</td>\n",
       "      <td>...</td>\n",
       "      <td>...</td>\n",
       "      <td>...</td>\n",
       "      <td>...</td>\n",
       "      <td>...</td>\n",
       "      <td>...</td>\n",
       "      <td>...</td>\n",
       "    </tr>\n",
       "    <tr>\n",
       "      <th>33107</th>\n",
       "      <td>ZIZUMBO,  LUIS</td>\n",
       "      <td>MOTOR TRUCK DRIVER</td>\n",
       "      <td>STREETS &amp; SAN</td>\n",
       "      <td>F</td>\n",
       "      <td>Hourly</td>\n",
       "      <td>40.0</td>\n",
       "      <td>NaN</td>\n",
       "      <td>35.60</td>\n",
       "    </tr>\n",
       "    <tr>\n",
       "      <th>33147</th>\n",
       "      <td>ZUMMO,  ROBERT J</td>\n",
       "      <td>MOTOR TRUCK DRIVER</td>\n",
       "      <td>STREETS &amp; SAN</td>\n",
       "      <td>F</td>\n",
       "      <td>Hourly</td>\n",
       "      <td>40.0</td>\n",
       "      <td>NaN</td>\n",
       "      <td>35.60</td>\n",
       "    </tr>\n",
       "    <tr>\n",
       "      <th>33149</th>\n",
       "      <td>ZUNICH,  JONATHAN G</td>\n",
       "      <td>SANITATION LABORER</td>\n",
       "      <td>STREETS &amp; SAN</td>\n",
       "      <td>F</td>\n",
       "      <td>Hourly</td>\n",
       "      <td>40.0</td>\n",
       "      <td>NaN</td>\n",
       "      <td>36.21</td>\n",
       "    </tr>\n",
       "    <tr>\n",
       "      <th>33156</th>\n",
       "      <td>ZUNIGA,  THOMAS</td>\n",
       "      <td>GENERAL LABORER - DSS</td>\n",
       "      <td>STREETS &amp; SAN</td>\n",
       "      <td>F</td>\n",
       "      <td>Hourly</td>\n",
       "      <td>40.0</td>\n",
       "      <td>NaN</td>\n",
       "      <td>22.12</td>\n",
       "    </tr>\n",
       "    <tr>\n",
       "      <th>33162</th>\n",
       "      <td>ZURAWSKI,  MAC Z</td>\n",
       "      <td>REFUSE COLLECTION COORD</td>\n",
       "      <td>STREETS &amp; SAN</td>\n",
       "      <td>F</td>\n",
       "      <td>Salary</td>\n",
       "      <td>NaN</td>\n",
       "      <td>76896.0</td>\n",
       "      <td>NaN</td>\n",
       "    </tr>\n",
       "  </tbody>\n",
       "</table>\n",
       "<p>2198 rows × 8 columns</p>\n",
       "</div>"
      ],
      "text/plain": [
       "                         Name               Job Titles     Department  \\\n",
       "7          ABBATE,  JOSEPH L   POOL MOTOR TRUCK DRIVER  STREETS & SAN   \n",
       "21      ABDUL-SHAKUR,  TAHIR     GENERAL LABORER - DSS  STREETS & SAN   \n",
       "24     ABERCROMBIE,  TIMOTHY        MOTOR TRUCK DRIVER  STREETS & SAN   \n",
       "36        ABRAMS,  DANIELLE T       SANITATION LABORER  STREETS & SAN   \n",
       "39          ABRAMS,  SAMUEL A  POOL MOTOR TRUCK DRIVER  STREETS & SAN   \n",
       "...                       ...                      ...            ...   \n",
       "33107         ZIZUMBO,  LUIS        MOTOR TRUCK DRIVER  STREETS & SAN   \n",
       "33147        ZUMMO,  ROBERT J       MOTOR TRUCK DRIVER  STREETS & SAN   \n",
       "33149     ZUNICH,  JONATHAN G       SANITATION LABORER  STREETS & SAN   \n",
       "33156        ZUNIGA,  THOMAS     GENERAL LABORER - DSS  STREETS & SAN   \n",
       "33162       ZURAWSKI,  MAC Z   REFUSE COLLECTION COORD  STREETS & SAN   \n",
       "\n",
       "      Full or Part-Time Salary or Hourly  Typical Hours  Annual Salary  \\\n",
       "7                     F           Hourly           40.0            NaN   \n",
       "21                    F           Hourly           40.0            NaN   \n",
       "24                    F           Hourly           40.0            NaN   \n",
       "36                    F           Hourly           40.0            NaN   \n",
       "39                    F           Hourly           40.0            NaN   \n",
       "...                 ...              ...            ...            ...   \n",
       "33107                 F           Hourly           40.0            NaN   \n",
       "33147                 F           Hourly           40.0            NaN   \n",
       "33149                 F           Hourly           40.0            NaN   \n",
       "33156                 F           Hourly           40.0            NaN   \n",
       "33162                 F           Salary            NaN        76896.0   \n",
       "\n",
       "       Hourly Rate  \n",
       "7            35.60  \n",
       "21           21.43  \n",
       "24           35.60  \n",
       "36           36.21  \n",
       "39           35.60  \n",
       "...            ...  \n",
       "33107        35.60  \n",
       "33147        35.60  \n",
       "33149        36.21  \n",
       "33156        22.12  \n",
       "33162          NaN  \n",
       "\n",
       "[2198 rows x 8 columns]"
      ]
     },
     "execution_count": 35,
     "metadata": {},
     "output_type": "execute_result"
    }
   ],
   "source": [
    "dep_workers=salaries[salaries[\"Department\"]==\"STREETS & SAN\"]\n",
    "dep_workers"
   ]
  },
  {
   "cell_type": "code",
   "execution_count": 36,
   "metadata": {},
   "outputs": [
    {
     "name": "stdout",
     "output_type": "stream",
     "text": [
      "35 33.728378088076845 5.735241841459193 1862\n"
     ]
    }
   ],
   "source": [
    "mu = 35   # media poblacional\n",
    "mu_hat = dep_workers[\"Hourly Rate\"][~dep_workers[\"Hourly Rate\"].isna()].mean()    # media muestral, media del experimento\n",
    "std_hat = np.std(dep_workers[\"Hourly Rate\"][~dep_workers[\"Hourly Rate\"].isna()],ddof=1)  # std muestral, std del experimento\n",
    "n = len(dep_workers[\"Hourly Rate\"][~dep_workers[\"Hourly Rate\"].isna()])         # tamaño de la muestr\n",
    "\n",
    "Ho= \"hourly salary of STREETS & SAN workers > 35\" \n",
    "Ha= \"hourly salary of STREETS & SAN workers <= 35\" # less\n",
    "\n",
    "print(mu, mu_hat, std_hat, n)\n"
   ]
  },
  {
   "cell_type": "code",
   "execution_count": 37,
   "metadata": {},
   "outputs": [],
   "source": [
    "from scipy.stats import ttest_1samp  # testeo de una muestra frente a poblacion\n",
    "t_test = ttest_1samp(dep_workers[\"Hourly Rate\"][~dep_workers[\"Hourly Rate\"].isna()], 35, alternative='less')"
   ]
  },
  {
   "cell_type": "code",
   "execution_count": 38,
   "metadata": {},
   "outputs": [
    {
     "name": "stdout",
     "output_type": "stream",
     "text": [
      "1.6689265282353859e-21, We reject the Ho thus, hourly salary of STREETS & SAN workers <= 35\n"
     ]
    }
   ],
   "source": [
    "if (t_test.pvalue < 0.05):\n",
    "    print(f'{t_test.pvalue}, We reject the Ho thus, {Ha}')\n",
    "else:\n",
    "    print(f'{t_test.pvalue}, We cannot reject Ho i.e., {Ho}')"
   ]
  },
  {
   "cell_type": "markdown",
   "metadata": {},
   "source": [
    "# Challenge 3 - Constructing Confidence Intervals\n",
    "\n",
    "While testing our hypothesis is a great way to gather empirical evidence for accepting or rejecting the hypothesis, another way to gather evidence is by creating a confidence interval. A confidence interval gives us information about the true mean of the population. So for a 95% confidence interval, we are 95% sure that the mean of the population is within the confidence interval. \n",
    ").\n",
    "\n",
    "To read more about confidence intervals, click [here](https://en.wikipedia.org/wiki/Confidence_interval).\n",
    "\n",
    "\n",
    "In the cell below, we will construct a 95% confidence interval for the mean hourly wage of all hourly workers. \n",
    "\n",
    "The confidence interval is computed in SciPy using the `t.interval` function. You can read more about this function [here](https://docs.scipy.org/doc/scipy-0.14.0/reference/generated/scipy.stats.t.html).\n",
    "\n",
    "To compute the confidence interval of the hourly wage, use the 0.95 for the confidence level, number of rows - 1 for degrees of freedom, the mean of the sample for the location parameter and the standard error for the scale. The standard error can be computed using [this](https://docs.scipy.org/doc/scipy/reference/generated/scipy.stats.sem.html) function in SciPy."
   ]
  },
  {
   "cell_type": "code",
   "execution_count": 40,
   "metadata": {},
   "outputs": [],
   "source": [
    "hourly_sal=salaries[salaries[\"Salary or Hourly\"]==\"Hourly\"][\"Hourly Rate\"]"
   ]
  },
  {
   "cell_type": "code",
   "execution_count": 41,
   "metadata": {},
   "outputs": [],
   "source": [
    "from scipy.stats import sem   # error standard\n",
    "\n",
    "err_std=sem(hourly_sal)"
   ]
  },
  {
   "cell_type": "markdown",
   "metadata": {},
   "source": [
    "Now construct the 95% confidence interval for all salaried employeed in the police in the cell below."
   ]
  },
  {
   "cell_type": "code",
   "execution_count": 43,
   "metadata": {},
   "outputs": [
    {
     "data": {
      "text/plain": [
       "(32.52345834488529, 33.05365708767727)"
      ]
     },
     "execution_count": 43,
     "metadata": {},
     "output_type": "execute_result"
    }
   ],
   "source": [
    "t.interval(0.95,                 # alfa = 1 - pvalor, confianza\n",
    "           len(hourly_sal)-1,     #  N-1, dof\n",
    "           loc=hourly_sal.mean(),\n",
    "           scale=err_std\n",
    "           )\n"
   ]
  },
  {
   "cell_type": "markdown",
   "metadata": {},
   "source": [
    "# Challenge 4 - Hypothesis Tests of Proportions\n",
    "\n",
    "Another type of one sample test is a hypothesis test of proportions. In this test, we examine whether the proportion of a group in our sample is significantly different than a fraction. \n",
    "\n",
    "You can read more about one sample proportion tests [here](http://sphweb.bumc.bu.edu/otlt/MPH-Modules/BS/SAS/SAS6-CategoricalData/SAS6-CategoricalData2.html).\n",
    "\n",
    "In the cell below, use the `proportions_ztest` function from `statsmodels` to perform a hypothesis test that will determine whether the **number of hourly workers** in the City of Chicago is significantly different **from 25% at the 95% confidence level.**"
   ]
  },
  {
   "cell_type": "code",
   "execution_count": 171,
   "metadata": {},
   "outputs": [],
   "source": [
    "from statsmodels.stats.proportion import proportions_ztest"
   ]
  },
  {
   "cell_type": "code",
   "execution_count": 180,
   "metadata": {},
   "outputs": [
    {
     "name": "stdout",
     "output_type": "stream",
     "text": [
      "33183 24.17502938251514 8022 25161\n"
     ]
    }
   ],
   "source": [
    "# ¿la proporcion de a es distinta del 50%?\n",
    "\n",
    "salaried_workers=salaries[salaries[\"Salary or Hourly\"]==\"Salary\"]\n",
    "hourly_workers=salaries[salaries[\"Salary or Hourly\"]==\"Hourly\"]\n",
    "\n",
    "total=len(salaried_workers)+len(hourly_workers)\n",
    "hourly_perc= (len(hourly_workers)*100)/total\n",
    "\n",
    "print(total, hourly_perc, len(hourly_workers), len(salaried_workers))"
   ]
  },
  {
   "cell_type": "code",
   "execution_count": 183,
   "metadata": {},
   "outputs": [
    {
     "name": "stdout",
     "output_type": "stream",
     "text": [
      "0.0004481127249057967, We cannot reject Ho\n"
     ]
    }
   ],
   "source": [
    "# H0 : es igual\n",
    "# H1 : es distinta la proporcion\n",
    "\n",
    "zprop= proportions_ztest(len(hourly_workers), # the number of successes in nobs trials.\n",
    "                                    total,  # numero total de elementos\n",
    "                                    0.25           # proporcion\n",
    "                                   ) \n",
    "\n",
    "\n",
    "\n",
    "if (t_test.pvalue < 0.05):\n",
    "    print(f'{zprop[1]}, We reject the Ho thus, NOT EQUAL 25%')\n",
    "else:\n",
    "    print(f'{zprop[1]}, We cannot reject Ho')"
   ]
  }
 ],
 "metadata": {
  "kernelspec": {
   "display_name": "Python 3 (ipykernel)",
   "language": "python",
   "name": "python3"
  },
  "language_info": {
   "codemirror_mode": {
    "name": "ipython",
    "version": 3
   },
   "file_extension": ".py",
   "mimetype": "text/x-python",
   "name": "python",
   "nbconvert_exporter": "python",
   "pygments_lexer": "ipython3",
   "version": "3.7.16"
  }
 },
 "nbformat": 4,
 "nbformat_minor": 2
}
