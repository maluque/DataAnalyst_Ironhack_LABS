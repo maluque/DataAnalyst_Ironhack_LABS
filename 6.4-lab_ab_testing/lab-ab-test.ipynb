{
 "cells": [
  {
   "cell_type": "markdown",
   "id": "angry-pearl",
   "metadata": {
    "toc": true
   },
   "source": [
    "<h1>Table of Contents<span class=\"tocSkip\"></span></h1>\n",
    "<div class=\"toc\"><ul class=\"toc-item\"><li><span><a href=\"#AB-Testing\" data-toc-modified-id=\"AB-Testing-1\"><span class=\"toc-item-num\">1&nbsp;&nbsp;</span>AB-Testing</a></span></li></ul></div>"
   ]
  },
  {
   "cell_type": "markdown",
   "id": "c92ba6e0",
   "metadata": {},
   "source": [
    "# AB-Testing\n",
    "\n",
    "![cats](images/cats.jpeg)\n",
    "\n",
    "\n",
    "Imaginad que somos los cientificos de datos de la empresa de videojuegos Tactile Entertainment. Los desarrolladores del juego Cookie Cats pretenden introducir un cambio en el juego para aumentar la retencion de los jugadores. En cierto nivel del juego los jugadores se encuentran una puerta que les obliga a esperar o a pagar la app. Actualmente la puerta se encuentra en nivel 30 y se pretende pasar al nivel 40, para comprobar la retencion a 1 y 7 dias. Antes de realizar el cambio definitivo en el juego se raliza un test AB.\n",
    "\n",
    "Los datos estan alojados en `data/cookie_cats.csv`. Nuestro grupo de control sera la version actual `gate_30` y el grupo de tratamiento sera la version `gate_40`. Debemos realizar el test para 1 dia de retencion `retention_1` y para 7 dias `retention_7`."
   ]
  },
  {
   "cell_type": "code",
   "execution_count": 48,
   "id": "ac3b2f52",
   "metadata": {},
   "outputs": [],
   "source": [
    "# librerias\n",
    "\n",
    "import pandas as pd\n",
    "import numpy as np\n",
    "\n",
    "from statsmodels.stats.proportion import proportions_ztest, proportion_confint\n",
    "from scipy.stats import norm, sem\n",
    "\n",
    "import pylab as plt\n",
    "\n",
    "import warnings\n",
    "warnings.simplefilter('ignore')\n",
    "\n",
    "\n",
    "import numpy as np\n",
    "import pylab as plt\n",
    "plt.rcParams['figure.figsize']=(15, 8)\n",
    "\n",
    "from scipy.stats import bernoulli, beta   \n",
    "\n",
    "\n",
    "import bayes"
   ]
  },
  {
   "cell_type": "code",
   "execution_count": 116,
   "id": "7fe515c2",
   "metadata": {},
   "outputs": [
    {
     "data": {
      "text/html": [
       "<div>\n",
       "<style scoped>\n",
       "    .dataframe tbody tr th:only-of-type {\n",
       "        vertical-align: middle;\n",
       "    }\n",
       "\n",
       "    .dataframe tbody tr th {\n",
       "        vertical-align: top;\n",
       "    }\n",
       "\n",
       "    .dataframe thead th {\n",
       "        text-align: right;\n",
       "    }\n",
       "</style>\n",
       "<table border=\"1\" class=\"dataframe\">\n",
       "  <thead>\n",
       "    <tr style=\"text-align: right;\">\n",
       "      <th></th>\n",
       "      <th>Unnamed: 0</th>\n",
       "      <th>Unnamed: 0.1</th>\n",
       "      <th>Tiempo_Control(sec)</th>\n",
       "      <th>Clicks</th>\n",
       "      <th>Edad</th>\n",
       "      <th>Sexo</th>\n",
       "      <th>Bool_control</th>\n",
       "    </tr>\n",
       "  </thead>\n",
       "  <tbody>\n",
       "    <tr>\n",
       "      <th>0</th>\n",
       "      <td>0</td>\n",
       "      <td>0</td>\n",
       "      <td>80</td>\n",
       "      <td>14</td>\n",
       "      <td>39</td>\n",
       "      <td>F</td>\n",
       "      <td>True</td>\n",
       "    </tr>\n",
       "    <tr>\n",
       "      <th>1</th>\n",
       "      <td>1</td>\n",
       "      <td>1</td>\n",
       "      <td>120</td>\n",
       "      <td>15</td>\n",
       "      <td>41</td>\n",
       "      <td>F</td>\n",
       "      <td>False</td>\n",
       "    </tr>\n",
       "    <tr>\n",
       "      <th>2</th>\n",
       "      <td>2</td>\n",
       "      <td>2</td>\n",
       "      <td>55</td>\n",
       "      <td>20</td>\n",
       "      <td>25</td>\n",
       "      <td>F</td>\n",
       "      <td>True</td>\n",
       "    </tr>\n",
       "    <tr>\n",
       "      <th>3</th>\n",
       "      <td>3</td>\n",
       "      <td>3</td>\n",
       "      <td>35</td>\n",
       "      <td>8</td>\n",
       "      <td>30</td>\n",
       "      <td>M</td>\n",
       "      <td>True</td>\n",
       "    </tr>\n",
       "    <tr>\n",
       "      <th>4</th>\n",
       "      <td>4</td>\n",
       "      <td>4</td>\n",
       "      <td>27</td>\n",
       "      <td>7</td>\n",
       "      <td>27</td>\n",
       "      <td>F</td>\n",
       "      <td>True</td>\n",
       "    </tr>\n",
       "    <tr>\n",
       "      <th>5</th>\n",
       "      <td>5</td>\n",
       "      <td>5</td>\n",
       "      <td>99</td>\n",
       "      <td>7</td>\n",
       "      <td>68</td>\n",
       "      <td>M</td>\n",
       "      <td>False</td>\n",
       "    </tr>\n",
       "    <tr>\n",
       "      <th>6</th>\n",
       "      <td>6</td>\n",
       "      <td>6</td>\n",
       "      <td>106</td>\n",
       "      <td>9</td>\n",
       "      <td>64</td>\n",
       "      <td>M</td>\n",
       "      <td>False</td>\n",
       "    </tr>\n",
       "    <tr>\n",
       "      <th>7</th>\n",
       "      <td>7</td>\n",
       "      <td>7</td>\n",
       "      <td>86</td>\n",
       "      <td>21</td>\n",
       "      <td>32</td>\n",
       "      <td>F</td>\n",
       "      <td>False</td>\n",
       "    </tr>\n",
       "    <tr>\n",
       "      <th>8</th>\n",
       "      <td>8</td>\n",
       "      <td>8</td>\n",
       "      <td>26</td>\n",
       "      <td>8</td>\n",
       "      <td>35</td>\n",
       "      <td>F</td>\n",
       "      <td>True</td>\n",
       "    </tr>\n",
       "    <tr>\n",
       "      <th>9</th>\n",
       "      <td>9</td>\n",
       "      <td>9</td>\n",
       "      <td>70</td>\n",
       "      <td>15</td>\n",
       "      <td>34</td>\n",
       "      <td>M</td>\n",
       "      <td>True</td>\n",
       "    </tr>\n",
       "    <tr>\n",
       "      <th>10</th>\n",
       "      <td>10</td>\n",
       "      <td>10</td>\n",
       "      <td>80</td>\n",
       "      <td>17</td>\n",
       "      <td>36</td>\n",
       "      <td>M</td>\n",
       "      <td>True</td>\n",
       "    </tr>\n",
       "    <tr>\n",
       "      <th>11</th>\n",
       "      <td>11</td>\n",
       "      <td>11</td>\n",
       "      <td>80</td>\n",
       "      <td>20</td>\n",
       "      <td>40</td>\n",
       "      <td>M</td>\n",
       "      <td>True</td>\n",
       "    </tr>\n",
       "    <tr>\n",
       "      <th>12</th>\n",
       "      <td>12</td>\n",
       "      <td>12</td>\n",
       "      <td>70</td>\n",
       "      <td>14</td>\n",
       "      <td>28</td>\n",
       "      <td>F</td>\n",
       "      <td>True</td>\n",
       "    </tr>\n",
       "    <tr>\n",
       "      <th>13</th>\n",
       "      <td>13</td>\n",
       "      <td>13</td>\n",
       "      <td>105</td>\n",
       "      <td>20</td>\n",
       "      <td>53</td>\n",
       "      <td>F</td>\n",
       "      <td>False</td>\n",
       "    </tr>\n",
       "    <tr>\n",
       "      <th>14</th>\n",
       "      <td>14</td>\n",
       "      <td>14</td>\n",
       "      <td>70</td>\n",
       "      <td>14</td>\n",
       "      <td>22</td>\n",
       "      <td>M</td>\n",
       "      <td>True</td>\n",
       "    </tr>\n",
       "  </tbody>\n",
       "</table>\n",
       "</div>"
      ],
      "text/plain": [
       "    Unnamed: 0  Unnamed: 0.1  Tiempo_Control(sec)  Clicks  Edad Sexo  \\\n",
       "0            0             0                   80      14    39    F   \n",
       "1            1             1                  120      15    41    F   \n",
       "2            2             2                   55      20    25    F   \n",
       "3            3             3                   35       8    30    M   \n",
       "4            4             4                   27       7    27    F   \n",
       "5            5             5                   99       7    68    M   \n",
       "6            6             6                  106       9    64    M   \n",
       "7            7             7                   86      21    32    F   \n",
       "8            8             8                   26       8    35    F   \n",
       "9            9             9                   70      15    34    M   \n",
       "10          10            10                   80      17    36    M   \n",
       "11          11            11                   80      20    40    M   \n",
       "12          12            12                   70      14    28    F   \n",
       "13          13            13                  105      20    53    F   \n",
       "14          14            14                   70      14    22    M   \n",
       "\n",
       "    Bool_control  \n",
       "0           True  \n",
       "1          False  \n",
       "2           True  \n",
       "3           True  \n",
       "4           True  \n",
       "5          False  \n",
       "6          False  \n",
       "7          False  \n",
       "8           True  \n",
       "9           True  \n",
       "10          True  \n",
       "11          True  \n",
       "12          True  \n",
       "13         False  \n",
       "14          True  "
      ]
     },
     "execution_count": 116,
     "metadata": {},
     "output_type": "execute_result"
    }
   ],
   "source": [
    "# datos\n",
    "cokdf=pd.read_csv(\"data/cookie_cats.csv\")\n",
    "test=pd.read_csv(\"data/test.csv\")\n",
    "control=pd.read_csv(\"data/control.csv\")\n",
    "control"
   ]
  },
  {
   "cell_type": "code",
   "execution_count": 118,
   "id": "65c706c8",
   "metadata": {},
   "outputs": [
    {
     "data": {
      "text/plain": [
       "(15, 10, 15, 12)"
      ]
     },
     "execution_count": 118,
     "metadata": {},
     "output_type": "execute_result"
    }
   ],
   "source": [
    " len(control[\"Bool_control\"]), sum(control[\"Bool_control\"]),    len(test[\"Bool_test\"]), sum(test[\"Bool_test\"])"
   ]
  },
  {
   "cell_type": "code",
   "execution_count": 16,
   "id": "b645307d",
   "metadata": {},
   "outputs": [],
   "source": [
    "gate40=cokdf[cokdf[\"version\"]==\"gate_40\"]\n",
    "gate30=cokdf[cokdf[\"version\"]==\"gate_30\"]\n"
   ]
  },
  {
   "cell_type": "markdown",
   "id": "ce6c2732",
   "metadata": {},
   "source": [
    "\"chek there is no duplicated users\""
   ]
  },
  {
   "cell_type": "code",
   "execution_count": 20,
   "id": "e279052c",
   "metadata": {
    "scrolled": true
   },
   "outputs": [
    {
     "data": {
      "text/plain": [
       "set()"
      ]
     },
     "execution_count": 20,
     "metadata": {},
     "output_type": "execute_result"
    }
   ],
   "source": [
    "set40=set(gate40[\"userid\"])\n",
    "set30=set(gate30[\"userid\"])\n",
    "\n",
    "intersection_result = set30 & set40\n",
    "intersection_result"
   ]
  },
  {
   "cell_type": "markdown",
   "id": "4fd48098",
   "metadata": {},
   "source": [
    "TAKE SAME SIZE SAMPLES"
   ]
  },
  {
   "cell_type": "code",
   "execution_count": 44,
   "id": "c49e056d",
   "metadata": {},
   "outputs": [
    {
     "data": {
      "text/plain": [
       "(44700, 44700)"
      ]
     },
     "execution_count": 44,
     "metadata": {},
     "output_type": "execute_result"
    }
   ],
   "source": [
    "gate40=cokdf[[\"userid\",\"retention_1\", \"retention_7\"]][cokdf[\"version\"]==\"gate_40\"]\n",
    "gate30=cokdf[[\"userid\",\"retention_1\", \"retention_7\"]][cokdf[\"version\"]==\"gate_30\"]\n",
    "\n",
    "\n",
    "gate40=gate40.sample(len(gate30))\n",
    "\n",
    "len(gate40), len(gate30)"
   ]
  },
  {
   "cell_type": "markdown",
   "id": "1141e94f",
   "metadata": {},
   "source": [
    "para control gate30"
   ]
  },
  {
   "cell_type": "code",
   "execution_count": 69,
   "id": "5517e389",
   "metadata": {
    "scrolled": false
   },
   "outputs": [
    {
     "data": {
      "text/html": [
       "<div>\n",
       "<style scoped>\n",
       "    .dataframe tbody tr th:only-of-type {\n",
       "        vertical-align: middle;\n",
       "    }\n",
       "\n",
       "    .dataframe tbody tr th {\n",
       "        vertical-align: top;\n",
       "    }\n",
       "\n",
       "    .dataframe thead th {\n",
       "        text-align: right;\n",
       "    }\n",
       "</style>\n",
       "<table border=\"1\" class=\"dataframe\">\n",
       "  <thead>\n",
       "    <tr style=\"text-align: right;\">\n",
       "      <th></th>\n",
       "      <th>impr</th>\n",
       "      <th>conv</th>\n",
       "    </tr>\n",
       "  </thead>\n",
       "  <tbody>\n",
       "    <tr>\n",
       "      <th>retention_1</th>\n",
       "      <td>44700</td>\n",
       "      <td>20034</td>\n",
       "    </tr>\n",
       "    <tr>\n",
       "      <th>retention_7</th>\n",
       "      <td>44700</td>\n",
       "      <td>8502</td>\n",
       "    </tr>\n",
       "  </tbody>\n",
       "</table>\n",
       "</div>"
      ],
      "text/plain": [
       "              impr   conv\n",
       "retention_1  44700  20034\n",
       "retention_7  44700   8502"
      ]
     },
     "execution_count": 69,
     "metadata": {},
     "output_type": "execute_result"
    }
   ],
   "source": [
    "conv_1=sum(gate30[\"retention_1\"])\n",
    "conv_7=sum(gate30[\"retention_7\"])\n",
    "\n",
    "# Creating the DataFrame contig_df\n",
    "contig30_df = pd.DataFrame({\n",
    "    \"retention_1\": [len(gate30[\"retention_1\"]), conv_1],\n",
    "    \"retention_7\": [len(gate30[\"retention_7\"]), conv_7],\n",
    "}).T\n",
    "contig30_df.columns=[\"impr\", \"conv\"]\n",
    "contig30_df"
   ]
  },
  {
   "cell_type": "code",
   "execution_count": 78,
   "id": "69605d44",
   "metadata": {},
   "outputs": [
    {
     "data": {
      "text/html": [
       "<div>\n",
       "<style scoped>\n",
       "    .dataframe tbody tr th:only-of-type {\n",
       "        vertical-align: middle;\n",
       "    }\n",
       "\n",
       "    .dataframe tbody tr th {\n",
       "        vertical-align: top;\n",
       "    }\n",
       "\n",
       "    .dataframe thead th {\n",
       "        text-align: right;\n",
       "    }\n",
       "</style>\n",
       "<table border=\"1\" class=\"dataframe\">\n",
       "  <thead>\n",
       "    <tr style=\"text-align: right;\">\n",
       "      <th></th>\n",
       "      <th>impr</th>\n",
       "      <th>conv</th>\n",
       "    </tr>\n",
       "  </thead>\n",
       "  <tbody>\n",
       "    <tr>\n",
       "      <th>retention_1</th>\n",
       "      <td>44700</td>\n",
       "      <td>19784</td>\n",
       "    </tr>\n",
       "    <tr>\n",
       "      <th>retention_7</th>\n",
       "      <td>44700</td>\n",
       "      <td>8146</td>\n",
       "    </tr>\n",
       "  </tbody>\n",
       "</table>\n",
       "</div>"
      ],
      "text/plain": [
       "              impr   conv\n",
       "retention_1  44700  19784\n",
       "retention_7  44700   8146"
      ]
     },
     "execution_count": 78,
     "metadata": {},
     "output_type": "execute_result"
    }
   ],
   "source": [
    "conv_1=sum(gate40[\"retention_1\"])\n",
    "conv_7=sum(gate40[\"retention_7\"])\n",
    "\n",
    "# Creating the DataFrame contig_df\n",
    "contig40_df = pd.DataFrame({\n",
    "    \"retention_1\": [len(gate40[\"retention_1\"]), conv_1],\n",
    "    \"retention_7\": [len(gate40[\"retention_7\"]), conv_7],\n",
    "}).T\n",
    "contig40_df.columns=[\"impr\", \"conv\"]\n",
    "contig40_df"
   ]
  },
  {
   "cell_type": "code",
   "execution_count": 67,
   "id": "1f7f6fdf",
   "metadata": {},
   "outputs": [
    {
     "data": {
      "text/plain": [
       "44700"
      ]
     },
     "execution_count": 67,
     "metadata": {},
     "output_type": "execute_result"
    }
   ],
   "source": [
    "contig30_df.iloc[0][\"impr\"]"
   ]
  },
  {
   "cell_type": "markdown",
   "id": "23f95073",
   "metadata": {},
   "source": [
    "### CR: CONVERSION RATES - RETENTION 1:\n"
   ]
  },
  {
   "cell_type": "code",
   "execution_count": 119,
   "id": "641f1dc6",
   "metadata": {},
   "outputs": [
    {
     "data": {
      "text/plain": [
       "(15, 10, 15, 12)"
      ]
     },
     "execution_count": 119,
     "metadata": {},
     "output_type": "execute_result"
    }
   ],
   "source": [
    "len(control[\"Bool_control\"]), sum(control[\"Bool_control\"]),    len(test[\"Bool_test\"]), sum(test[\"Bool_test\"])"
   ]
  },
  {
   "cell_type": "code",
   "execution_count": 120,
   "id": "6236975b",
   "metadata": {},
   "outputs": [
    {
     "data": {
      "text/plain": [
       "'Tasas conversion: Control: 0.6666666666666666, Test: 0.8'"
      ]
     },
     "execution_count": 120,
     "metadata": {},
     "output_type": "execute_result"
    }
   ],
   "source": [
    "# CR: CONVERSION RATES - RETENTION 1:\n",
    "\n",
    "imps_ctrl = 15\n",
    "convs_ctrl = 10\n",
    "\n",
    "imps_test = 15\n",
    "convs_test = 12\n",
    "\n",
    "CR_ctrl = convs_ctrl/imps_ctrl\n",
    "CR_test = convs_test/imps_test\n",
    "\n",
    "f'Tasas conversion: Control: {CR_ctrl}, Test: {CR_test}'"
   ]
  },
  {
   "cell_type": "code",
   "execution_count": null,
   "id": "f7c7d87f",
   "metadata": {},
   "outputs": [],
   "source": []
  },
  {
   "cell_type": "code",
   "execution_count": null,
   "id": "dafe786c",
   "metadata": {},
   "outputs": [],
   "source": []
  },
  {
   "cell_type": "code",
   "execution_count": null,
   "id": "185a5ebe",
   "metadata": {},
   "outputs": [],
   "source": []
  },
  {
   "cell_type": "code",
   "execution_count": 121,
   "id": "f2e6147a",
   "metadata": {},
   "outputs": [],
   "source": [
    "# a prioris\n",
    "\n",
    "a_C, b_C = 1+convs_ctrl, 1+imps_ctrl-convs_ctrl\n",
    "\n",
    "a_T, b_T = 1+convs_test, 1+imps_test-convs_test\n",
    "\n",
    "\n",
    "beta_control = beta(a_C, b_C)\n",
    "\n",
    "beta_test = beta(a_T, b_T)"
   ]
  },
  {
   "cell_type": "code",
   "execution_count": 122,
   "id": "38f422cb",
   "metadata": {},
   "outputs": [
    {
     "data": {
      "text/plain": [
       "(0.6470588235294118, 0.7647058823529411)"
      ]
     },
     "execution_count": 122,
     "metadata": {},
     "output_type": "execute_result"
    }
   ],
   "source": [
    "beta_control.mean(), beta_test.mean()\n"
   ]
  },
  {
   "cell_type": "code",
   "execution_count": 129,
   "id": "47fdfb89",
   "metadata": {},
   "outputs": [],
   "source": [
    "x=np.linspace(0.2,1.3, 100)\n",
    "def plot(betas, nombres):\n",
    "    \n",
    "    for bet, nom in zip(betas, nombres):\n",
    "        \n",
    "        y=bet.pdf(x)\n",
    "        y_media=bet.mean()\n",
    "        y_std=bet.std()\n",
    "        \n",
    "        plt.plot(x, y, label='{}, tasa de conv: {:.2f} $\\pm$ {:.4f}'.format(nom, y_media, y_std))\n",
    "        plt.yticks([])\n",
    "        \n",
    "    plt.legend()\n",
    "    plt.show();\n",
    "\n"
   ]
  },
  {
   "cell_type": "code",
   "execution_count": 128,
   "id": "69122429",
   "metadata": {},
   "outputs": [
    {
     "data": {
      "image/png": "[encoded data removed]",
      "text/plain": [
       "<Figure size 1500x800 with 1 Axes>"
      ]
     },
     "metadata": {},
     "output_type": "display_data"
    }
   ],
   "source": [
    "plot([beta_test, beta_control], ['Test', 'CON'])"
   ]
  },
  {
   "cell_type": "code",
   "execution_count": 131,
   "id": "5b90c429",
   "metadata": {},
   "outputs": [
    {
     "data": {
      "text/plain": [
       "0.18181818181818168"
      ]
     },
     "execution_count": 131,
     "metadata": {},
     "output_type": "execute_result"
    }
   ],
   "source": [
    "salto = (beta_control.mean() - beta_test.mean())/beta_control.mean()\n",
    "salto = (beta_test.mean() - beta_control.mean())/beta_control.mean()\n",
    "\n",
    "salto"
   ]
  },
  {
   "cell_type": "code",
   "execution_count": 132,
   "id": "a9bdb926",
   "metadata": {},
   "outputs": [
    {
     "data": {
      "text/plain": [
       "0.21657397107897786"
      ]
     },
     "execution_count": 132,
     "metadata": {},
     "output_type": "execute_result"
    }
   ],
   "source": [
    "# PROBABIDAD DE QUE EL CONTROL (GATE SEMANA 30) TENGA MAYOR RETENCION EN LA SEMANA 1 QUE EL TEST (GATE SEMANA 40)\n",
    "\n",
    "bayes.calc_prob(beta_control, beta_test)"
   ]
  },
  {
   "cell_type": "markdown",
   "id": "6bd2e012",
   "metadata": {},
   "source": [
    "### CR: CONVERSION RATES - RETENTION 7"
   ]
  },
  {
   "cell_type": "code",
   "execution_count": 105,
   "id": "a048a711",
   "metadata": {},
   "outputs": [
    {
     "data": {
      "text/plain": [
       "'Tasas conversion: Control: 0.19020134228187918, Test: 0.18223713646532438'"
      ]
     },
     "execution_count": 105,
     "metadata": {},
     "output_type": "execute_result"
    }
   ],
   "source": [
    "\n",
    "imps_ctrl = contig30_df.iloc[1][\"impr\"]\n",
    "convs_ctrl = contig30_df.iloc[1][\"conv\"]\n",
    "\n",
    "imps_test = contig40_df.iloc[1][\"impr\"]\n",
    "convs_test = contig40_df.iloc[1][\"conv\"]\n",
    "\n",
    "CR_ctrl = convs_ctrl/imps_ctrl\n",
    "CR_test = convs_test/imps_test\n",
    "\n",
    "f'Tasas conversion: Control: {CR_ctrl}, Test: {CR_test}'"
   ]
  },
  {
   "cell_type": "code",
   "execution_count": 106,
   "id": "cooked-magnet",
   "metadata": {},
   "outputs": [],
   "source": [
    "# a prioris\n",
    "\n",
    "a_C, b_C = 1+convs_ctrl, 1+imps_ctrl-convs_ctrl\n",
    "\n",
    "a_T, b_T = 1+convs_test, 1+imps_test-convs_test\n",
    "\n",
    "\n",
    "beta_control = beta(a_C, b_C)\n",
    "\n",
    "beta_test = beta(a_T, b_T)"
   ]
  },
  {
   "cell_type": "code",
   "execution_count": 107,
   "id": "f6736291",
   "metadata": {},
   "outputs": [
    {
     "data": {
      "text/plain": [
       "(0.19021520289919913, 0.1822513534070064)"
      ]
     },
     "execution_count": 107,
     "metadata": {},
     "output_type": "execute_result"
    }
   ],
   "source": [
    "beta_control.mean(), beta_test.mean()\n"
   ]
  },
  {
   "cell_type": "code",
   "execution_count": 108,
   "id": "14b005f3",
   "metadata": {},
   "outputs": [],
   "source": [
    "x=np.linspace(0.172,0.2, 100)\n",
    "def plot(betas, nombres):\n",
    "    \n",
    "    for bet, nom in zip(betas, nombres):\n",
    "        \n",
    "        y=bet.pdf(x)\n",
    "        y_media=bet.mean()\n",
    "        y_std=bet.std()\n",
    "        \n",
    "        plt.plot(x, y, label='{}, tasa de conv: {:.2f} $\\pm$ {:.4f}'.format(nom, y_media, y_std))\n",
    "        plt.yticks([])\n",
    "        \n",
    "    plt.legend()\n",
    "    plt.show();"
   ]
  },
  {
   "cell_type": "code",
   "execution_count": 109,
   "id": "0c04b779",
   "metadata": {
    "scrolled": true
   },
   "outputs": [
    {
     "data": {
      "image/png": "[encoded data removed]",
      "text/plain": [
       "<Figure size 1500x800 with 1 Axes>"
      ]
     },
     "metadata": {},
     "output_type": "display_data"
    }
   ],
   "source": [
    "plot([beta_test, beta_control], ['Test', 'CON'])"
   ]
  },
  {
   "cell_type": "code",
   "execution_count": 103,
   "id": "2368747c",
   "metadata": {},
   "outputs": [
    {
     "data": {
      "text/plain": [
       "0.041867576149594174"
      ]
     },
     "execution_count": 103,
     "metadata": {},
     "output_type": "execute_result"
    }
   ],
   "source": [
    "salto = (beta_control.mean() - beta_test.mean())/beta_control.mean()\n",
    "\n",
    "salto"
   ]
  },
  {
   "cell_type": "code",
   "execution_count": 104,
   "id": "81349ca7",
   "metadata": {},
   "outputs": [
    {
     "data": {
      "text/plain": [
       "0.9988879627928254"
      ]
     },
     "execution_count": 104,
     "metadata": {},
     "output_type": "execute_result"
    }
   ],
   "source": [
    "# PROBABIDAD DE QUE EL CONTROL (GATE SEMANA 30) TENGA MAYOR RETENCION EN LA SEMANA 7 QUE EL TEST (GATE SEMANA 40)\n",
    "\n",
    "bayes.calc_prob(beta_control, beta_test)"
   ]
  },
  {
   "cell_type": "markdown",
   "id": "d49320cd",
   "metadata": {},
   "source": [
    "## conclusion\n",
    "\n",
    "cambiar al gate 40 seria muy mala idea, "
   ]
  }
 ],
 "metadata": {
  "finalized": {
   "timestamp": 1642857010293,
   "trusted": true
  },
  "kernelspec": {
   "display_name": "env37",
   "language": "python",
   "name": "env37"
  },
  "language_info": {
   "codemirror_mode": {
    "name": "ipython",
    "version": 3
   },
   "file_extension": ".py",
   "mimetype": "text/x-python",
   "name": "python",
   "nbconvert_exporter": "python",
   "pygments_lexer": "ipython3",
   "version": "3.7.16"
  },
  "toc": {
   "base_numbering": 1,
   "nav_menu": {},
   "number_sections": true,
   "sideBar": true,
   "skip_h1_title": false,
   "title_cell": "Table of Contents",
   "title_sidebar": "Contents",
   "toc_cell": true,
   "toc_position": {},
   "toc_section_display": true,
   "toc_window_display": false
  },
  "varInspector": {
   "cols": {
    "lenName": 16,
    "lenType": 16,
    "lenVar": 40
   },
   "kernels_config": {
    "python": {
     "delete_cmd_postfix": "",
     "delete_cmd_prefix": "del ",
     "library": "var_list.py",
     "varRefreshCmd": "print(var_dic_list())"
    },
    "r": {
     "delete_cmd_postfix": ") ",
     "delete_cmd_prefix": "rm(",
     "library": "var_list.r",
     "varRefreshCmd": "cat(var_dic_list()) "
    }
   },
   "types_to_exclude": [
    "module",
    "function",
    "builtin_function_or_method",
    "instance",
    "_Feature"
   ],
   "window_display": false
  }
 },
 "nbformat": 4,
 "nbformat_minor": 5
}
