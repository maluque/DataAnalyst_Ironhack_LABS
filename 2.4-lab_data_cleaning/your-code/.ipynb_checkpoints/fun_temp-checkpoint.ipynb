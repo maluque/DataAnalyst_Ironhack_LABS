{
 "cells": [
  {
   "cell_type": "markdown",
   "id": "fa8c1698",
   "metadata": {},
   "source": [
    "Data cleaning functions TEMP"
   ]
  },
  {
   "cell_type": "code",
   "execution_count": null,
   "id": "947f193b",
   "metadata": {},
   "outputs": [],
   "source": [
    "def na_abs(df, ascend=False):\n",
    "    df1 = df.isna().sum()\n",
    "    df1=df1[df1!=0].sort_values(ascending = ascend)\n",
    "    return df1\n",
    "\n",
    "def na_perc(df, ascend=False):\n",
    "    df1 = df.isna().mean()*100\n",
    "    df1 = df1[df1!=0].sort_values(ascending = ascend)\n",
    "    return df1\n",
    "\n",
    "def na_absperc(df):\n",
    "    return pd.concat([na_cols_abs(df), na_cols_perc(df)], axis=1, keys= [\"abs_NA\", \"perc_NA\"])\n",
    "\n",
    "\n",
    "def categ_summ(df):\n",
    "    '''\n",
    "    Creates a modified version of 'describe objects' function\n",
    "    \n",
    "    Adds 3 new columns to evaluate the ratio between unique/level values\n",
    "    and their frequency\n",
    "    \n",
    "    \"resto_per\" column may pinpoint potential misspelled errors as\n",
    "    Top rows: indicate there is ONE LEVEL with EXCESIVE FREQ\n",
    "    Bottom rows: indicate there are MANY LEVELS with very LOW FREQ\n",
    "    \n",
    "    '''\n",
    "\n",
    "    sumdf=df.describe(include = \"object\").T\n",
    "    sumdf[\"unicount_ratio\"]=sumdf[\"unique\"]/sumdf[\"count\"]\n",
    "\n",
    "    sumdf[\"resto_abs\"]=(sumdf[\"count\"]-sumdf[\"freq\"])\n",
    "    sumdf[\"resto_per\"]=(sumdf[\"resto_abs\"]*100)/sumdf[\"count\"]\n",
    "\n",
    "    sumdf.sort_values([\"resto_per\", \"unique\"])\n",
    "    return sumdf\n",
    "\n",
    "def variance_check(df, perc_a, perc_b):\n",
    "    '''\n",
    "    Creates a modified version of 'describe numeric' function\n",
    "    \n",
    "    Adds 2 new columns to dispay quantile A and B defined by the user\n",
    "   \n",
    "    '''\n",
    "    sumdf=df.describe(exclude=\"object\").T.sort_values(\"std\", ascending=False)\n",
    "    sumdf[\"quantile_\"+ str(perc_a)]=df.quantile(perc_a) \n",
    "    sumdf[\"quantile_\"+ str(perc_b)]=df.quantile(perc_b) \n",
    "    return sumdf\n",
    "\n",
    "\n",
    "def variance_check(df, perc_a, perc_b):\n",
    "    '''\n",
    "    Creates a modified version of 'describe numeric' function\n",
    "    \n",
    "    Adds 2 new columns to dispay quantile A and B defined by the user\n",
    "   \n",
    "    NOTE: The function will only filter and evaluate the NUMERIC COLUMNS!\n",
    "    perc_a and perc_b must be from 0-1\n",
    "    '''\n",
    "    subdf=df.select_dtypes(include='number')\n",
    "    sumdf=subdf.describe(include=\"number\").T\n",
    "\n",
    "    sumdf[\"P\" + str(int(perc_a*100))]=numeric_df.quantile(perc_a)\n",
    "    sumdf[\"P\" + str(int(perc_b*100))]=numeric_df.quantile(perc_b)\n",
    "\n",
    "    return sumdf.sort_values(\"std\", ascending = False)"
   ]
  },
  {
   "cell_type": "code",
   "execution_count": null,
   "id": "afc2eabc",
   "metadata": {},
   "outputs": [],
   "source": []
  }
 ],
 "metadata": {
  "kernelspec": {
   "display_name": "env37",
   "language": "python",
   "name": "env37"
  },
  "language_info": {
   "codemirror_mode": {
    "name": "ipython",
    "version": 3
   },
   "file_extension": ".py",
   "mimetype": "text/x-python",
   "name": "python",
   "nbconvert_exporter": "python",
   "pygments_lexer": "ipython3",
   "version": "3.7.16"
  }
 },
 "nbformat": 4,
 "nbformat_minor": 5
}
