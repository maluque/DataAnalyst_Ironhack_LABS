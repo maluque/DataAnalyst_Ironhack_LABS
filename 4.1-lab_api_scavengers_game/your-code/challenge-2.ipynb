{
 "cells": [
  {
   "cell_type": "markdown",
   "id": "threaded-asbestos",
   "metadata": {},
   "source": [
    "# Challenge 2: Count Commits\n",
    "\n",
    "Count how many commits were made in the past week.\n",
    "\n",
    "Obtain all the commits made in the past week via API, which is a JSON array that contains multiple commit objects.\n",
    "\n",
    "Count how many commit objects are contained in the array."
   ]
  },
  {
   "cell_type": "markdown",
   "id": "norwegian-praise",
   "metadata": {},
   "source": [
    "⚠️ **Remember to limit your output before submission**."
   ]
  },
  {
   "cell_type": "code",
   "execution_count": 2,
   "id": "developing-printing",
   "metadata": {},
   "outputs": [],
   "source": [
    "import json\n",
    "import requests as req\n",
    "#import os\n",
    "#from dotenv import load_dotenv\n",
    "#load_dotenv()\n",
    "#github = os.getenv(\"token\")"
   ]
  },
  {
   "cell_type": "code",
   "execution_count": 6,
   "id": "creative-stable",
   "metadata": {},
   "outputs": [
    {
     "data": {
      "text/plain": [
       "40"
      ]
     },
     "metadata": {},
     "output_type": "display_data"
    }
   ],
   "source": [
    "from logs.GITpass import GITtok ## my GIT TOKEN\n",
    "display(len(GITtok)) # to chek if it is loaded\n",
    "HEADER = {'Authorization': 'token ' + GITtok } \n",
    "url = 'https://api.github.com/repos/Ironhack-Data-Madrid-Octubre-2023/1.5-lab_vikings'"
   ]
  },
  {
   "cell_type": "code",
   "execution_count": 7,
   "id": "ongoing-taylor",
   "metadata": {},
   "outputs": [
    {
     "name": "stdout",
     "output_type": "stream",
     "text": [
      "<Response [200]>\n"
     ]
    }
   ],
   "source": [
    "response = req.get(url, headers=HEADER)\n",
    "if response.status_code == 200:\n",
    "    content = response.content #raw content (bytes)\n",
    "    text = response.text #raw content (text)\n",
    "    json_data = response.json() #raw content in JSON format\n",
    "    print(response)\n",
    "else:\n",
    "    print(f\"Request failed with status code: {response.status_code}\")"
   ]
  },
  {
   "cell_type": "code",
   "execution_count": 24,
   "id": "33c3c923",
   "metadata": {},
   "outputs": [
    {
     "data": {
      "text/plain": [
       "['allow_forking',\n",
       " 'archive_url',\n",
       " 'archived',\n",
       " 'assignees_url',\n",
       " 'blobs_url',\n",
       " 'branches_url',\n",
       " 'clone_url',\n",
       " 'collaborators_url',\n",
       " 'comments_url',\n",
       " 'commits_url']"
      ]
     },
     "execution_count": 24,
     "metadata": {},
     "output_type": "execute_result"
    }
   ],
   "source": [
    "sorted(json_data.keys())[:10]"
   ]
  },
  {
   "cell_type": "markdown",
   "id": "628a72c9",
   "metadata": {},
   "source": [
    "#### Get the forks"
   ]
  },
  {
   "cell_type": "code",
   "execution_count": 72,
   "id": "421dd982",
   "metadata": {},
   "outputs": [
    {
     "data": {
      "text/plain": [
       "'https://api.github.com/repos/Ironhack-Data-Madrid-Octubre-2023/1.5-lab_vikings/forks'"
      ]
     },
     "execution_count": 72,
     "metadata": {},
     "output_type": "execute_result"
    }
   ],
   "source": [
    "forks_url=json_data[\"forks_url\"] # this is a url\n",
    "forks_url"
   ]
  },
  {
   "cell_type": "code",
   "execution_count": 113,
   "id": "c1a5bbe1",
   "metadata": {},
   "outputs": [
    {
     "name": "stdout",
     "output_type": "stream",
     "text": [
      "<Response [200]>\n"
     ]
    }
   ],
   "source": [
    "response2 = req.get(forks_url, headers=HEADER)\n",
    "if response2.status_code == 200:\n",
    "    #content2 = response2.content #raw content (bytes)\n",
    "    #text2 = response2.text #raw content (text)\n",
    "    json_data2 = response2.json() #raw content in JSON format\n",
    "    print(response)\n",
    "else:\n",
    "    print(f\"Request failed with status code: {response2.status_code}\")\n"
   ]
  },
  {
   "cell_type": "code",
   "execution_count": 110,
   "id": "ea1a6b7a",
   "metadata": {
    "scrolled": true
   },
   "outputs": [],
   "source": [
    "\n",
    "user_commits_list=[] # LIST OF DICTIOS\n",
    "\n",
    "for json_i in json_data2:\n",
    "    \n",
    "    user_commits={} # DICTIO FOR EACH USER/FORK\n",
    "        #user: user name\n",
    "        #commits: num commits\n",
    "        #the commmits: [list of commits names]\n",
    "    \n",
    "    url_test=json_i[\"commits_url\"]\n",
    "    base_url = url_test.replace('{/sha}', '')\n",
    "    response3 = req.get(base_url, headers=HEADER)\n",
    "    if response3.status_code == 200:\n",
    "        json_data3 = response3.json() #raw content in JSON format\n",
    "        thcoms=[]\n",
    "        for json_j in json_data3:\n",
    "            thcoms.append(json_j[\"commit\"][\"message\"])\n",
    "\n",
    "        user_commits[\"user\"]=json_data3[0][\"commit\"][\"author\"][\"name\"]\n",
    "        user_commits[\"num_commits\"]=len(json_data3)\n",
    "        user_commits[\"comm_names\"]=thcoms\n",
    "        user_commits_list.append(user_commits)\n",
    "        \n",
    "       # print(response)\n",
    "    else:\n",
    "        print(f\"Request failed with status code: {response3.status_code}\")\n",
    "        print(i)\n",
    "\n"
   ]
  },
  {
   "cell_type": "code",
   "execution_count": 112,
   "id": "7f4fdba9",
   "metadata": {},
   "outputs": [
    {
     "data": {
      "text/plain": [
       "[{'user': 'Kohkitos',\n",
       "  'num_commits': 10,\n",
       "  'comm_names': ['Solved 1 issue with bonus',\n",
       "   'Bonus finished',\n",
       "   'Bonus started',\n",
       "   'finished',\n",
       "   'Saxon finished',\n",
       "   'pycache borrado',\n",
       "   'viking finished',\n",
       "   'Soldier finished.',\n",
       "   'pull request',\n",
       "   'init']},\n",
       " {'user': 'Clara Gallardo',\n",
       "  'num_commits': 6,\n",
       "  'comm_names': ['HECHO¡',\n",
       "   'terminado, da Ok pero no puede ser porque vida == 0 y me dice que sigue vivo :0',\n",
       "   'estamos con War',\n",
       "   'test Soldier Ok',\n",
       "   'comenzamos',\n",
       "   'init']},\n",
       " {'user': 'Cristiane Carneiro',\n",
       "  'num_commits': 5,\n",
       "  'comm_names': ['final de la lista del viernes',\n",
       "   'finished saxonAttack',\n",
       "   'done until Vikings',\n",
       "   'empezar',\n",
       "   'init']},\n",
       " {'user': 'Charlie',\n",
       "  'num_commits': 5,\n",
       "  'comm_names': ['WAR DONE',\n",
       "   'falta acabar war',\n",
       "   'viking class done',\n",
       "   'oh shit here we go again',\n",
       "   'init']},\n",
       " {'user': 'Jacobo Mate',\n",
       "  'num_commits': 5,\n",
       "  'comm_names': ['Todos los tests pasados y código comentado',\n",
       "   'All tests passed!',\n",
       "   'Tengo hasta el check 3 bien - 2 errores en el check 4',\n",
       "   'Primer mensaje',\n",
       "   'init']},\n",
       " {'user': 'Carolina Morales',\n",
       "  'num_commits': 4,\n",
       "  'comm_names': ['ejercicio completado',\n",
       "   'ejercicios hechos hasta antes de war',\n",
       "   'subir archivo a github',\n",
       "   'init']},\n",
       " {'user': 'Lidia Viñuales',\n",
       "  'num_commits': 4,\n",
       "  'comm_names': ['terminado', 'hecho hasta el 3', \"'empezando'\", 'init']},\n",
       " {'user': 'Matimengot',\n",
       "  'num_commits': 4,\n",
       "  'comm_names': ['fin', 'solucion ejercicio', 'prueba', 'init']},\n",
       " {'user': 'Inés G. Calvo',\n",
       "  'num_commits': 4,\n",
       "  'comm_names': ['solucion final',\n",
       "   'temporal solution without a finished war',\n",
       "   'cambio inicial',\n",
       "   'init']},\n",
       " {'user': 'María Sanz',\n",
       "  'num_commits': 3,\n",
       "  'comm_names': ['entrega final', 'cambio inicial', 'init']},\n",
       " {'user': 'Abel Nunez',\n",
       "  'num_commits': 3,\n",
       "  'comm_names': ['completo', 'readme', 'init']},\n",
       " {'user': 'Borja Silla',\n",
       "  'num_commits': 3,\n",
       "  'comm_names': ['Solved bonus', 'Solved all', 'init']},\n",
       " {'user': 'Alicia Lafuente',\n",
       "  'num_commits': 3,\n",
       "  'comm_names': ['buf', 'empezando', 'init']},\n",
       " {'user': 'Christell Lameda',\n",
       "  'num_commits': 3,\n",
       "  'comm_names': ['lab listo', 'logramos sacar la guerra!!!', 'init']},\n",
       " {'user': 'Karmele Alonso Aia',\n",
       "  'num_commits': 3,\n",
       "  'comm_names': ['ya esta', 'empezamos', 'init']},\n",
       " {'user': 'Noelia Roson',\n",
       "  'num_commits': 3,\n",
       "  'comm_names': ['Hemos terminado!', 'Empezamossss', 'init']},\n",
       " {'user': 'SaraPazo',\n",
       "  'num_commits': 3,\n",
       "  'comm_names': ['terminado y todo OK', 'empezamos si', 'init']},\n",
       " {'user': 'mlgarciavaquero',\n",
       "  'num_commits': 3,\n",
       "  'comm_names': ['sol1', 'firstcom', 'init']},\n",
       " {'user': 'Ander',\n",
       "  'num_commits': 3,\n",
       "  'comm_names': ['Terminado', 'inicio día 5', 'init']},\n",
       " {'user': 'Alvaro Yague',\n",
       "  'num_commits': 3,\n",
       "  'comm_names': ['fin', 'primer', 'init']},\n",
       " {'user': 'Andromachi Kountouri',\n",
       "  'num_commits': 3,\n",
       "  'comm_names': ['yaestariaaa', 'empezando', 'init']},\n",
       " {'user': 'Yanina Fontana',\n",
       "  'num_commits': 3,\n",
       "  'comm_names': ['logradoooo', 'comienzo', 'init']},\n",
       " {'user': 'illegalvoidundead',\n",
       "  'num_commits': 3,\n",
       "  'comm_names': ['ejercicio resuelto', 'CAMBIO', 'init']},\n",
       " {'user': 'David Arroyo',\n",
       "  'num_commits': 3,\n",
       "  'comm_names': ['Lab completado sin Bonus',\n",
       "   'Cambio para pull request',\n",
       "   'init']},\n",
       " {'user': 'jomariapc',\n",
       "  'num_commits': 3,\n",
       "  'comm_names': ['the war is over!', 'antes de la guerra', 'init']},\n",
       " {'user': 'Blanca Abreu',\n",
       "  'num_commits': 3,\n",
       "  'comm_names': ['vikings', 'vikings', 'init']},\n",
       " {'user': 'Miguel Cuadros',\n",
       "  'num_commits': 3,\n",
       "  'comm_names': ['Terminado memnos Bonus', 'A ver si esto funciona', 'init']},\n",
       " {'user': 'josegzr',\n",
       "  'num_commits': 2,\n",
       "  'comm_names': ['1.5-lab_vikings/jose gonzalez', 'init']},\n",
       " {'user': 'Joaquin Villaverde Roldan',\n",
       "  'num_commits': 2,\n",
       "  'comm_names': ['Ejercicio y Bonus resuelto', 'init']},\n",
       " {'user': 'Alejandro',\n",
       "  'num_commits': 2,\n",
       "  'comm_names': ['batalla lograda', 'init']}]"
      ]
     },
     "execution_count": 112,
     "metadata": {},
     "output_type": "execute_result"
    }
   ],
   "source": [
    "user_commits_sortlist = sorted(user_commits_list, key=lambda x: x[\"num_commits\"], reverse=True)\n",
    "user_commits_sortlist"
   ]
  }
 ],
 "metadata": {
  "kernelspec": {
   "display_name": "Python 3 (ipykernel)",
   "language": "python",
   "name": "python3"
  },
  "language_info": {
   "codemirror_mode": {
    "name": "ipython",
    "version": 3
   },
   "file_extension": ".py",
   "mimetype": "text/x-python",
   "name": "python",
   "nbconvert_exporter": "python",
   "pygments_lexer": "ipython3",
   "version": "3.7.16"
  },
  "toc": {
   "base_numbering": 1,
   "nav_menu": {},
   "number_sections": true,
   "sideBar": true,
   "skip_h1_title": true,
   "title_cell": "Table of Contents",
   "title_sidebar": "Contents",
   "toc_cell": false,
   "toc_position": {
    "height": "calc(100% - 180px)",
    "left": "10px",
    "top": "150px",
    "width": "288px"
   },
   "toc_section_display": true,
   "toc_window_display": true
  }
 },
 "nbformat": 4,
 "nbformat_minor": 5
}
