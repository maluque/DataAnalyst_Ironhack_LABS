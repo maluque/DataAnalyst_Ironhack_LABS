{
 "cells": [
  {
   "cell_type": "markdown",
   "metadata": {},
   "source": [
    "# Supervised Learning Model Evaluation Lab\n",
    "\n",
    "Complete the exercises below to solidify your knowledge and understanding of supervised learning model evaluation."
   ]
  },
  {
   "cell_type": "code",
   "execution_count": 3,
   "metadata": {},
   "outputs": [],
   "source": [
    "import pandas as pd\n",
    "import matplotlib.pyplot as plt\n",
    "import numpy as np\n",
    "\n",
    "\n",
    "import pylab as plt                                # plotting library\n",
    "import seaborn as sns                              # plotting library\n",
    "sns.set(style='white')                             # seaborn style\n",
    "import dataanalysis_fun1 as mlg"
   ]
  },
  {
   "cell_type": "markdown",
   "metadata": {},
   "source": [
    "## Regression Model Evaluation"
   ]
  },
  {
   "cell_type": "code",
   "execution_count": 10,
   "metadata": {},
   "outputs": [],
   "source": [
    "thedata = pd.read_csv(\"../fetch_california_housing.csv\")"
   ]
  },
  {
   "cell_type": "code",
   "execution_count": 41,
   "metadata": {},
   "outputs": [
    {
     "name": "stdout",
     "output_type": "stream",
     "text": [
      "<class 'pandas.core.frame.DataFrame'>\n",
      "RangeIndex: 20640 entries, 0 to 20639\n",
      "Data columns (total 9 columns):\n",
      " #   Column      Non-Null Count  Dtype  \n",
      "---  ------      --------------  -----  \n",
      " 0   MedInc      20640 non-null  float64\n",
      " 1   HouseAge    20640 non-null  float64\n",
      " 2   AveRooms    20640 non-null  float64\n",
      " 3   AveBedrms   20640 non-null  float64\n",
      " 4   Population  20640 non-null  float64\n",
      " 5   AveOccup    20640 non-null  float64\n",
      " 6   Latitude    20640 non-null  float64\n",
      " 7   Longitude   20640 non-null  float64\n",
      " 8   MEDV        20640 non-null  float64\n",
      "dtypes: float64(9)\n",
      "memory usage: 1.4 MB\n"
     ]
    }
   ],
   "source": [
    "thedata.info()"
   ]
  },
  {
   "cell_type": "code",
   "execution_count": 11,
   "metadata": {
    "scrolled": false
   },
   "outputs": [
    {
     "data": {
      "text/html": [
       "<div>\n",
       "<style scoped>\n",
       "    .dataframe tbody tr th:only-of-type {\n",
       "        vertical-align: middle;\n",
       "    }\n",
       "\n",
       "    .dataframe tbody tr th {\n",
       "        vertical-align: top;\n",
       "    }\n",
       "\n",
       "    .dataframe thead th {\n",
       "        text-align: right;\n",
       "    }\n",
       "</style>\n",
       "<table border=\"1\" class=\"dataframe\">\n",
       "  <thead>\n",
       "    <tr style=\"text-align: right;\">\n",
       "      <th></th>\n",
       "      <th>MedInc</th>\n",
       "      <th>HouseAge</th>\n",
       "      <th>AveRooms</th>\n",
       "      <th>AveBedrms</th>\n",
       "      <th>Population</th>\n",
       "      <th>AveOccup</th>\n",
       "      <th>Latitude</th>\n",
       "      <th>Longitude</th>\n",
       "      <th>MEDV</th>\n",
       "    </tr>\n",
       "  </thead>\n",
       "  <tbody>\n",
       "    <tr>\n",
       "      <th>0</th>\n",
       "      <td>8.3252</td>\n",
       "      <td>41.0</td>\n",
       "      <td>6.984127</td>\n",
       "      <td>1.023810</td>\n",
       "      <td>322.0</td>\n",
       "      <td>2.555556</td>\n",
       "      <td>37.88</td>\n",
       "      <td>-122.23</td>\n",
       "      <td>4.526</td>\n",
       "    </tr>\n",
       "    <tr>\n",
       "      <th>1</th>\n",
       "      <td>8.3014</td>\n",
       "      <td>21.0</td>\n",
       "      <td>6.238137</td>\n",
       "      <td>0.971880</td>\n",
       "      <td>2401.0</td>\n",
       "      <td>2.109842</td>\n",
       "      <td>37.86</td>\n",
       "      <td>-122.22</td>\n",
       "      <td>3.585</td>\n",
       "    </tr>\n",
       "    <tr>\n",
       "      <th>2</th>\n",
       "      <td>7.2574</td>\n",
       "      <td>52.0</td>\n",
       "      <td>8.288136</td>\n",
       "      <td>1.073446</td>\n",
       "      <td>496.0</td>\n",
       "      <td>2.802260</td>\n",
       "      <td>37.85</td>\n",
       "      <td>-122.24</td>\n",
       "      <td>3.521</td>\n",
       "    </tr>\n",
       "    <tr>\n",
       "      <th>3</th>\n",
       "      <td>5.6431</td>\n",
       "      <td>52.0</td>\n",
       "      <td>5.817352</td>\n",
       "      <td>1.073059</td>\n",
       "      <td>558.0</td>\n",
       "      <td>2.547945</td>\n",
       "      <td>37.85</td>\n",
       "      <td>-122.25</td>\n",
       "      <td>3.413</td>\n",
       "    </tr>\n",
       "    <tr>\n",
       "      <th>4</th>\n",
       "      <td>3.8462</td>\n",
       "      <td>52.0</td>\n",
       "      <td>6.281853</td>\n",
       "      <td>1.081081</td>\n",
       "      <td>565.0</td>\n",
       "      <td>2.181467</td>\n",
       "      <td>37.85</td>\n",
       "      <td>-122.25</td>\n",
       "      <td>3.422</td>\n",
       "    </tr>\n",
       "  </tbody>\n",
       "</table>\n",
       "</div>"
      ],
      "text/plain": [
       "   MedInc  HouseAge  AveRooms  AveBedrms  Population  AveOccup  Latitude  \\\n",
       "0  8.3252      41.0  6.984127   1.023810       322.0  2.555556     37.88   \n",
       "1  8.3014      21.0  6.238137   0.971880      2401.0  2.109842     37.86   \n",
       "2  7.2574      52.0  8.288136   1.073446       496.0  2.802260     37.85   \n",
       "3  5.6431      52.0  5.817352   1.073059       558.0  2.547945     37.85   \n",
       "4  3.8462      52.0  6.281853   1.081081       565.0  2.181467     37.85   \n",
       "\n",
       "   Longitude   MEDV  \n",
       "0    -122.23  4.526  \n",
       "1    -122.22  3.585  \n",
       "2    -122.24  3.521  \n",
       "3    -122.25  3.413  \n",
       "4    -122.25  3.422  "
      ]
     },
     "execution_count": 11,
     "metadata": {},
     "output_type": "execute_result"
    }
   ],
   "source": [
    "thedata.head()"
   ]
  },
  {
   "cell_type": "code",
   "execution_count": 39,
   "metadata": {
    "scrolled": true
   },
   "outputs": [
    {
     "data": {
      "text/html": [
       "<div>\n",
       "<style scoped>\n",
       "    .dataframe tbody tr th:only-of-type {\n",
       "        vertical-align: middle;\n",
       "    }\n",
       "\n",
       "    .dataframe tbody tr th {\n",
       "        vertical-align: top;\n",
       "    }\n",
       "\n",
       "    .dataframe thead th {\n",
       "        text-align: right;\n",
       "    }\n",
       "</style>\n",
       "<table border=\"1\" class=\"dataframe\">\n",
       "  <thead>\n",
       "    <tr style=\"text-align: right;\">\n",
       "      <th></th>\n",
       "      <th>abs_NA</th>\n",
       "      <th>perc_NA</th>\n",
       "    </tr>\n",
       "  </thead>\n",
       "  <tbody>\n",
       "  </tbody>\n",
       "</table>\n",
       "</div>"
      ],
      "text/plain": [
       "Empty DataFrame\n",
       "Columns: [abs_NA, perc_NA]\n",
       "Index: []"
      ]
     },
     "execution_count": 39,
     "metadata": {},
     "output_type": "execute_result"
    }
   ],
   "source": [
    "mlg.na_absperc(thedata)"
   ]
  },
  {
   "cell_type": "code",
   "execution_count": 43,
   "metadata": {},
   "outputs": [
    {
     "data": {
      "image/png": "[encoded data removed]",
      "text/plain": [
       "<Figure size 800x600 with 9 Axes>"
      ]
     },
     "metadata": {},
     "output_type": "display_data"
    }
   ],
   "source": [
    "thedata.hist(figsize=(8, 6), bins=50)\n",
    "plt.tight_layout()\n",
    "plt.rcParams['xtick.labelsize'] = 5\n",
    "plt.rcParams['xtick.labelsize'] = 5\n",
    "#plt.rcParams['axes.titlesize'] = 5\n",
    "plt.show()\n"
   ]
  },
  {
   "cell_type": "code",
   "execution_count": 18,
   "metadata": {},
   "outputs": [
    {
     "data": {
      "text/plain": [
       "['MedInc',\n",
       " 'HouseAge',\n",
       " 'AveRooms',\n",
       " 'AveBedrms',\n",
       " 'Population',\n",
       " 'AveOccup',\n",
       " 'Latitude',\n",
       " 'Longitude']"
      ]
     },
     "execution_count": 18,
     "metadata": {},
     "output_type": "execute_result"
    }
   ],
   "source": [
    "list(thedata.columns)[:-1]"
   ]
  },
  {
   "cell_type": "code",
   "execution_count": 83,
   "metadata": {
    "scrolled": true
   },
   "outputs": [
    {
     "data": {
      "text/plain": [
       "((20640, 8), (20640,))"
      ]
     },
     "execution_count": 83,
     "metadata": {},
     "output_type": "execute_result"
    }
   ],
   "source": [
    "X = thedata[list(thedata.columns)[:-1]]\n",
    "y = thedata['MEDV']\n",
    "\n",
    "data = pd.concat([X, y], axis=1)\n",
    "\n",
    "X.shape, y.shape"
   ]
  },
  {
   "cell_type": "markdown",
   "metadata": {},
   "source": [
    "## 1. Split this data set into training (80%) and testing (20%) sets.\n",
    "\n",
    "The `MEDV` field represents the median value of owner-occupied homes (in $1000's) and is the target variable that we will want to predict."
   ]
  },
  {
   "cell_type": "code",
   "execution_count": 32,
   "metadata": {},
   "outputs": [
    {
     "data": {
      "text/plain": [
       "((16512, 8), (16512,), (4128, 8), (4128,))"
      ]
     },
     "execution_count": 32,
     "metadata": {},
     "output_type": "execute_result"
    }
   ],
   "source": [
    "from sklearn.model_selection import train_test_split as tts\n",
    "\n",
    "X_train, X_test, y_train, y_test = tts(X, y, test_size=0.2, random_state=42)\n",
    "\n",
    "X_train.shape, y_train.shape, X_test.shape, y_test.shape"
   ]
  },
  {
   "cell_type": "markdown",
   "metadata": {},
   "source": [
    "## 2. Train a `LinearRegression` model on this data set and generate predictions on both the training and the testing set."
   ]
  },
  {
   "cell_type": "code",
   "execution_count": 1,
   "metadata": {},
   "outputs": [
    {
     "ename": "NameError",
     "evalue": "name 'X_train' is not defined",
     "output_type": "error",
     "traceback": [
      "\u001b[0;31m---------------------------------------------------------------------------\u001b[0m",
      "\u001b[0;31mNameError\u001b[0m                                 Traceback (most recent call last)",
      "\u001b[0;32m/var/folders/_2/56h_hw1n3bd79mkhskq2r__40000gn/T/ipykernel_3444/1045669222.py\u001b[0m in \u001b[0;36m<module>\u001b[0;34m\u001b[0m\n\u001b[1;32m      3\u001b[0m \u001b[0mlinreg\u001b[0m \u001b[0;34m=\u001b[0m \u001b[0mLinReg\u001b[0m\u001b[0;34m(\u001b[0m\u001b[0;34m)\u001b[0m \u001b[0;31m#init the model\u001b[0m\u001b[0;34m\u001b[0m\u001b[0;34m\u001b[0m\u001b[0m\n\u001b[1;32m      4\u001b[0m \u001b[0;34m\u001b[0m\u001b[0m\n\u001b[0;32m----> 5\u001b[0;31m \u001b[0mlinreg\u001b[0m\u001b[0;34m.\u001b[0m\u001b[0mfit\u001b[0m\u001b[0;34m(\u001b[0m\u001b[0mX_train\u001b[0m\u001b[0;34m,\u001b[0m \u001b[0my_train\u001b[0m\u001b[0;34m)\u001b[0m \u001b[0;31m# fit on the train\u001b[0m\u001b[0;34m\u001b[0m\u001b[0;34m\u001b[0m\u001b[0m\n\u001b[0m\u001b[1;32m      6\u001b[0m \u001b[0;34m\u001b[0m\u001b[0m\n\u001b[1;32m      7\u001b[0m \u001b[0my_pred_train\u001b[0m \u001b[0;34m=\u001b[0m \u001b[0mlinreg\u001b[0m\u001b[0;34m.\u001b[0m\u001b[0mpredict\u001b[0m\u001b[0;34m(\u001b[0m\u001b[0mX_train\u001b[0m\u001b[0;34m)\u001b[0m  \u001b[0;31m# predict on the test\u001b[0m\u001b[0;34m\u001b[0m\u001b[0;34m\u001b[0m\u001b[0m\n",
      "\u001b[0;31mNameError\u001b[0m: name 'X_train' is not defined"
     ]
    }
   ],
   "source": [
    "from sklearn.linear_model import LinearRegression as LinReg\n",
    "\n",
    "linreg = LinReg() #init the model\n",
    "\n",
    "linreg.fit(X_train, y_train) # fit on the train\n",
    "\n",
    "y_pred_train = linreg.predict(X_train)  # predict on the test\n",
    "y_pred = linreg.predict(X_test)  # predict on the test\n",
    "\n",
    "\n",
    "print(\"intercept\", linreg.intercept_) # parameters extrated from the fitted model on the training set\n",
    "display(dict(zip(X_train.columns, linreg.coef_)))"
   ]
  },
  {
   "cell_type": "markdown",
   "metadata": {},
   "source": [
    "## 3. Calculate and print R-squared for both the training and the testing set."
   ]
  },
  {
   "cell_type": "code",
   "execution_count": 71,
   "metadata": {},
   "outputs": [
    {
     "data": {
      "text/plain": [
       "(0.6125511913966953, 0.5757877060324512)"
      ]
     },
     "execution_count": 71,
     "metadata": {},
     "output_type": "execute_result"
    }
   ],
   "source": [
    "from sklearn.metrics import r2_score as r2\n",
    "\n",
    "r2(y_train, y_pred_train), r2(y_test, y_pred)"
   ]
  },
  {
   "cell_type": "markdown",
   "metadata": {},
   "source": [
    "## 4. Calculate and print mean squared error for both the training and the testing set."
   ]
  },
  {
   "cell_type": "code",
   "execution_count": 72,
   "metadata": {},
   "outputs": [
    {
     "data": {
      "text/plain": [
       "(0.7196757085831573, 0.745581383012776)"
      ]
     },
     "execution_count": 72,
     "metadata": {},
     "output_type": "execute_result"
    }
   ],
   "source": [
    "from sklearn.metrics import mean_squared_error as mse  # error cuadratico medio\n",
    "\n",
    "mse(y_train, y_pred_train, squared=False), mse(y_test, y_pred, squared=False)"
   ]
  },
  {
   "cell_type": "markdown",
   "metadata": {},
   "source": [
    "## 5. Calculate and print mean absolute error for both the training and the testing set."
   ]
  },
  {
   "cell_type": "code",
   "execution_count": 73,
   "metadata": {},
   "outputs": [
    {
     "data": {
      "text/plain": [
       "(0.5286283596581934, 0.5332001304956564)"
      ]
     },
     "execution_count": 73,
     "metadata": {},
     "output_type": "execute_result"
    }
   ],
   "source": [
    "from sklearn.metrics import mean_absolute_error as mae\n",
    "\n",
    "mae(y_train, y_pred_train), mae(y_test, y_pred)"
   ]
  },
  {
   "cell_type": "markdown",
   "metadata": {},
   "source": [
    "## Classification Model Evaluation"
   ]
  },
  {
   "cell_type": "code",
   "execution_count": 118,
   "metadata": {},
   "outputs": [],
   "source": [
    "from sklearn.datasets import load_iris\n",
    "\n",
    "data = load_iris()\n",
    "\n",
    "X = pd.DataFrame(data[\"data\"], columns=data[\"feature_names\"])\n",
    "y = pd.DataFrame(data[\"target\"], columns=[\"class\"])\n",
    "y = y.iloc[:, 0]\n",
    "\n",
    "data = pd.concat([X, y], axis=1)"
   ]
  },
  {
   "cell_type": "markdown",
   "metadata": {},
   "source": [
    "## 6. Split this data set into training (80%) and testing (20%) sets.\n",
    "\n",
    "The `class` field represents the type of flower and is the target variable that we will want to predict."
   ]
  },
  {
   "cell_type": "code",
   "execution_count": 119,
   "metadata": {},
   "outputs": [
    {
     "data": {
      "text/plain": [
       "((120, 4), (120,), (30, 4), (30,))"
      ]
     },
     "execution_count": 119,
     "metadata": {},
     "output_type": "execute_result"
    }
   ],
   "source": [
    "X_train, X_test, y_train, y_test = tts(X, y, test_size=0.2, random_state=42)\n",
    "\n",
    "X_train.shape, y_train.shape, X_test.shape, y_test.shape"
   ]
  },
  {
   "cell_type": "markdown",
   "metadata": {},
   "source": [
    "## 7. Train a `LogisticRegression` model on this data set and generate predictions on both the training and the testing set."
   ]
  },
  {
   "cell_type": "code",
   "execution_count": 128,
   "metadata": {},
   "outputs": [
    {
     "data": {
      "text/plain": [
       "(array([0, 1, 2]), array([1, 0, 2]))"
      ]
     },
     "execution_count": 128,
     "metadata": {},
     "output_type": "execute_result"
    }
   ],
   "source": [
    "y_train.unique(), y_test.unique() "
   ]
  },
  {
   "cell_type": "code",
   "execution_count": 134,
   "metadata": {},
   "outputs": [],
   "source": [
    "from sklearn.linear_model import LogisticRegression as LogReg\n",
    "\n",
    "logreg = LogReg(max_iter=1000) # init the model\n",
    "\n",
    "logreg.fit(X_train, y_train) # fit the model with training data\n",
    "\n",
    "y_pred = logreg.predict(X_test) #predict on the test data\n",
    "y_pred_train = logreg.predict(X_train) #predict on the training data"
   ]
  },
  {
   "cell_type": "code",
   "execution_count": 137,
   "metadata": {},
   "outputs": [
    {
     "data": {
      "text/plain": [
       "array([[3.78383068e-03, 8.27227259e-01, 1.68988911e-01],\n",
       "       [9.46721573e-01, 5.32782267e-02, 1.99955522e-07],\n",
       "       [8.72146385e-09, 1.55662208e-03, 9.98443369e-01],\n",
       "       [6.43295248e-03, 7.92120766e-01, 2.01446281e-01],\n",
       "       [1.44091587e-03, 7.74298970e-01, 2.24260114e-01]])"
      ]
     },
     "execution_count": 137,
     "metadata": {},
     "output_type": "execute_result"
    }
   ],
   "source": [
    "y_prob = logreg.predict_proba(X_test) #predict on the test data\n",
    "y_prob[:5]"
   ]
  },
  {
   "cell_type": "markdown",
   "metadata": {},
   "source": [
    "## 8. Calculate and print the accuracy score for both the training and the testing set."
   ]
  },
  {
   "cell_type": "code",
   "execution_count": 159,
   "metadata": {},
   "outputs": [
    {
     "data": {
      "text/plain": [
       "(0.975, 1.0)"
      ]
     },
     "execution_count": 159,
     "metadata": {},
     "output_type": "execute_result"
    }
   ],
   "source": [
    "logreg.score(X_train, y_train), logreg.score(X_test, y_test)  # accuracy, acierto\n",
    "\n",
    "from sklearn.metrics import accuracy_score as acc\n",
    "acc(y_train, y_pred_train), acc(y_test, y_pred)"
   ]
  },
  {
   "cell_type": "markdown",
   "metadata": {},
   "source": [
    "## 9. Calculate and print the balanced accuracy score for both the training and the testing set."
   ]
  },
  {
   "cell_type": "code",
   "execution_count": 160,
   "metadata": {},
   "outputs": [
    {
     "data": {
      "text/plain": [
       "(0.975609756097561, 1.0)"
      ]
     },
     "execution_count": 160,
     "metadata": {},
     "output_type": "execute_result"
    }
   ],
   "source": [
    "from sklearn.metrics import balanced_accuracy_score as bal_acc\n",
    "\n",
    "bal_acc(y_train, y_pred_train), bal_acc(y_test, y_pred)"
   ]
  },
  {
   "cell_type": "markdown",
   "metadata": {},
   "source": [
    "## 10. Calculate and print the precision score for both the training and the testing set."
   ]
  },
  {
   "cell_type": "markdown",
   "metadata": {},
   "source": [
    "#### help(f1)  \n",
    "    average : {'micro', 'macro', 'samples','weighted', 'binary'} or None,             default='binary'\n",
    "        This parameter is required for multiclass/multilabel targets.\n",
    "        If ``None``, the scores for each class are returned. Otherwise, this\n",
    "        determines the type of averaging performed on the data:"
   ]
  },
  {
   "cell_type": "code",
   "execution_count": 147,
   "metadata": {},
   "outputs": [
    {
     "data": {
      "text/plain": [
       "(array([1.        , 1.        , 0.92857143]), array([1., 1., 1.]))"
      ]
     },
     "execution_count": 147,
     "metadata": {},
     "output_type": "execute_result"
    }
   ],
   "source": [
    "from sklearn.metrics import precision_score as prec\n",
    "\n",
    "prec(y_train, y_pred_train, average=None), prec(y_test, y_pred, average=None)"
   ]
  },
  {
   "cell_type": "markdown",
   "metadata": {},
   "source": [
    "## 11. Calculate and print the recall score for both the training and the testing set."
   ]
  },
  {
   "cell_type": "code",
   "execution_count": 163,
   "metadata": {},
   "outputs": [
    {
     "data": {
      "text/plain": [
       "(array([1.        , 0.92682927, 1.        ]), array([1., 1., 1.]))"
      ]
     },
     "execution_count": 163,
     "metadata": {},
     "output_type": "execute_result"
    }
   ],
   "source": [
    "from sklearn.metrics import recall_score as rec\n",
    "\n",
    "rec(y_train, y_pred_train, average=None), rec(y_test, y_pred, average=None)"
   ]
  },
  {
   "cell_type": "markdown",
   "metadata": {},
   "source": [
    "## 12. Calculate and print the F1 score for both the training and the testing set."
   ]
  },
  {
   "cell_type": "code",
   "execution_count": 148,
   "metadata": {},
   "outputs": [
    {
     "data": {
      "text/plain": [
       "(array([1.        , 0.96202532, 0.96296296]), array([1., 1., 1.]))"
      ]
     },
     "execution_count": 148,
     "metadata": {},
     "output_type": "execute_result"
    }
   ],
   "source": [
    "from sklearn.metrics import f1_score as f1\n",
    "\n",
    "f1(y_train, y_pred_train,  average=None), f1(y_test, y_pred,  average=None)"
   ]
  },
  {
   "cell_type": "markdown",
   "metadata": {},
   "source": [
    "## 13. Generate confusion matrices for both the training and the testing set."
   ]
  },
  {
   "cell_type": "code",
   "execution_count": 164,
   "metadata": {},
   "outputs": [
    {
     "data": {
      "text/plain": [
       "array([[40,  0,  0],\n",
       "       [ 0, 38,  3],\n",
       "       [ 0,  0, 39]])"
      ]
     },
     "execution_count": 164,
     "metadata": {},
     "output_type": "execute_result"
    }
   ],
   "source": [
    "from sklearn.metrics import confusion_matrix as cm\n",
    "\n",
    "cm(y_train, y_pred_train)"
   ]
  },
  {
   "cell_type": "code",
   "execution_count": 165,
   "metadata": {},
   "outputs": [
    {
     "data": {
      "text/plain": [
       "array([[10,  0,  0],\n",
       "       [ 0,  9,  0],\n",
       "       [ 0,  0, 11]])"
      ]
     },
     "execution_count": 165,
     "metadata": {},
     "output_type": "execute_result"
    }
   ],
   "source": [
    "cm(y_test, y_pred)"
   ]
  },
  {
   "cell_type": "markdown",
   "metadata": {},
   "source": [
    "## Bonus: For each of the data sets in this lab, try training with some of the other models you have learned about, recalculate the evaluation metrics, and compare to determine which models perform best on each data set."
   ]
  },
  {
   "cell_type": "markdown",
   "metadata": {},
   "source": [
    "## I will check whether `feature scaling` the cali housing data improves the predictions (linear reg)"
   ]
  },
  {
   "cell_type": "code",
   "execution_count": 4,
   "metadata": {},
   "outputs": [],
   "source": [
    "thedata = pd.read_csv(\"../fetch_california_housing.csv\")"
   ]
  },
  {
   "cell_type": "code",
   "execution_count": 5,
   "metadata": {},
   "outputs": [
    {
     "data": {
      "text/plain": [
       "((20640, 8), (20640,))"
      ]
     },
     "execution_count": 5,
     "metadata": {},
     "output_type": "execute_result"
    }
   ],
   "source": [
    "X = thedata[list(thedata.columns)[:-1]]\n",
    "y = thedata['MEDV']\n",
    "\n",
    "data = pd.concat([X, y], axis=1)\n",
    "\n",
    "X.shape, y.shape"
   ]
  },
  {
   "cell_type": "markdown",
   "metadata": {},
   "source": [
    "#### SPLIT THE DATA"
   ]
  },
  {
   "cell_type": "code",
   "execution_count": 6,
   "metadata": {},
   "outputs": [
    {
     "data": {
      "text/plain": [
       "((16512, 8), (16512,), (4128, 8), (4128,))"
      ]
     },
     "execution_count": 6,
     "metadata": {},
     "output_type": "execute_result"
    }
   ],
   "source": [
    "from sklearn.model_selection import train_test_split as tts\n",
    "\n",
    "X_train, X_test, y_train, y_test = tts(X, y, test_size=0.2, random_state=42)\n",
    "\n",
    "X_train.shape, y_train.shape, X_test.shape, y_test.shape"
   ]
  },
  {
   "cell_type": "markdown",
   "metadata": {},
   "source": [
    "#### FEATURE SCALING"
   ]
  },
  {
   "cell_type": "code",
   "execution_count": 7,
   "metadata": {},
   "outputs": [
    {
     "data": {
      "text/html": [
       "<div>\n",
       "<style scoped>\n",
       "    .dataframe tbody tr th:only-of-type {\n",
       "        vertical-align: middle;\n",
       "    }\n",
       "\n",
       "    .dataframe tbody tr th {\n",
       "        vertical-align: top;\n",
       "    }\n",
       "\n",
       "    .dataframe thead th {\n",
       "        text-align: right;\n",
       "    }\n",
       "</style>\n",
       "<table border=\"1\" class=\"dataframe\">\n",
       "  <thead>\n",
       "    <tr style=\"text-align: right;\">\n",
       "      <th></th>\n",
       "      <th>MedInc</th>\n",
       "      <th>HouseAge</th>\n",
       "      <th>AveRooms</th>\n",
       "      <th>AveBedrms</th>\n",
       "      <th>Population</th>\n",
       "      <th>AveOccup</th>\n",
       "      <th>Latitude</th>\n",
       "      <th>Longitude</th>\n",
       "    </tr>\n",
       "  </thead>\n",
       "  <tbody>\n",
       "    <tr>\n",
       "      <th>0</th>\n",
       "      <td>-0.129709</td>\n",
       "      <td>0.210526</td>\n",
       "      <td>-0.135624</td>\n",
       "      <td>-0.456789</td>\n",
       "      <td>1.209178</td>\n",
       "      <td>1.027459</td>\n",
       "      <td>-0.408971</td>\n",
       "      <td>0.389474</td>\n",
       "    </tr>\n",
       "    <tr>\n",
       "      <th>1</th>\n",
       "      <td>0.120872</td>\n",
       "      <td>1.052632</td>\n",
       "      <td>-0.473796</td>\n",
       "      <td>-0.088238</td>\n",
       "      <td>0.156884</td>\n",
       "      <td>-1.267790</td>\n",
       "      <td>-0.129288</td>\n",
       "      <td>0.092105</td>\n",
       "    </tr>\n",
       "    <tr>\n",
       "      <th>2</th>\n",
       "      <td>0.276686</td>\n",
       "      <td>-1.315789</td>\n",
       "      <td>0.254794</td>\n",
       "      <td>-0.683787</td>\n",
       "      <td>-0.268943</td>\n",
       "      <td>-0.110462</td>\n",
       "      <td>0.105541</td>\n",
       "      <td>-0.518421</td>\n",
       "    </tr>\n",
       "    <tr>\n",
       "      <th>3</th>\n",
       "      <td>-0.726634</td>\n",
       "      <td>0.368421</td>\n",
       "      <td>-0.766358</td>\n",
       "      <td>-0.164991</td>\n",
       "      <td>0.267876</td>\n",
       "      <td>1.382901</td>\n",
       "      <td>-0.414248</td>\n",
       "      <td>0.368421</td>\n",
       "    </tr>\n",
       "    <tr>\n",
       "      <th>4</th>\n",
       "      <td>0.003807</td>\n",
       "      <td>0.736842</td>\n",
       "      <td>0.641740</td>\n",
       "      <td>0.904998</td>\n",
       "      <td>-0.312700</td>\n",
       "      <td>-0.607659</td>\n",
       "      <td>0.664908</td>\n",
       "      <td>-0.339474</td>\n",
       "    </tr>\n",
       "    <tr>\n",
       "      <th>...</th>\n",
       "      <td>...</td>\n",
       "      <td>...</td>\n",
       "      <td>...</td>\n",
       "      <td>...</td>\n",
       "      <td>...</td>\n",
       "      <td>...</td>\n",
       "      <td>...</td>\n",
       "      <td>...</td>\n",
       "    </tr>\n",
       "    <tr>\n",
       "      <th>4123</th>\n",
       "      <td>0.480042</td>\n",
       "      <td>-0.684211</td>\n",
       "      <td>1.097799</td>\n",
       "      <td>0.182077</td>\n",
       "      <td>0.196371</td>\n",
       "      <td>0.201713</td>\n",
       "      <td>-0.237467</td>\n",
       "      <td>0.339474</td>\n",
       "    </tr>\n",
       "    <tr>\n",
       "      <th>4124</th>\n",
       "      <td>-0.371271</td>\n",
       "      <td>-0.052632</td>\n",
       "      <td>0.556899</td>\n",
       "      <td>2.210700</td>\n",
       "      <td>0.515475</td>\n",
       "      <td>-0.560166</td>\n",
       "      <td>0.290237</td>\n",
       "      <td>-0.610526</td>\n",
       "    </tr>\n",
       "    <tr>\n",
       "      <th>4125</th>\n",
       "      <td>2.576055</td>\n",
       "      <td>-0.210526</td>\n",
       "      <td>1.244142</td>\n",
       "      <td>-1.088049</td>\n",
       "      <td>0.446105</td>\n",
       "      <td>-0.031422</td>\n",
       "      <td>0.804749</td>\n",
       "      <td>-0.931579</td>\n",
       "    </tr>\n",
       "    <tr>\n",
       "      <th>4126</th>\n",
       "      <td>-0.344803</td>\n",
       "      <td>0.368421</td>\n",
       "      <td>0.033037</td>\n",
       "      <td>-0.705064</td>\n",
       "      <td>0.064034</td>\n",
       "      <td>-0.268599</td>\n",
       "      <td>0.662269</td>\n",
       "      <td>-0.328947</td>\n",
       "    </tr>\n",
       "    <tr>\n",
       "      <th>4127</th>\n",
       "      <td>0.002855</td>\n",
       "      <td>-0.631579</td>\n",
       "      <td>-0.775046</td>\n",
       "      <td>-0.168408</td>\n",
       "      <td>0.537887</td>\n",
       "      <td>1.072215</td>\n",
       "      <td>-0.010554</td>\n",
       "      <td>0.036842</td>\n",
       "    </tr>\n",
       "  </tbody>\n",
       "</table>\n",
       "<p>20640 rows × 8 columns</p>\n",
       "</div>"
      ],
      "text/plain": [
       "        MedInc  HouseAge  AveRooms  AveBedrms  Population  AveOccup  Latitude  \\\n",
       "0    -0.129709  0.210526 -0.135624  -0.456789    1.209178  1.027459 -0.408971   \n",
       "1     0.120872  1.052632 -0.473796  -0.088238    0.156884 -1.267790 -0.129288   \n",
       "2     0.276686 -1.315789  0.254794  -0.683787   -0.268943 -0.110462  0.105541   \n",
       "3    -0.726634  0.368421 -0.766358  -0.164991    0.267876  1.382901 -0.414248   \n",
       "4     0.003807  0.736842  0.641740   0.904998   -0.312700 -0.607659  0.664908   \n",
       "...        ...       ...       ...        ...         ...       ...       ...   \n",
       "4123  0.480042 -0.684211  1.097799   0.182077    0.196371  0.201713 -0.237467   \n",
       "4124 -0.371271 -0.052632  0.556899   2.210700    0.515475 -0.560166  0.290237   \n",
       "4125  2.576055 -0.210526  1.244142  -1.088049    0.446105 -0.031422  0.804749   \n",
       "4126 -0.344803  0.368421  0.033037  -0.705064    0.064034 -0.268599  0.662269   \n",
       "4127  0.002855 -0.631579 -0.775046  -0.168408    0.537887  1.072215 -0.010554   \n",
       "\n",
       "      Longitude  \n",
       "0      0.389474  \n",
       "1      0.092105  \n",
       "2     -0.518421  \n",
       "3      0.368421  \n",
       "4     -0.339474  \n",
       "...         ...  \n",
       "4123   0.339474  \n",
       "4124  -0.610526  \n",
       "4125  -0.931579  \n",
       "4126  -0.328947  \n",
       "4127   0.036842  \n",
       "\n",
       "[20640 rows x 8 columns]"
      ]
     },
     "execution_count": 7,
     "metadata": {},
     "output_type": "execute_result"
    }
   ],
   "source": [
    "from sklearn.preprocessing import RobustScaler\n",
    "\n",
    "transformer = RobustScaler().fit(X_train) #fit the scaler on training data\n",
    "X_train_scaled=transformer.transform(X_train) # scale the training data\n",
    "X_test_scaled=transformer.transform(X_test) # scale the test data\n",
    "\n",
    "\n",
    "# concat again the tables to plot the histograms\n",
    "\n",
    "Xdata_scaled = pd.concat([pd.DataFrame(X_train_scaled),\n",
    "                          pd.DataFrame(X_test_scaled)], axis=0)\n",
    "\n",
    "Xdata_scaled.columns=list(thedata.columns)[:-1]\n",
    "Xdata_scaled"
   ]
  },
  {
   "cell_type": "markdown",
   "metadata": {},
   "source": [
    "THE DATA DISTRIBUTION IS THE SAME BUT THE SCALE HAS CHANGED"
   ]
  },
  {
   "cell_type": "code",
   "execution_count": 8,
   "metadata": {},
   "outputs": [
    {
     "data": {
      "image/png": "[encoded data removed]",
      "text/plain": [
       "<Figure size 800x600 with 9 Axes>"
      ]
     },
     "metadata": {},
     "output_type": "display_data"
    }
   ],
   "source": [
    "Xdata_scaled.hist(figsize=(8, 6), bins=50)\n",
    "plt.tight_layout()\n",
    "plt.rcParams['xtick.labelsize'] = 5\n",
    "plt.rcParams['xtick.labelsize'] = 5\n",
    "#plt.rcParams['axes.titlesize'] = 5\n",
    "plt.show()"
   ]
  },
  {
   "cell_type": "code",
   "execution_count": 9,
   "metadata": {
    "scrolled": true
   },
   "outputs": [
    {
     "name": "stdout",
     "output_type": "stream",
     "text": [
      "intercept 2.0300236007230605\n"
     ]
    },
    {
     "data": {
      "text/plain": [
       "{'MedInc': 0.9899899713046635,\n",
       " 'HouseAge': 0.1847608928402003,\n",
       " 'AveRooms': -0.19842503814591228,\n",
       " 'AveBedrms': 0.07349028010934491,\n",
       " 'Population': -0.0019017544835941164,\n",
       " 'AveOccup': -0.003001606146641869,\n",
       " 'Latitude': -1.5910135241698744,\n",
       " 'Longitude': -1.6480906468631482}"
      ]
     },
     "metadata": {},
     "output_type": "display_data"
    }
   ],
   "source": [
    "from sklearn.linear_model import LinearRegression as LinReg\n",
    "\n",
    "linreg = LinReg() #init the model\n",
    "\n",
    "linreg.fit(X_train_scaled, y_train) # fit on the train\n",
    "\n",
    "y_pred_train = linreg.predict(X_train_scaled)  # predict on the test\n",
    "y_pred = linreg.predict(X_test_scaled)  # predict on the test\n",
    "\n",
    "\n",
    "print(\"intercept\", linreg.intercept_) # parameters extrated from the fitted model on the training set\n",
    "display(dict(zip(X_train.columns, linreg.coef_)))"
   ]
  },
  {
   "cell_type": "markdown",
   "metadata": {},
   "source": [
    "### the feature scaling did not improved the predictions at all.\n",
    "However, the model changed the Beta's, what gives as a better estimation of the relative importance of each parameter (coff)"
   ]
  },
  {
   "cell_type": "markdown",
   "metadata": {},
   "source": [
    "**`StandardScaler` and `RobustScaler`** techniques used for **feature (column) scaling** in machine learning. \n",
    "\n",
    "* **StandardScaler**: It assumes that the data is normally distributed and is **sensitive to outliers** (scales based on mean)\n",
    "* **RobustScaler**: Is **robust to outliers** (scales based on median and interquartile range (IQR))\n",
    "\n",
    "**`Normalizer`** (available in from `sklearn.preprocessing` too) used for **row-wise normalization**\n",
    "\n",
    "It Scales each sample (row) independently to have a unit norm (Euclidean norm of 1).\n",
    "Does not center the data. Useful for algorithms that require normalized input vectors, like clustering algorithms or neural networks.\n",
    "\n",
    "* **L1 normalization (Least Absolute Deviations)** scales each feature by dividing it by the sum of its absolute values.\n",
    "* **L2 normalization (Least Squares)** scales each feature by dividing it by the square root of the sum of its squares.\n",
    "\n",
    "\n",
    "\n",
    "#### USE OR NOT USE ???\n",
    "\n",
    "In most cases, you **wouldn't use Normalizer directly for linear regression** because linear regression algorithms often **don't require normalized input** features. The regression coefficients (weights) are estimated using the least squares method, which inherently handles feature scales.\n",
    "\n",
    "If you're using **regularization** techniques like **Ridge or Lasso** regression, which **penalize large coefficients**. In such cases, using **StandardScaler or RobustScaler might be more appropriate**."
   ]
  },
  {
   "cell_type": "code",
   "execution_count": 10,
   "metadata": {},
   "outputs": [
    {
     "data": {
      "text/plain": [
       "(0.6125511913966952, 0.575787706032451)"
      ]
     },
     "execution_count": 10,
     "metadata": {},
     "output_type": "execute_result"
    }
   ],
   "source": [
    "from sklearn.metrics import r2_score as r2\n",
    "\n",
    "r2(y_train, y_pred_train), r2(y_test, y_pred)\n",
    "\n",
    "# FORMER R2: (0.6125511913966953, 0.5757877060324512)"
   ]
  },
  {
   "cell_type": "code",
   "execution_count": 11,
   "metadata": {},
   "outputs": [
    {
     "data": {
      "text/plain": [
       "((16512, 8), (16512,), (4128, 8), (4128,))"
      ]
     },
     "execution_count": 11,
     "metadata": {},
     "output_type": "execute_result"
    }
   ],
   "source": [
    "X_train.shape, y_train.shape, X_test.shape, y_test.shape"
   ]
  },
  {
   "cell_type": "code",
   "execution_count": 12,
   "metadata": {
    "scrolled": true
   },
   "outputs": [
    {
     "data": {
      "text/html": [
       "<div>\n",
       "<style scoped>\n",
       "    .dataframe tbody tr th:only-of-type {\n",
       "        vertical-align: middle;\n",
       "    }\n",
       "\n",
       "    .dataframe tbody tr th {\n",
       "        vertical-align: top;\n",
       "    }\n",
       "\n",
       "    .dataframe thead th {\n",
       "        text-align: right;\n",
       "    }\n",
       "</style>\n",
       "<table border=\"1\" class=\"dataframe\">\n",
       "  <thead>\n",
       "    <tr style=\"text-align: right;\">\n",
       "      <th></th>\n",
       "      <th>MedInc</th>\n",
       "      <th>HouseAge</th>\n",
       "      <th>AveRooms</th>\n",
       "      <th>AveBedrms</th>\n",
       "      <th>Population</th>\n",
       "      <th>AveOccup</th>\n",
       "      <th>Latitude</th>\n",
       "      <th>Longitude</th>\n",
       "    </tr>\n",
       "  </thead>\n",
       "  <tbody>\n",
       "    <tr>\n",
       "      <th>0</th>\n",
       "      <td>-0.155528</td>\n",
       "      <td>0.166158</td>\n",
       "      <td>-0.083399</td>\n",
       "      <td>-0.099347</td>\n",
       "      <td>0.366310</td>\n",
       "      <td>0.024496</td>\n",
       "      <td>-0.654549</td>\n",
       "      <td>0.606762</td>\n",
       "    </tr>\n",
       "    <tr>\n",
       "      <th>1</th>\n",
       "      <td>-0.017716</td>\n",
       "      <td>0.799771</td>\n",
       "      <td>-0.199105</td>\n",
       "      <td>-0.063527</td>\n",
       "      <td>-0.048883</td>\n",
       "      <td>-0.058007</td>\n",
       "      <td>-0.433316</td>\n",
       "      <td>0.350510</td>\n",
       "    </tr>\n",
       "    <tr>\n",
       "      <th>2</th>\n",
       "      <td>0.068035</td>\n",
       "      <td>-0.918114</td>\n",
       "      <td>0.041477</td>\n",
       "      <td>-0.121088</td>\n",
       "      <td>-0.211493</td>\n",
       "      <td>-0.015177</td>\n",
       "      <td>-0.216349</td>\n",
       "      <td>-0.210451</td>\n",
       "    </tr>\n",
       "    <tr>\n",
       "      <th>3</th>\n",
       "      <td>-0.446484</td>\n",
       "      <td>0.257287</td>\n",
       "      <td>-0.263196</td>\n",
       "      <td>-0.063673</td>\n",
       "      <td>-0.003261</td>\n",
       "      <td>0.033998</td>\n",
       "      <td>-0.606287</td>\n",
       "      <td>0.540721</td>\n",
       "    </tr>\n",
       "    <tr>\n",
       "      <th>4</th>\n",
       "      <td>-0.121303</td>\n",
       "      <td>0.807802</td>\n",
       "      <td>0.246871</td>\n",
       "      <td>0.061274</td>\n",
       "      <td>-0.343686</td>\n",
       "      <td>-0.048688</td>\n",
       "      <td>0.376371</td>\n",
       "      <td>-0.076784</td>\n",
       "    </tr>\n",
       "    <tr>\n",
       "      <th>...</th>\n",
       "      <td>...</td>\n",
       "      <td>...</td>\n",
       "      <td>...</td>\n",
       "      <td>...</td>\n",
       "      <td>...</td>\n",
       "      <td>...</td>\n",
       "      <td>...</td>\n",
       "      <td>...</td>\n",
       "    </tr>\n",
       "    <tr>\n",
       "      <th>4123</th>\n",
       "      <td>0.187489</td>\n",
       "      <td>-0.493201</td>\n",
       "      <td>0.323569</td>\n",
       "      <td>-0.034495</td>\n",
       "      <td>-0.032713</td>\n",
       "      <td>-0.004599</td>\n",
       "      <td>-0.526771</td>\n",
       "      <td>0.580633</td>\n",
       "    </tr>\n",
       "    <tr>\n",
       "      <th>4124</th>\n",
       "      <td>-0.594653</td>\n",
       "      <td>-0.047357</td>\n",
       "      <td>0.286316</td>\n",
       "      <td>0.362488</td>\n",
       "      <td>0.192895</td>\n",
       "      <td>-0.064106</td>\n",
       "      <td>-0.130021</td>\n",
       "      <td>-0.610367</td>\n",
       "    </tr>\n",
       "    <tr>\n",
       "      <th>4125</th>\n",
       "      <td>0.854584</td>\n",
       "      <td>-0.087108</td>\n",
       "      <td>0.229696</td>\n",
       "      <td>-0.104992</td>\n",
       "      <td>0.042422</td>\n",
       "      <td>-0.008053</td>\n",
       "      <td>0.237341</td>\n",
       "      <td>-0.374326</td>\n",
       "    </tr>\n",
       "    <tr>\n",
       "      <th>4126</th>\n",
       "      <td>-0.557245</td>\n",
       "      <td>0.568010</td>\n",
       "      <td>-0.059308</td>\n",
       "      <td>-0.253863</td>\n",
       "      <td>-0.169874</td>\n",
       "      <td>-0.042518</td>\n",
       "      <td>0.510737</td>\n",
       "      <td>-0.085807</td>\n",
       "    </tr>\n",
       "    <tr>\n",
       "      <th>4127</th>\n",
       "      <td>-0.118399</td>\n",
       "      <td>-0.631907</td>\n",
       "      <td>-0.415631</td>\n",
       "      <td>-0.100086</td>\n",
       "      <td>0.147544</td>\n",
       "      <td>0.037502</td>\n",
       "      <td>-0.456936</td>\n",
       "      <td>0.414660</td>\n",
       "    </tr>\n",
       "  </tbody>\n",
       "</table>\n",
       "<p>20640 rows × 8 columns</p>\n",
       "</div>"
      ],
      "text/plain": [
       "        MedInc  HouseAge  AveRooms  AveBedrms  Population  AveOccup  Latitude  \\\n",
       "0    -0.155528  0.166158 -0.083399  -0.099347    0.366310  0.024496 -0.654549   \n",
       "1    -0.017716  0.799771 -0.199105  -0.063527   -0.048883 -0.058007 -0.433316   \n",
       "2     0.068035 -0.918114  0.041477  -0.121088   -0.211493 -0.015177 -0.216349   \n",
       "3    -0.446484  0.257287 -0.263196  -0.063673   -0.003261  0.033998 -0.606287   \n",
       "4    -0.121303  0.807802  0.246871   0.061274   -0.343686 -0.048688  0.376371   \n",
       "...        ...       ...       ...        ...         ...       ...       ...   \n",
       "4123  0.187489 -0.493201  0.323569  -0.034495   -0.032713 -0.004599 -0.526771   \n",
       "4124 -0.594653 -0.047357  0.286316   0.362488    0.192895 -0.064106 -0.130021   \n",
       "4125  0.854584 -0.087108  0.229696  -0.104992    0.042422 -0.008053  0.237341   \n",
       "4126 -0.557245  0.568010 -0.059308  -0.253863   -0.169874 -0.042518  0.510737   \n",
       "4127 -0.118399 -0.631907 -0.415631  -0.100086    0.147544  0.037502 -0.456936   \n",
       "\n",
       "      Longitude  \n",
       "0      0.606762  \n",
       "1      0.350510  \n",
       "2     -0.210451  \n",
       "3      0.540721  \n",
       "4     -0.076784  \n",
       "...         ...  \n",
       "4123   0.580633  \n",
       "4124  -0.610367  \n",
       "4125  -0.374326  \n",
       "4126  -0.085807  \n",
       "4127   0.414660  \n",
       "\n",
       "[20640 rows x 8 columns]"
      ]
     },
     "execution_count": 12,
     "metadata": {},
     "output_type": "execute_result"
    }
   ],
   "source": [
    "from sklearn.preprocessing import StandardScaler, Normalizer\n",
    "\n",
    "# standardization\n",
    "transformer = StandardScaler().fit(X_train) #fit the scaler on training data\n",
    "X_train_scaled=transformer.transform(X_train) # scale the training data\n",
    "X_test_scaled=transformer.transform(X_test) # scale the test data\n",
    "#\n",
    "\n",
    "# Unit Vector Normalization\n",
    "scaler_unit = Normalizer(norm='l2')  # 'l1' or 'l2' for L1 or L2 normalization\n",
    "X_train_scaled = scaler_unit.fit_transform(X_train_scaled)\n",
    "X_test_scaled = scaler_unit.fit_transform(X_test_scaled)\n",
    "\n",
    "\n",
    "#\n",
    "Xdata_scaled = pd.concat([pd.DataFrame(X_train_scaled),\n",
    "                          pd.DataFrame(X_test_scaled)], axis=0)\n",
    "\n",
    "Xdata_scaled.columns=list(thedata.columns)[:-1]\n",
    "Xdata_scaled"
   ]
  },
  {
   "cell_type": "code",
   "execution_count": 226,
   "metadata": {},
   "outputs": [
    {
     "data": {
      "image/png": "[encoded data removed]",
      "text/plain": [
       "<Figure size 800x600 with 9 Axes>"
      ]
     },
     "metadata": {},
     "output_type": "display_data"
    }
   ],
   "source": [
    "Xdata_scaled.hist(figsize=(8, 6), bins=50)\n",
    "plt.tight_layout()\n",
    "plt.rcParams['xtick.labelsize'] = 5\n",
    "plt.rcParams['xtick.labelsize'] = 5\n",
    "#plt.rcParams['axes.titlesize'] = 5\n",
    "plt.show()"
   ]
  },
  {
   "cell_type": "code",
   "execution_count": 13,
   "metadata": {},
   "outputs": [
    {
     "name": "stdout",
     "output_type": "stream",
     "text": [
      "intercept 2.104575124485332\n"
     ]
    },
    {
     "data": {
      "text/plain": [
       "{'MedInc': 2.2046115011484506,\n",
       " 'HouseAge': 0.3343483320953017,\n",
       " 'AveRooms': -0.9556470678309925,\n",
       " 'AveBedrms': 1.1350858215637731,\n",
       " 'Population': 0.055672280643951945,\n",
       " 'AveOccup': -4.285850592694984,\n",
       " 'Latitude': -1.4142878360106754,\n",
       " 'Longitude': -1.35643142138913}"
      ]
     },
     "metadata": {},
     "output_type": "display_data"
    }
   ],
   "source": [
    "from sklearn.linear_model import LinearRegression as LinReg\n",
    "\n",
    "linreg = LinReg() #init the model\n",
    "\n",
    "linreg.fit(X_train_scaled, y_train) # fit on the train\n",
    "\n",
    "y_pred_train = linreg.predict(X_train_scaled)  # predict on the test\n",
    "y_pred = linreg.predict(X_test_scaled)  # predict on the test\n",
    "\n",
    "\n",
    "print(\"intercept\", linreg.intercept_) # parameters extrated from the fitted model on the training set\n",
    "display(dict(zip(X_train.columns, linreg.coef_)))"
   ]
  },
  {
   "cell_type": "markdown",
   "metadata": {},
   "source": [
    "#### IT IMPROVED THE R2 ON TEST A LITTLE BIT"
   ]
  },
  {
   "cell_type": "code",
   "execution_count": 14,
   "metadata": {},
   "outputs": [
    {
     "data": {
      "text/plain": [
       "(0.6089828835334312, 0.5935789816306617)"
      ]
     },
     "execution_count": 14,
     "metadata": {},
     "output_type": "execute_result"
    }
   ],
   "source": [
    "from sklearn.metrics import r2_score as r2\n",
    "\n",
    "r2(y_train, y_pred_train), r2(y_test, y_pred)\n",
    "\n",
    "# FORMER R2: (0.6125511913966953, 0.5757877060324512)"
   ]
  },
  {
   "cell_type": "code",
   "execution_count": 19,
   "metadata": {},
   "outputs": [
    {
     "data": {
      "text/html": [
       "<div>\n",
       "<style scoped>\n",
       "    .dataframe tbody tr th:only-of-type {\n",
       "        vertical-align: middle;\n",
       "    }\n",
       "\n",
       "    .dataframe tbody tr th {\n",
       "        vertical-align: top;\n",
       "    }\n",
       "\n",
       "    .dataframe thead th {\n",
       "        text-align: right;\n",
       "    }\n",
       "</style>\n",
       "<table border=\"1\" class=\"dataframe\">\n",
       "  <thead>\n",
       "    <tr style=\"text-align: right;\">\n",
       "      <th></th>\n",
       "      <th>MedInc</th>\n",
       "      <th>HouseAge</th>\n",
       "      <th>AveRooms</th>\n",
       "      <th>AveBedrms</th>\n",
       "      <th>Population</th>\n",
       "      <th>AveOccup</th>\n",
       "      <th>Latitude</th>\n",
       "      <th>Longitude</th>\n",
       "      <th>MEDV</th>\n",
       "    </tr>\n",
       "  </thead>\n",
       "  <tbody>\n",
       "    <tr>\n",
       "      <th>0</th>\n",
       "      <td>8.3252</td>\n",
       "      <td>41.0</td>\n",
       "      <td>6.984127</td>\n",
       "      <td>1.023810</td>\n",
       "      <td>322.0</td>\n",
       "      <td>2.555556</td>\n",
       "      <td>37.88</td>\n",
       "      <td>-122.23</td>\n",
       "      <td>4.526</td>\n",
       "    </tr>\n",
       "    <tr>\n",
       "      <th>1</th>\n",
       "      <td>8.3014</td>\n",
       "      <td>21.0</td>\n",
       "      <td>6.238137</td>\n",
       "      <td>0.971880</td>\n",
       "      <td>2401.0</td>\n",
       "      <td>2.109842</td>\n",
       "      <td>37.86</td>\n",
       "      <td>-122.22</td>\n",
       "      <td>3.585</td>\n",
       "    </tr>\n",
       "    <tr>\n",
       "      <th>2</th>\n",
       "      <td>7.2574</td>\n",
       "      <td>52.0</td>\n",
       "      <td>8.288136</td>\n",
       "      <td>1.073446</td>\n",
       "      <td>496.0</td>\n",
       "      <td>2.802260</td>\n",
       "      <td>37.85</td>\n",
       "      <td>-122.24</td>\n",
       "      <td>3.521</td>\n",
       "    </tr>\n",
       "    <tr>\n",
       "      <th>3</th>\n",
       "      <td>5.6431</td>\n",
       "      <td>52.0</td>\n",
       "      <td>5.817352</td>\n",
       "      <td>1.073059</td>\n",
       "      <td>558.0</td>\n",
       "      <td>2.547945</td>\n",
       "      <td>37.85</td>\n",
       "      <td>-122.25</td>\n",
       "      <td>3.413</td>\n",
       "    </tr>\n",
       "    <tr>\n",
       "      <th>4</th>\n",
       "      <td>3.8462</td>\n",
       "      <td>52.0</td>\n",
       "      <td>6.281853</td>\n",
       "      <td>1.081081</td>\n",
       "      <td>565.0</td>\n",
       "      <td>2.181467</td>\n",
       "      <td>37.85</td>\n",
       "      <td>-122.25</td>\n",
       "      <td>3.422</td>\n",
       "    </tr>\n",
       "    <tr>\n",
       "      <th>...</th>\n",
       "      <td>...</td>\n",
       "      <td>...</td>\n",
       "      <td>...</td>\n",
       "      <td>...</td>\n",
       "      <td>...</td>\n",
       "      <td>...</td>\n",
       "      <td>...</td>\n",
       "      <td>...</td>\n",
       "      <td>...</td>\n",
       "    </tr>\n",
       "    <tr>\n",
       "      <th>20635</th>\n",
       "      <td>1.5603</td>\n",
       "      <td>25.0</td>\n",
       "      <td>5.045455</td>\n",
       "      <td>1.133333</td>\n",
       "      <td>845.0</td>\n",
       "      <td>2.560606</td>\n",
       "      <td>39.48</td>\n",
       "      <td>-121.09</td>\n",
       "      <td>0.781</td>\n",
       "    </tr>\n",
       "    <tr>\n",
       "      <th>20636</th>\n",
       "      <td>2.5568</td>\n",
       "      <td>18.0</td>\n",
       "      <td>6.114035</td>\n",
       "      <td>1.315789</td>\n",
       "      <td>356.0</td>\n",
       "      <td>3.122807</td>\n",
       "      <td>39.49</td>\n",
       "      <td>-121.21</td>\n",
       "      <td>0.771</td>\n",
       "    </tr>\n",
       "    <tr>\n",
       "      <th>20637</th>\n",
       "      <td>1.7000</td>\n",
       "      <td>17.0</td>\n",
       "      <td>5.205543</td>\n",
       "      <td>1.120092</td>\n",
       "      <td>1007.0</td>\n",
       "      <td>2.325635</td>\n",
       "      <td>39.43</td>\n",
       "      <td>-121.22</td>\n",
       "      <td>0.923</td>\n",
       "    </tr>\n",
       "    <tr>\n",
       "      <th>20638</th>\n",
       "      <td>1.8672</td>\n",
       "      <td>18.0</td>\n",
       "      <td>5.329513</td>\n",
       "      <td>1.171920</td>\n",
       "      <td>741.0</td>\n",
       "      <td>2.123209</td>\n",
       "      <td>39.43</td>\n",
       "      <td>-121.32</td>\n",
       "      <td>0.847</td>\n",
       "    </tr>\n",
       "    <tr>\n",
       "      <th>20639</th>\n",
       "      <td>2.3886</td>\n",
       "      <td>16.0</td>\n",
       "      <td>5.254717</td>\n",
       "      <td>1.162264</td>\n",
       "      <td>1387.0</td>\n",
       "      <td>2.616981</td>\n",
       "      <td>39.37</td>\n",
       "      <td>-121.24</td>\n",
       "      <td>0.894</td>\n",
       "    </tr>\n",
       "  </tbody>\n",
       "</table>\n",
       "<p>20640 rows × 9 columns</p>\n",
       "</div>"
      ],
      "text/plain": [
       "       MedInc  HouseAge  AveRooms  AveBedrms  Population  AveOccup  Latitude  \\\n",
       "0      8.3252      41.0  6.984127   1.023810       322.0  2.555556     37.88   \n",
       "1      8.3014      21.0  6.238137   0.971880      2401.0  2.109842     37.86   \n",
       "2      7.2574      52.0  8.288136   1.073446       496.0  2.802260     37.85   \n",
       "3      5.6431      52.0  5.817352   1.073059       558.0  2.547945     37.85   \n",
       "4      3.8462      52.0  6.281853   1.081081       565.0  2.181467     37.85   \n",
       "...       ...       ...       ...        ...         ...       ...       ...   \n",
       "20635  1.5603      25.0  5.045455   1.133333       845.0  2.560606     39.48   \n",
       "20636  2.5568      18.0  6.114035   1.315789       356.0  3.122807     39.49   \n",
       "20637  1.7000      17.0  5.205543   1.120092      1007.0  2.325635     39.43   \n",
       "20638  1.8672      18.0  5.329513   1.171920       741.0  2.123209     39.43   \n",
       "20639  2.3886      16.0  5.254717   1.162264      1387.0  2.616981     39.37   \n",
       "\n",
       "       Longitude   MEDV  \n",
       "0        -122.23  4.526  \n",
       "1        -122.22  3.585  \n",
       "2        -122.24  3.521  \n",
       "3        -122.25  3.413  \n",
       "4        -122.25  3.422  \n",
       "...          ...    ...  \n",
       "20635    -121.09  0.781  \n",
       "20636    -121.21  0.771  \n",
       "20637    -121.22  0.923  \n",
       "20638    -121.32  0.847  \n",
       "20639    -121.24  0.894  \n",
       "\n",
       "[20640 rows x 9 columns]"
      ]
     },
     "execution_count": 19,
     "metadata": {},
     "output_type": "execute_result"
    }
   ],
   "source": [
    "thedata"
   ]
  },
  {
   "cell_type": "code",
   "execution_count": 22,
   "metadata": {},
   "outputs": [
    {
     "data": {
      "image/png": "[encoded data removed]",
      "text/plain": [
       "<Figure size 640x480 with 1 Axes>"
      ]
     },
     "metadata": {},
     "output_type": "display_data"
    }
   ],
   "source": [
    "sns.scatterplot(data=thedata, x=\"MedInc\", y=\"MEDV\", color='black')\n",
    "sns.regplot(data=thedata, x=\"MedInc\", y=\"MEDV\", scatter=False, color='red');  # Regression line\n"
   ]
  }
 ],
 "metadata": {
  "kernelspec": {
   "display_name": "Python 3 (ipykernel)",
   "language": "python",
   "name": "python3"
  },
  "language_info": {
   "codemirror_mode": {
    "name": "ipython",
    "version": 3
   },
   "file_extension": ".py",
   "mimetype": "text/x-python",
   "name": "python",
   "nbconvert_exporter": "python",
   "pygments_lexer": "ipython3",
   "version": "3.7.16"
  }
 },
 "nbformat": 4,
 "nbformat_minor": 2
}
