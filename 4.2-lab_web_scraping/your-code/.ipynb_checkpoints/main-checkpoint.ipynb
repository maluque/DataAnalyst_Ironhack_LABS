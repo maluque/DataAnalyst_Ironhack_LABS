{
 "cells": [
  {
   "cell_type": "markdown",
   "metadata": {},
   "source": [
    "# Web Scraping Lab\n",
    "\n",
    "You will find in this notebook some scrapy exercises to practise your scraping skills.\n",
    "\n",
    "**Tips:**\n",
    "\n",
    "- Check the response status code for each request to ensure you have obtained the intended contennt.\n",
    "- Print the response text in each request to understand the kind of info you are getting and its format.\n",
    "- Check for patterns in the response text to extract the data/info requested in each question.\n",
    "- Visit each url and take a look at its source through Chrome DevTools. You'll need to identify the html tags, special class names etc. used for the html content you are expected to extract."
   ]
  },
  {
   "cell_type": "markdown",
   "metadata": {},
   "source": [
    "- [Requests library](http://docs.python-requests.org/en/master/#the-user-guide) documentation \n",
    "- [Beautiful Soup Doc](https://www.crummy.com/software/BeautifulSoup/bs4/doc/)\n",
    "- [Urllib](https://docs.python.org/3/library/urllib.html#module-urllib)\n",
    "- [re lib](https://docs.python.org/3/library/re.html)\n",
    "- [lxml lib](https://lxml.de/)\n",
    "- [Scrapy](https://scrapy.org/)\n",
    "- [List of HTTP status codes](https://en.wikipedia.org/wiki/List_of_HTTP_status_codes)\n",
    "- [HTML basics](http://www.simplehtmlguide.com/cheatsheet.php)\n",
    "- [CSS basics](https://www.cssbasics.com/#page_start)"
   ]
  },
  {
   "cell_type": "markdown",
   "metadata": {},
   "source": [
    "#### Below are the libraries and modules you may need. `requests`,  `BeautifulSoup` and `pandas` are imported for you. If you prefer to use additional libraries feel free to uncomment them."
   ]
  },
  {
   "cell_type": "code",
   "execution_count": 2,
   "metadata": {},
   "outputs": [],
   "source": [
    "import requests as req\n",
    "from bs4 import BeautifulSoup as bs \n",
    "import pandas as pd\n",
    "# from pprint import pprint\n",
    "# from lxml import html\n",
    "# from lxml.html import fromstring\n",
    "# import urllib.request\n",
    "# from urllib.request import urlopen\n",
    "# import random\n",
    "# import re\n",
    "# import scrapy"
   ]
  },
  {
   "cell_type": "markdown",
   "metadata": {},
   "source": [
    "#### Download, parse (using BeautifulSoup), and print the content from the Trending Developers page from GitHub:"
   ]
  },
  {
   "cell_type": "code",
   "execution_count": 3,
   "metadata": {},
   "outputs": [],
   "source": [
    "# This is the url you will scrape in this exercise\n",
    "url = 'https://github.com/trending/developers'"
   ]
  },
  {
   "cell_type": "code",
   "execution_count": 13,
   "metadata": {},
   "outputs": [],
   "source": [
    "response = req.get(url)\n",
    "html=response.content\n",
    "soup = bs(html, 'html.parser')# parsear (traducir string a algo similar al html)"
   ]
  },
  {
   "cell_type": "code",
   "execution_count": 100,
   "metadata": {},
   "outputs": [
    {
     "name": "stdout",
     "output_type": "stream",
     "text": [
      "23 . Ismail Pelaseyed\n",
      "24 . Alex Stokes\n",
      "25 . Don Jayamanne\n",
      "26 . Stefan Prodan\n",
      "27 . Travis Cline\n",
      "28 . Oliver\n",
      "29 . dgtlmoon\n",
      "30 . Guillaume Klein\n",
      "31 . lllyasviel\n",
      "32 . Angelos Chalaris\n",
      "33 . Jon Skeet\n",
      "34 . Chris Banes\n",
      "35 . Carlos Scheidegger\n",
      "36 . Anders Eknert\n",
      "37 . Emil Ernerfeldt\n",
      "38 . Andrea Aime\n",
      "39 . Mattt\n",
      "40 . Meng Zhang\n",
      "41 . Shahed Nasser\n",
      "42 . dkhamsing\n",
      "43 . Kieron Quinn\n",
      "44 . afc163\n",
      "45 . Alan Donovan\n",
      "46 . Lee Calcote\n",
      "47 . Costa Huang\n"
     ]
    }
   ],
   "source": [
    "developers=soup.find_all('h1', class_=\"h3 lh-condensed\")\n",
    "for devs in developers:\n",
    "    a+=1\n",
    "    print(a, \".\", devs.text.strip())"
   ]
  },
  {
   "cell_type": "code",
   "execution_count": 120,
   "metadata": {},
   "outputs": [],
   "source": [
    "developers=soup.find_all('h1', class_=\"h3 lh-condensed\")\n",
    "developers2=soup.find_all('p', class_=\"f4 text-normal mb-1\")\n",
    "\n",
    "developers12=dict(zip(developers,developers2))"
   ]
  },
  {
   "cell_type": "code",
   "execution_count": 119,
   "metadata": {},
   "outputs": [
    {
     "name": "stdout",
     "output_type": "stream",
     "text": [
      "1 . Ismail Pelaseyed ---- homanp\n",
      "2 . Alex Stokes ---- ralexstokes\n",
      "3 . Don Jayamanne ---- DonJayamanne\n",
      "4 . Stefan Prodan ---- stefanprodan\n",
      "5 . Travis Cline ---- tmc\n",
      "6 . Oliver ---- SchrodingersGat\n",
      "7 . dgtlmoon ---- guillaumekln\n",
      "8 . Guillaume Klein ---- Chalarangelo\n",
      "9 . lllyasviel ---- jskeet\n",
      "10 . Angelos Chalaris ---- chrisbanes\n",
      "11 . Jon Skeet ---- cscheid\n",
      "12 . Chris Banes ---- anderseknert\n",
      "13 . Carlos Scheidegger ---- emilk\n",
      "14 . Anders Eknert ---- aaime\n",
      "15 . Emil Ernerfeldt ---- mattt\n",
      "16 . Andrea Aime ---- wsxiaoys\n",
      "17 . Mattt ---- shahednasser\n",
      "18 . Meng Zhang ---- KieronQuinn\n",
      "19 . Shahed Nasser ---- afc163\n",
      "20 . dkhamsing ---- adonovan\n",
      "21 . Kieron Quinn ---- leecalcote\n",
      "22 . afc163 ---- vwxyzjn\n"
     ]
    }
   ],
   "source": [
    "a=0\n",
    "for i in range(len(developers12)):\n",
    "    a+=1\n",
    "    print(a, \".\", developers[i].text.strip(), \"----\", developers2[i].text.strip())\n"
   ]
  },
  {
   "cell_type": "markdown",
   "metadata": {},
   "source": [
    "#### Display the names of the trending developers retrieved in the previous step.\n",
    "\n",
    "Your output should be a Python list of developer names. Each name should not contain any html tag.\n",
    "\n",
    "**Instructions:**\n",
    "\n",
    "1. Find out the html tag and class names used for the developer names. You can achieve this using Chrome DevTools.\n",
    "\n",
    "1. Use BeautifulSoup to extract all the html elements that contain the developer names.\n",
    "\n",
    "1. Use string manipulation techniques to replace whitespaces and linebreaks (i.e. `\\n`) in the *text* of each html element. Use a list to store the clean names.\n",
    "\n",
    "1. Print the list of names.\n",
    "\n",
    "Your output should look like below:\n",
    "\n",
    "```\n",
    "['trimstray (@trimstray)',\n",
    " 'joewalnes (JoeWalnes)',\n",
    " 'charlax (Charles-AxelDein)',\n",
    " 'ForrestKnight (ForrestKnight)',\n",
    " 'revery-ui (revery-ui)',\n",
    " 'alibaba (Alibaba)',\n",
    " 'Microsoft (Microsoft)',\n",
    " 'github (GitHub)',\n",
    " 'facebook (Facebook)',\n",
    " 'boazsegev (Bo)',\n",
    " 'google (Google)',\n",
    " 'cloudfetch',\n",
    " 'sindresorhus (SindreSorhus)',\n",
    " 'tensorflow',\n",
    " 'apache (TheApacheSoftwareFoundation)',\n",
    " 'DevonCrawford (DevonCrawford)',\n",
    " 'ARMmbed (ArmMbed)',\n",
    " 'vuejs (vuejs)',\n",
    " 'fastai (fast.ai)',\n",
    " 'QiShaoXuan (Qi)',\n",
    " 'joelparkerhenderson (JoelParkerHenderson)',\n",
    " 'torvalds (LinusTorvalds)',\n",
    " 'CyC2018',\n",
    " 'komeiji-satori (神楽坂覚々)',\n",
    " 'script-8']\n",
    " ```"
   ]
  },
  {
   "cell_type": "markdown",
   "metadata": {},
   "source": [
    "#### Display the trending Python repositories in GitHub\n",
    "\n",
    "The steps to solve this problem is similar to the previous one except that you need to find out the repository names instead of developer names."
   ]
  },
  {
   "cell_type": "code",
   "execution_count": 123,
   "metadata": {},
   "outputs": [],
   "source": [
    "# This is the url you will scrape in this exercise\n",
    "url = 'https://github.com/trending/python?since=daily'"
   ]
  },
  {
   "cell_type": "code",
   "execution_count": 124,
   "metadata": {},
   "outputs": [],
   "source": [
    "response = req.get(url)\n",
    "html=response.content\n",
    "soup = bs(html, 'html.parser')# parsear (traducir string a algo similar al html)"
   ]
  },
  {
   "cell_type": "code",
   "execution_count": 141,
   "metadata": {},
   "outputs": [
    {
     "name": "stdout",
     "output_type": "stream",
     "text": [
      "1 . ChatGLM3\n",
      "2 . Wonder3D\n",
      "3 . public-apis\n",
      "4 . system-design-primer\n",
      "5 . devops-exercises\n",
      "6 . ChatDev\n",
      "7 . reflex\n",
      "8 . face_recognition\n",
      "9 . langflow\n",
      "10 . raven\n",
      "11 . nnUNet\n",
      "12 . Fooocus\n",
      "13 . CogVLM\n",
      "14 . rag-demystified\n",
      "15 . PaddleOCR\n",
      "16 . deepface\n",
      "17 . ungoogled-chromium\n",
      "18 . poetry\n",
      "19 . django\n",
      "20 . bisheng\n",
      "21 . litestar\n",
      "22 . whisper\n",
      "23 . discord_bot\n",
      "24 . autotrain-advanced\n",
      "25 . haystack\n"
     ]
    }
   ],
   "source": [
    "repos=soup.find_all('h2', class_=\"h3 lh-condensed\")\n",
    "\n",
    "a=0\n",
    "for i in range(len(repos)):\n",
    "    a+=1\n",
    "    print(a, \".\", repos[i].text.strip().split(\" \")[-1])\n"
   ]
  },
  {
   "cell_type": "markdown",
   "metadata": {},
   "source": [
    "#### Display all the image links from Walt Disney wikipedia page"
   ]
  },
  {
   "cell_type": "code",
   "execution_count": 152,
   "metadata": {},
   "outputs": [],
   "source": [
    "# This is the url you will scrape in this exercise\n",
    "url = 'https://en.wikipedia.org/wiki/Walt_Disney'"
   ]
  },
  {
   "cell_type": "code",
   "execution_count": 153,
   "metadata": {},
   "outputs": [],
   "source": [
    "response = req.get(url)\n",
    "html=response.content\n",
    "soup = bs(html, 'html.parser')# parsear (traducir string a algo similar al html)"
   ]
  },
  {
   "cell_type": "code",
   "execution_count": 162,
   "metadata": {},
   "outputs": [
    {
     "name": "stdout",
     "output_type": "stream",
     "text": [
      "1 . Walt_Disney_1946.JPG\n",
      "2 . Walt_Disney_1942_signature.svg\n",
      "3 . Walt_Disney_Birthplace_Exterior_Hermosa_Chicago_Illinois.jpg\n",
      "4 . Walt_Disney_envelope_ca._1921.jpg\n",
      "5 . Steamboat-willie.jpg\n",
      "6 . Walt_Disney_Snow_white_1937_trailer_screenshot_(13).jpg\n",
      "7 . Disney_drawing_goofy.jpg\n",
      "8 . WaltDisneyplansDisneylandDec1954.jpg\n",
      "9 . Walt_disney_portrait_right.jpg\n",
      "10 . Walt_Disney_Grave.JPG\n",
      "11 . DisneySchiphol1951.jpg\n",
      "12 . Disney1968.jpg\n",
      "13 . Disney_Oscar_1953_(cropped).jpg\n",
      "14 . Disneyland_Resort_logo.svg\n",
      "15 . Animation_disc.svg\n",
      "16 . Magic_Kingdom_castle.jpg\n",
      "17 . Blank_television_set.svg\n"
     ]
    }
   ],
   "source": [
    "images=soup.find_all('a', class_=\"mw-file-description\")\n",
    "\n",
    "images[0].attrs['href']\n",
    "\n",
    "\n",
    "a=0\n",
    "for i in range(len(images)):\n",
    "    a+=1\n",
    "    print(a, \".\", images[i].attrs['href'].split(\":\")[-1])\n",
    "\n"
   ]
  },
  {
   "cell_type": "markdown",
   "metadata": {},
   "source": [
    "#### Retrieve an arbitary Wikipedia page of \"Python\" and create a list of links on that page"
   ]
  },
  {
   "cell_type": "code",
   "execution_count": 167,
   "metadata": {},
   "outputs": [],
   "source": [
    "# This is the url you will scrape in this exercise\n",
    "url ='https://en.wiktionary.org/wiki/Python' "
   ]
  },
  {
   "cell_type": "code",
   "execution_count": 168,
   "metadata": {},
   "outputs": [],
   "source": [
    "response = req.get(url)\n",
    "html=response.content\n",
    "soup = bs(html, 'html.parser')# parsear (traducir string a algo similar al html)"
   ]
  },
  {
   "cell_type": "code",
   "execution_count": 172,
   "metadata": {},
   "outputs": [
    {
     "data": {
      "text/plain": [
       "['https://species.wikimedia.org/wiki/Python_reticulatus',\n",
       " 'https://en.wikipedia.org/wiki/Ancient_Greek',\n",
       " 'https://species.wikimedia.org/wiki/Pythoninae',\n",
       " 'https://species.wikimedia.org/wiki/Python_molurus',\n",
       " 'https://species.wikimedia.org/wiki/Python_anchietae',\n",
       " 'https://species.wikimedia.org/wiki/Python_bivittatus',\n",
       " 'https://species.wikimedia.org/wiki/Python_breitensteini',\n",
       " 'https://species.wikimedia.org/wiki/Python_brongersmai',\n",
       " 'https://species.wikimedia.org/wiki/Python_curtus',\n",
       " 'https://species.wikimedia.org/wiki/Python_kyaiktiyo']"
      ]
     },
     "execution_count": 172,
     "metadata": {},
     "output_type": "execute_result"
    }
   ],
   "source": [
    "links=soup.find_all('a', class_=\"extiw\")\n",
    "\n",
    "href_list = [link['href'] for link in links] ### as comprehension\n",
    "\n",
    "href_list[:10]"
   ]
  },
  {
   "cell_type": "markdown",
   "metadata": {},
   "source": [
    "#### Number of Titles that have changed in the United States Code since its last release point "
   ]
  },
  {
   "cell_type": "code",
   "execution_count": 173,
   "metadata": {},
   "outputs": [],
   "source": [
    "# This is the url you will scrape in this exercise\n",
    "url = 'http://uscode.house.gov/download/download.shtml'\n",
    "response = req.get(url)\n",
    "html=response.content\n",
    "soup = bs(html, 'html.parser')# parsear (traducir string a algo similar al html)"
   ]
  },
  {
   "cell_type": "code",
   "execution_count": 258,
   "metadata": {},
   "outputs": [
    {
     "name": "stdout",
     "output_type": "stream",
     "text": [
      "['Title 20 - Education', \"Title 38 - Veterans' Benefits٭\"]\n"
     ]
    }
   ],
   "source": [
    "changed_tit=[]\n",
    "titles=soup.find_all('div', class_=\"uscitem\")\n",
    "for i in range(1,len(titles)):\n",
    "    #print(titles[i].text)\n",
    "    res = titles[i].find_all(\"div\", class_=\"usctitlechanged\")\n",
    "    if(len(res)!=0):\n",
    "        changed_tit.append(res[0].get_text(strip=True))\n",
    "\n",
    "print(changed_tit)"
   ]
  },
  {
   "cell_type": "markdown",
   "metadata": {},
   "source": [
    "#### A Python list with the top ten FBI's Most Wanted names "
   ]
  },
  {
   "cell_type": "markdown",
   "metadata": {},
   "source": [
    "#### This is the url you will scrape in this exercise\n",
    "url = 'https://www.fbi.gov/wanted/topten'"
   ]
  },
  {
   "cell_type": "markdown",
   "metadata": {},
   "source": [
    "#### NOT AVAILABLE"
   ]
  },
  {
   "cell_type": "markdown",
   "metadata": {},
   "source": [
    "####  20 latest earthquakes info (date, time, latitude, longitude and region name) by the EMSC as a pandas dataframe"
   ]
  },
  {
   "cell_type": "markdown",
   "metadata": {},
   "source": [
    "#### This is the url you will scrape in this exercise\n",
    "url = 'https://www.emsc-csem.org/Earthquake/'"
   ]
  },
  {
   "cell_type": "markdown",
   "metadata": {},
   "source": [
    "#### NOT AVAILABLE"
   ]
  },
  {
   "cell_type": "markdown",
   "metadata": {},
   "source": [
    "#### Display the date, days, title, city, country of next 25 hackathon events as a Pandas dataframe table"
   ]
  },
  {
   "cell_type": "markdown",
   "metadata": {},
   "source": [
    "#### This is the url you will scrape in this exercise\n",
    "url ='https://hackevents.co/hackathons'"
   ]
  },
  {
   "cell_type": "markdown",
   "metadata": {},
   "source": [
    "#### NOT AVAILABLE"
   ]
  },
  {
   "cell_type": "markdown",
   "metadata": {},
   "source": [
    "#### Count number of tweets by a given Twitter account."
   ]
  },
  {
   "cell_type": "markdown",
   "metadata": {},
   "source": [
    "You will need to include a ***try/except block*** for account names not found. \n",
    "<br>***Hint:*** the program should count the number of tweets for any provided account"
   ]
  },
  {
   "cell_type": "markdown",
   "metadata": {},
   "source": [
    "#### This is the url you will scrape in this exercise \n",
    "#### You will need to add the account credentials to this url\n",
    "url = 'https://twitter.com/'"
   ]
  },
  {
   "cell_type": "markdown",
   "metadata": {},
   "source": [
    "#### NOT AVAILABLE"
   ]
  },
  {
   "cell_type": "markdown",
   "metadata": {},
   "source": [
    "#### Number of followers of a given twitter account"
   ]
  },
  {
   "cell_type": "markdown",
   "metadata": {},
   "source": [
    "You will need to include a ***try/except block*** in case account/s name not found. \n",
    "<br>***Hint:*** the program should count the followers for any provided account"
   ]
  },
  {
   "cell_type": "markdown",
   "metadata": {},
   "source": [
    "#### This is the url you will scrape in this exercise \n",
    "#### You will need to add the account credentials to this url\n",
    "url = 'https://twitter.com/'"
   ]
  },
  {
   "cell_type": "markdown",
   "metadata": {},
   "source": [
    "#### NOT AVAILABLE"
   ]
  },
  {
   "cell_type": "markdown",
   "metadata": {},
   "source": [
    "#### List all language names and number of related articles in the order they appear in wikipedia.org"
   ]
  },
  {
   "cell_type": "code",
   "execution_count": 391,
   "metadata": {},
   "outputs": [],
   "source": [
    "# This is the url you will scrape in this exercise\n",
    "url = 'https://www.wikipedia.org/'\n",
    "response = req.get(url)\n",
    "html=response.content\n",
    "soup = bs(html, 'html.parser')# parsear (traducir string a algo similar al html)"
   ]
  },
  {
   "cell_type": "code",
   "execution_count": 392,
   "metadata": {},
   "outputs": [],
   "source": [
    "languages=soup.find_all(\"a\", class_=\"link-box\")"
   ]
  },
  {
   "cell_type": "code",
   "execution_count": 393,
   "metadata": {},
   "outputs": [
    {
     "data": {
      "text/plain": [
       "['English',\n",
       " '日本語',\n",
       " 'Español',\n",
       " 'Русский',\n",
       " 'Deutsch',\n",
       " 'Français',\n",
       " 'Italiano',\n",
       " '中文',\n",
       " 'Português',\n",
       " 'العربية']"
      ]
     },
     "execution_count": 393,
     "metadata": {},
     "output_type": "execute_result"
    }
   ],
   "source": [
    "#display(languages[9], languages[0])\n",
    "\n",
    "lang_list=[]\n",
    "for i in range(len(languages)):\n",
    "    if (str(languages[i]).split(\"<strong>\")[1].split(\"<\")[0]!=\"\"):\n",
    "        lang_list.append(str(languages[i]).split(\"<strong>\")[1].split(\"<\")[0])\n",
    "    elif (str(languages[i]).split(\"<strong>\")[1].split(\"<\")[0]==\"\"): #arabic\n",
    "        lang_list.append(str(languages[9]).split(\"<strong>\")[1].split(\">\")[1].split(\"</bdi\")[0])\n",
    "    else: \n",
    "        lang_list.append(\"error\")\n",
    "        \n",
    "        \n",
    "lang_list"
   ]
  },
  {
   "cell_type": "code",
   "execution_count": 394,
   "metadata": {},
   "outputs": [],
   "source": [
    "article_list=[]\n",
    "for i in range(len(languages)):\n",
    "    art=languages[i].text\n",
    "    #print(art)\n",
    "    articles=[]\n",
    "    for i in art:\n",
    "        if (i.isdigit()):\n",
    "            articles+=i\n",
    "    articles=int(''.join(articles))\n",
    "    article_list.append(articles)\n",
    "    \n",
    "article_list\n",
    "\n",
    "lang_art=dict(zip(lang_list, article_list))\n"
   ]
  },
  {
   "cell_type": "code",
   "execution_count": 462,
   "metadata": {},
   "outputs": [
    {
     "data": {
      "text/plain": [
       "{'English': 6715000,\n",
       " '日本語': 1387000,\n",
       " 'Español': 1892000,\n",
       " 'Русский': 1938000,\n",
       " 'Deutsch': 2836000,\n",
       " 'Français': 2553000,\n",
       " 'Italiano': 1826000,\n",
       " '中文': 1377000,\n",
       " 'Português': 1109000,\n",
       " 'العربية': 1217000}"
      ]
     },
     "execution_count": 462,
     "metadata": {},
     "output_type": "execute_result"
    }
   ],
   "source": [
    "lang_art"
   ]
  },
  {
   "cell_type": "markdown",
   "metadata": {},
   "source": [
    "#### A list with the different kind of datasets available in data.gov.uk "
   ]
  },
  {
   "cell_type": "code",
   "execution_count": 409,
   "metadata": {},
   "outputs": [],
   "source": [
    "# This is the url you will scrape in this exercise\n",
    "url = 'https://data.gov.uk/'\n",
    "response = req.get(url)\n",
    "html=response.content\n",
    "soup = bs(html, 'html.parser')# parsear (traducir string a algo similar al html)"
   ]
  },
  {
   "cell_type": "code",
   "execution_count": 414,
   "metadata": {},
   "outputs": [
    {
     "data": {
      "text/plain": [
       "['Business and economy',\n",
       " 'Crime and justice',\n",
       " 'Defence',\n",
       " 'Education',\n",
       " 'Environment',\n",
       " 'Government',\n",
       " 'Government spending',\n",
       " 'Health',\n",
       " 'Mapping',\n",
       " 'Society',\n",
       " 'Towns and cities',\n",
       " 'Transport',\n",
       " 'Digital service performance',\n",
       " 'Government reference data']"
      ]
     },
     "execution_count": 414,
     "metadata": {},
     "output_type": "execute_result"
    }
   ],
   "source": [
    "datasets=soup.find_all(\"h3\", class_=\"govuk-heading-s dgu-topics__heading\")\n",
    "\n",
    "[seti.text for seti in datasets]"
   ]
  },
  {
   "cell_type": "markdown",
   "metadata": {},
   "source": [
    "#### Top 10 languages by number of native speakers stored in a Pandas Dataframe"
   ]
  },
  {
   "cell_type": "code",
   "execution_count": 421,
   "metadata": {},
   "outputs": [],
   "source": [
    "# This is the url you will scrape in this exercise\n",
    "url = 'https://en.wikipedia.org/wiki/List_of_languages_by_number_of_native_speakers'\n",
    "response = req.get(url)\n",
    "html=response.content\n",
    "soup = bs(html, 'html.parser')# parsear (traducir string a algo similar al html)"
   ]
  },
  {
   "cell_type": "code",
   "execution_count": 464,
   "metadata": {},
   "outputs": [],
   "source": [
    "tables=soup.find_all('table')\n",
    "\n",
    "tables[0]\n",
    "df = pd.read_html(str(tables[0]))[0]"
   ]
  },
  {
   "cell_type": "code",
   "execution_count": 467,
   "metadata": {},
   "outputs": [
    {
     "data": {
      "text/html": [
       "<div>\n",
       "<style scoped>\n",
       "    .dataframe tbody tr th:only-of-type {\n",
       "        vertical-align: middle;\n",
       "    }\n",
       "\n",
       "    .dataframe tbody tr th {\n",
       "        vertical-align: top;\n",
       "    }\n",
       "\n",
       "    .dataframe thead th {\n",
       "        text-align: right;\n",
       "    }\n",
       "</style>\n",
       "<table border=\"1\" class=\"dataframe\">\n",
       "  <thead>\n",
       "    <tr style=\"text-align: right;\">\n",
       "      <th></th>\n",
       "      <th>Language</th>\n",
       "      <th>Native speakers(millions)</th>\n",
       "      <th>Language family</th>\n",
       "      <th>Branch</th>\n",
       "    </tr>\n",
       "  </thead>\n",
       "  <tbody>\n",
       "    <tr>\n",
       "      <th>0</th>\n",
       "      <td>Mandarin Chinese(incl. Standard Chinese, but e...</td>\n",
       "      <td>939.0</td>\n",
       "      <td>Sino-Tibetan</td>\n",
       "      <td>Sinitic</td>\n",
       "    </tr>\n",
       "    <tr>\n",
       "      <th>1</th>\n",
       "      <td>Spanish</td>\n",
       "      <td>485.0</td>\n",
       "      <td>Indo-European</td>\n",
       "      <td>Romance</td>\n",
       "    </tr>\n",
       "    <tr>\n",
       "      <th>2</th>\n",
       "      <td>English</td>\n",
       "      <td>380.0</td>\n",
       "      <td>Indo-European</td>\n",
       "      <td>Germanic</td>\n",
       "    </tr>\n",
       "    <tr>\n",
       "      <th>3</th>\n",
       "      <td>Hindi(excl. Urdu, and other languages)</td>\n",
       "      <td>345.0</td>\n",
       "      <td>Indo-European</td>\n",
       "      <td>Indo-Aryan</td>\n",
       "    </tr>\n",
       "    <tr>\n",
       "      <th>4</th>\n",
       "      <td>Portuguese</td>\n",
       "      <td>236.0</td>\n",
       "      <td>Indo-European</td>\n",
       "      <td>Romance</td>\n",
       "    </tr>\n",
       "    <tr>\n",
       "      <th>5</th>\n",
       "      <td>Bengali</td>\n",
       "      <td>234.0</td>\n",
       "      <td>Indo-European</td>\n",
       "      <td>Indo-Aryan</td>\n",
       "    </tr>\n",
       "    <tr>\n",
       "      <th>6</th>\n",
       "      <td>Russian</td>\n",
       "      <td>147.0</td>\n",
       "      <td>Indo-European</td>\n",
       "      <td>Balto-Slavic</td>\n",
       "    </tr>\n",
       "    <tr>\n",
       "      <th>7</th>\n",
       "      <td>Japanese</td>\n",
       "      <td>123.0</td>\n",
       "      <td>Japonic</td>\n",
       "      <td>Japanese</td>\n",
       "    </tr>\n",
       "    <tr>\n",
       "      <th>8</th>\n",
       "      <td>Yue Chinese(incl. Cantonese)</td>\n",
       "      <td>86.1</td>\n",
       "      <td>Sino-Tibetan</td>\n",
       "      <td>Sinitic</td>\n",
       "    </tr>\n",
       "    <tr>\n",
       "      <th>9</th>\n",
       "      <td>Vietnamese</td>\n",
       "      <td>85.0</td>\n",
       "      <td>Austroasiatic</td>\n",
       "      <td>Vietic</td>\n",
       "    </tr>\n",
       "    <tr>\n",
       "      <th>10</th>\n",
       "      <td>Turkish</td>\n",
       "      <td>84.0</td>\n",
       "      <td>Turkic</td>\n",
       "      <td>Oghuz</td>\n",
       "    </tr>\n",
       "    <tr>\n",
       "      <th>11</th>\n",
       "      <td>Wu Chinese(incl. Shanghainese)</td>\n",
       "      <td>83.4</td>\n",
       "      <td>Sino-Tibetan</td>\n",
       "      <td>Sinitic</td>\n",
       "    </tr>\n",
       "    <tr>\n",
       "      <th>12</th>\n",
       "      <td>Marathi</td>\n",
       "      <td>83.2</td>\n",
       "      <td>Indo-European</td>\n",
       "      <td>Indo-Aryan</td>\n",
       "    </tr>\n",
       "    <tr>\n",
       "      <th>13</th>\n",
       "      <td>Telugu</td>\n",
       "      <td>83.0</td>\n",
       "      <td>Dravidian</td>\n",
       "      <td>South-Central</td>\n",
       "    </tr>\n",
       "    <tr>\n",
       "      <th>14</th>\n",
       "      <td>Korean</td>\n",
       "      <td>81.7</td>\n",
       "      <td>Koreanic</td>\n",
       "      <td>—</td>\n",
       "    </tr>\n",
       "    <tr>\n",
       "      <th>15</th>\n",
       "      <td>French</td>\n",
       "      <td>80.8</td>\n",
       "      <td>Indo-European</td>\n",
       "      <td>Romance</td>\n",
       "    </tr>\n",
       "    <tr>\n",
       "      <th>16</th>\n",
       "      <td>Tamil</td>\n",
       "      <td>78.6</td>\n",
       "      <td>Dravidian</td>\n",
       "      <td>South</td>\n",
       "    </tr>\n",
       "    <tr>\n",
       "      <th>17</th>\n",
       "      <td>Egyptian Spoken Arabic(excl. Saʽidi Arabic)</td>\n",
       "      <td>77.4</td>\n",
       "      <td>Afroasiatic</td>\n",
       "      <td>Semitic</td>\n",
       "    </tr>\n",
       "    <tr>\n",
       "      <th>18</th>\n",
       "      <td>Standard German</td>\n",
       "      <td>75.3</td>\n",
       "      <td>Indo-European</td>\n",
       "      <td>Germanic</td>\n",
       "    </tr>\n",
       "    <tr>\n",
       "      <th>19</th>\n",
       "      <td>Urdu(excl. Hindi)</td>\n",
       "      <td>70.6</td>\n",
       "      <td>Indo-European</td>\n",
       "      <td>Indo-Aryan</td>\n",
       "    </tr>\n",
       "    <tr>\n",
       "      <th>20</th>\n",
       "      <td>Javanese</td>\n",
       "      <td>68.3</td>\n",
       "      <td>Austronesian</td>\n",
       "      <td>Malayo-Polynesian</td>\n",
       "    </tr>\n",
       "    <tr>\n",
       "      <th>21</th>\n",
       "      <td>Western Punjabi(excl. Eastern Punjabi)</td>\n",
       "      <td>66.7</td>\n",
       "      <td>Indo-European</td>\n",
       "      <td>Indo-Aryan</td>\n",
       "    </tr>\n",
       "    <tr>\n",
       "      <th>22</th>\n",
       "      <td>Italian</td>\n",
       "      <td>64.6</td>\n",
       "      <td>Indo-European</td>\n",
       "      <td>Romance</td>\n",
       "    </tr>\n",
       "    <tr>\n",
       "      <th>23</th>\n",
       "      <td>Gujarati</td>\n",
       "      <td>57.1</td>\n",
       "      <td>Indo-European</td>\n",
       "      <td>Indo-Aryan</td>\n",
       "    </tr>\n",
       "    <tr>\n",
       "      <th>24</th>\n",
       "      <td>Iranian Persian(excl. Dari and Tajik)</td>\n",
       "      <td>57.2</td>\n",
       "      <td>Indo-European</td>\n",
       "      <td>Iranian</td>\n",
       "    </tr>\n",
       "    <tr>\n",
       "      <th>25</th>\n",
       "      <td>Bhojpuri</td>\n",
       "      <td>52.3</td>\n",
       "      <td>Indo-European</td>\n",
       "      <td>Indo-Aryan</td>\n",
       "    </tr>\n",
       "    <tr>\n",
       "      <th>26</th>\n",
       "      <td>Hausa</td>\n",
       "      <td>51.7</td>\n",
       "      <td>Afroasiatic</td>\n",
       "      <td>Chadic</td>\n",
       "    </tr>\n",
       "  </tbody>\n",
       "</table>\n",
       "</div>"
      ],
      "text/plain": [
       "                                             Language  \\\n",
       "0   Mandarin Chinese(incl. Standard Chinese, but e...   \n",
       "1                                             Spanish   \n",
       "2                                             English   \n",
       "3              Hindi(excl. Urdu, and other languages)   \n",
       "4                                          Portuguese   \n",
       "5                                             Bengali   \n",
       "6                                             Russian   \n",
       "7                                            Japanese   \n",
       "8                        Yue Chinese(incl. Cantonese)   \n",
       "9                                          Vietnamese   \n",
       "10                                            Turkish   \n",
       "11                     Wu Chinese(incl. Shanghainese)   \n",
       "12                                            Marathi   \n",
       "13                                             Telugu   \n",
       "14                                             Korean   \n",
       "15                                             French   \n",
       "16                                              Tamil   \n",
       "17        Egyptian Spoken Arabic(excl. Saʽidi Arabic)   \n",
       "18                                    Standard German   \n",
       "19                                  Urdu(excl. Hindi)   \n",
       "20                                           Javanese   \n",
       "21             Western Punjabi(excl. Eastern Punjabi)   \n",
       "22                                            Italian   \n",
       "23                                           Gujarati   \n",
       "24              Iranian Persian(excl. Dari and Tajik)   \n",
       "25                                           Bhojpuri   \n",
       "26                                              Hausa   \n",
       "\n",
       "    Native speakers(millions) Language family             Branch  \n",
       "0                       939.0    Sino-Tibetan            Sinitic  \n",
       "1                       485.0   Indo-European            Romance  \n",
       "2                       380.0   Indo-European           Germanic  \n",
       "3                       345.0   Indo-European         Indo-Aryan  \n",
       "4                       236.0   Indo-European            Romance  \n",
       "5                       234.0   Indo-European         Indo-Aryan  \n",
       "6                       147.0   Indo-European       Balto-Slavic  \n",
       "7                       123.0         Japonic           Japanese  \n",
       "8                        86.1    Sino-Tibetan            Sinitic  \n",
       "9                        85.0   Austroasiatic             Vietic  \n",
       "10                       84.0          Turkic              Oghuz  \n",
       "11                       83.4    Sino-Tibetan            Sinitic  \n",
       "12                       83.2   Indo-European         Indo-Aryan  \n",
       "13                       83.0       Dravidian      South-Central  \n",
       "14                       81.7        Koreanic                  —  \n",
       "15                       80.8   Indo-European            Romance  \n",
       "16                       78.6       Dravidian              South  \n",
       "17                       77.4     Afroasiatic            Semitic  \n",
       "18                       75.3   Indo-European           Germanic  \n",
       "19                       70.6   Indo-European         Indo-Aryan  \n",
       "20                       68.3    Austronesian  Malayo-Polynesian  \n",
       "21                       66.7   Indo-European         Indo-Aryan  \n",
       "22                       64.6   Indo-European            Romance  \n",
       "23                       57.1   Indo-European         Indo-Aryan  \n",
       "24                       57.2   Indo-European            Iranian  \n",
       "25                       52.3   Indo-European         Indo-Aryan  \n",
       "26                       51.7     Afroasiatic             Chadic  "
      ]
     },
     "execution_count": 467,
     "metadata": {},
     "output_type": "execute_result"
    }
   ],
   "source": [
    "df"
   ]
  },
  {
   "cell_type": "markdown",
   "metadata": {},
   "source": [
    "### BONUS QUESTIONS"
   ]
  },
  {
   "cell_type": "markdown",
   "metadata": {},
   "source": [
    "#### Scrape a certain number of tweets of a given Twitter account."
   ]
  },
  {
   "cell_type": "code",
   "execution_count": null,
   "metadata": {},
   "outputs": [],
   "source": [
    "# This is the url you will scrape in this exercise \n",
    "# You will need to add the account credentials to this url\n",
    "url = 'https://twitter.com/'"
   ]
  },
  {
   "cell_type": "code",
   "execution_count": null,
   "metadata": {},
   "outputs": [],
   "source": [
    "# your code"
   ]
  },
  {
   "cell_type": "markdown",
   "metadata": {},
   "source": [
    "#### IMDB's Top 250 data (movie name, Initial release, director name and stars) as a pandas dataframe"
   ]
  },
  {
   "cell_type": "code",
   "execution_count": null,
   "metadata": {},
   "outputs": [],
   "source": [
    "# This is the url you will scrape in this exercise \n",
    "url = 'https://www.imdb.com/chart/top'"
   ]
  },
  {
   "cell_type": "code",
   "execution_count": null,
   "metadata": {},
   "outputs": [],
   "source": [
    "# your code"
   ]
  },
  {
   "cell_type": "markdown",
   "metadata": {},
   "source": [
    "#### Movie name, year and a brief summary of the top 10 random movies (IMDB) as a pandas dataframe."
   ]
  },
  {
   "cell_type": "code",
   "execution_count": null,
   "metadata": {},
   "outputs": [],
   "source": [
    "#This is the url you will scrape in this exercise\n",
    "url = 'http://www.imdb.com/chart/top'"
   ]
  },
  {
   "cell_type": "code",
   "execution_count": null,
   "metadata": {},
   "outputs": [],
   "source": [
    "#your code"
   ]
  },
  {
   "cell_type": "markdown",
   "metadata": {},
   "source": [
    "#### Find the live weather report (temperature, wind speed, description and weather) of a given city."
   ]
  },
  {
   "cell_type": "code",
   "execution_count": null,
   "metadata": {},
   "outputs": [],
   "source": [
    "#https://openweathermap.org/current\n",
    "city = city=input('Enter the city:')\n",
    "url = 'http://api.openweathermap.org/data/2.5/weather?'+'q='+city+'&APPID=b35975e18dc93725acb092f7272cc6b8&units=metric'"
   ]
  },
  {
   "cell_type": "code",
   "execution_count": null,
   "metadata": {},
   "outputs": [],
   "source": [
    "# your code"
   ]
  },
  {
   "cell_type": "markdown",
   "metadata": {},
   "source": [
    "#### Book name,price and stock availability as a pandas dataframe."
   ]
  },
  {
   "cell_type": "code",
   "execution_count": null,
   "metadata": {},
   "outputs": [],
   "source": [
    "# This is the url you will scrape in this exercise. \n",
    "# It is a fictional bookstore created to be scraped. \n",
    "url = 'http://books.toscrape.com/'"
   ]
  },
  {
   "cell_type": "code",
   "execution_count": null,
   "metadata": {},
   "outputs": [],
   "source": [
    "#your code"
   ]
  }
 ],
 "metadata": {
  "kernelspec": {
   "display_name": "Python 3 (ipykernel)",
   "language": "python",
   "name": "python3"
  },
  "language_info": {
   "codemirror_mode": {
    "name": "ipython",
    "version": 3
   },
   "file_extension": ".py",
   "mimetype": "text/x-python",
   "name": "python",
   "nbconvert_exporter": "python",
   "pygments_lexer": "ipython3",
   "version": "3.7.16"
  }
 },
 "nbformat": 4,
 "nbformat_minor": 2
}
