{
 "cells": [
  {
   "cell_type": "markdown",
   "metadata": {},
   "source": [
    "# Lab: Regression Analysis"
   ]
  },
  {
   "cell_type": "markdown",
   "metadata": {},
   "source": [
    "### Before you start:\n",
    "\n",
    "* Read the README.md file\n",
    "* Comment as much as you can and use the resources (README.md file) \n",
    "\n",
    "Happy learning!"
   ]
  },
  {
   "cell_type": "code",
   "execution_count": 33,
   "metadata": {},
   "outputs": [],
   "source": [
    "import pandas as pd\n",
    "\n",
    "import seaborn as sns  # esta basada en matplotlib\n",
    "sns.set(style='white') # seaborn style\n",
    "\n",
    "import numpy as np\n",
    "\n",
    "import warnings\n",
    "warnings.filterwarnings('ignore') # ignorar warnings\n",
    "\n",
    "# plotar inline en jupyter\n",
    "%matplotlib inline \n",
    "# pa pintar\n",
    "import pylab as plt  # libreria basica para pintar\n",
    "#import matplotlib.pyplot as plt\n",
    "plt.rcParams['figure.figsize']=(4, 4)  # tamaño por defecto, decenas de pixeles\n",
    "\n",
    "\n",
    "import dataanalysis_fun1 as mlg"
   ]
  },
  {
   "cell_type": "markdown",
   "metadata": {},
   "source": [
    "## Challenge 1\n",
    "I work at a coding bootcamp, and I have developed a theory that the younger my students are, the more often they are late to class. In order to test my hypothesis, I have collected some data in the following table:\n",
    "\n",
    "| StudentID | Age | Tardies |\n",
    "|--------|-----|------------|\n",
    "| 1      | 17  | 10         |\n",
    "| 2      | 51  | 1          |\n",
    "| 3      | 27  | 5          |\n",
    "| 4      | 21  | 9         |\n",
    "| 5      | 36  |  4         |\n",
    "| 6      | 48  |  2         |\n",
    "| 7      | 19  |  9         |\n",
    "| 8      | 26  | 6          |\n",
    "| 9      | 54  |  0         |\n",
    "| 10     | 30  |  3         |"
   ]
  },
  {
   "cell_type": "markdown",
   "metadata": {},
   "source": [
    "Use this command to create a dataframe with the data provided in the table. \n",
    "~~~~\n",
    "student_data = pd.DataFrame({'X': [x_values], 'Y': [y_values]})\n",
    "~~~~"
   ]
  },
  {
   "cell_type": "code",
   "execution_count": 192,
   "metadata": {},
   "outputs": [],
   "source": [
    "student=pd.read_csv(\"student.csv\")"
   ]
  },
  {
   "cell_type": "code",
   "execution_count": 193,
   "metadata": {},
   "outputs": [],
   "source": [
    "student.columns=[\"StudentID\", \"Age\", \"Tardies\"]"
   ]
  },
  {
   "cell_type": "code",
   "execution_count": 194,
   "metadata": {},
   "outputs": [
    {
     "name": "stdout",
     "output_type": "stream",
     "text": [
      "<class 'pandas.core.frame.DataFrame'>\n",
      "RangeIndex: 35952 entries, 0 to 35951\n",
      "Data columns (total 6 columns):\n",
      " #   Column                   Non-Null Count  Dtype  \n",
      "---  ------                   --------------  -----  \n",
      " 0   CO2 Emission Grams/Mile  35952 non-null  float64\n",
      " 1   Year                     35952 non-null  int64  \n",
      " 2   Cylinders                35952 non-null  float64\n",
      " 3   Fuel Barrels/Year        35952 non-null  float64\n",
      " 4   Combined MPG             35952 non-null  int64  \n",
      " 5   Fuel Cost/Year           35952 non-null  int64  \n",
      "dtypes: float64(3), int64(3)\n",
      "memory usage: 1.6 MB\n"
     ]
    }
   ],
   "source": [
    "df.info()"
   ]
  },
  {
   "cell_type": "markdown",
   "metadata": {},
   "source": [
    "Draw a dispersion diagram (scatter plot) for the data."
   ]
  },
  {
   "cell_type": "code",
   "execution_count": 195,
   "metadata": {},
   "outputs": [
    {
     "data": {
      "text/plain": [
       "<AxesSubplot:xlabel='Age', ylabel='Tardies'>"
      ]
     },
     "execution_count": 195,
     "metadata": {},
     "output_type": "execute_result"
    },
    {
     "data": {
      "image/png": "[encoded data removed]",
      "text/plain": [
       "<Figure size 400x400 with 1 Axes>"
      ]
     },
     "metadata": {},
     "output_type": "display_data"
    }
   ],
   "source": [
    "sns.scatterplot(data=student, x=\"Age\", y=\"Tardies\", color='black')"
   ]
  },
  {
   "cell_type": "markdown",
   "metadata": {},
   "source": [
    "Do you see a trend? Can you make any hypotheses about the relationship between age and number of tardies?"
   ]
  },
  {
   "cell_type": "markdown",
   "metadata": {},
   "source": [
    "#### there is a negative correlation between age and tardies"
   ]
  },
  {
   "cell_type": "markdown",
   "metadata": {},
   "source": [
    "Calculate the covariance and correlation of the variables in your plot. What is the difference between these two measures? Compare their values. What do they tell you in this case? Add your responses as comments after your code."
   ]
  },
  {
   "cell_type": "code",
   "execution_count": 196,
   "metadata": {},
   "outputs": [],
   "source": [
    "student=student[[\"Age\", \"Tardies\"]]"
   ]
  },
  {
   "cell_type": "code",
   "execution_count": 197,
   "metadata": {},
   "outputs": [
    {
     "name": "stdout",
     "output_type": "stream",
     "text": [
      "covariance\n",
      "                Age    Tardies\n",
      "Age      187.655556 -45.566667\n",
      "Tardies  -45.566667  12.544444\n",
      "covariance\n",
      "              Age   Tardies\n",
      "Age      1.000000 -0.939163\n",
      "Tardies -0.939163  1.000000\n"
     ]
    }
   ],
   "source": [
    "cov_matrix = student[['Age', 'Tardies']].cov()\n",
    "cor_matrix = student[['Age', 'Tardies']].corr()\n",
    "print(\"covariance\")\n",
    "print(cov_matrix)\n",
    "print(\"covariance\")\n",
    "print(cor_matrix)"
   ]
  },
  {
   "cell_type": "markdown",
   "metadata": {},
   "source": [
    "Build a regression model for this data. What will be your outcome variable? What type of regression are you using? Add your responses as comments after your code."
   ]
  },
  {
   "cell_type": "markdown",
   "metadata": {},
   "source": [
    "Build a regression model step-by-step:\n",
    "\n",
    "* Set the data: X (independ variables) and Y (depend variable - var to predict)\n",
    "* Split the data: Train and Test\n",
    "* Normalize if necessary: RobustScaler, StandardScaler, MaxMin ...\n",
    "* Fit and predict - Eval different models \n",
    "* Get performance measures\n",
    "* Select best model\n"
   ]
  },
  {
   "cell_type": "code",
   "execution_count": 198,
   "metadata": {},
   "outputs": [],
   "source": [
    "# IMPORT THE CLASSES\n",
    "\n",
    "from sklearn.linear_model import LinearRegression as LinReg   # alias es mio\n",
    "from sklearn.linear_model import Lasso        # regularizacion L1\n",
    "from sklearn.linear_model import Ridge        # regularizacion L2\n",
    "from sklearn.linear_model import ElasticNet   # regularizacion L1+L2\n",
    "\n",
    "# IMPORT EVAL METRICS - \n",
    "from sklearn.metrics import mean_squared_error as mse  # error cuadratico medio\n",
    "from sklearn.metrics import mean_absolute_error as mae\n",
    "from sklearn.metrics import r2_score as r2\n"
   ]
  },
  {
   "cell_type": "code",
   "execution_count": 199,
   "metadata": {},
   "outputs": [
    {
     "data": {
      "text/plain": [
       "((10, 1), (10,))"
      ]
     },
     "execution_count": 199,
     "metadata": {},
     "output_type": "execute_result"
    }
   ],
   "source": [
    "indep_var=\"Tardies\"\n",
    "X = student.drop([indep_var], axis=1)\n",
    "y = student[indep_var]\n",
    "\n",
    "X.shape, y.shape"
   ]
  },
  {
   "cell_type": "code",
   "execution_count": 200,
   "metadata": {},
   "outputs": [
    {
     "data": {
      "text/plain": [
       "((8, 1), (8,), (2, 1), (2,))"
      ]
     },
     "execution_count": 200,
     "metadata": {},
     "output_type": "execute_result"
    }
   ],
   "source": [
    "from sklearn.model_selection import train_test_split as tts\n",
    "\n",
    "X_train, X_test, y_train, y_test = tts(X, y, test_size=0.2, random_state=42)\n",
    "\n",
    "X_train.shape, y_train.shape, X_test.shape, y_test.shape"
   ]
  },
  {
   "cell_type": "code",
   "execution_count": 201,
   "metadata": {},
   "outputs": [],
   "source": [
    "def linreg_models(X_train, X_test, y_train, y_test):\n",
    "\n",
    "    '''\n",
    "    Function to build 4 types of linear regression models\n",
    "    INPUT: data variables divided by train/test of X and Y (indep and dep) variables, respectively\n",
    "    OUTPUT: a summary dataframe with the model parameters and the most relevant performance metrics\n",
    "    \n",
    "    '''\n",
    "\n",
    "    themodels = [LinReg() , Lasso(), Ridge(), ElasticNet()]\n",
    "    models_sum=pd.DataFrame(columns=[\"rmse\", \"mae\", \"R2\", \"intercept\", \"coefs\"])\n",
    "    for i in range(len(themodels)):\n",
    "\n",
    "        # init the model\n",
    "        themodel = themodels[i]\n",
    "\n",
    "        # fit / predict the model\n",
    "\n",
    "        themodel.fit(X_train, y_train) # fit on the train\n",
    "        y_pred_train = themodel.predict(X_train)  # predict on the test\n",
    "        y_pred = themodel.predict(X_test)  # predict on the test\n",
    "        # y_pred_total = linreg.predict(X)  # predict on the test\n",
    "\n",
    "\n",
    "        # the fitted model will have the following parameters:\n",
    "\n",
    "        themodel.intercept_\n",
    "        #display(dict(zip(X_train.columns, linreg.coef_)))\n",
    "\n",
    "        # concat the column name with its coeff (beta)\n",
    "        result = [f\"{key}: {value}\" for key, value in list(zip(X_train.columns, themodel.coef_))]\n",
    "\n",
    "\n",
    "        # the model predictions on the test set will return the following performance metrics:\n",
    "\n",
    "        mse(y_train, y_pred_train, squared=False), mse(y_test, y_pred, squared=False) # rooted\n",
    "        #mae(y_train, y_pred_train), mae(y_test, y_pred)\n",
    "        #r2(y_train, y_pred_train), r2(y_test, y_pred)\n",
    "\n",
    "\n",
    "        # save the data in a dict - to be imported to a table later\n",
    "        sum_model_i={\"rmse\": mse(y_test, y_pred, squared=False),\n",
    "                     \"mae\": mae(y_test, y_pred),\n",
    "                     \"R2\": r2(y_test, y_pred), \n",
    "                    \"intercept\": themodel.intercept_, \n",
    "                     \"coefs\": result\n",
    "                    }\n",
    "        models_sum.loc[i]=sum_model_i\n",
    "\n",
    "    models_sum.index = [\"LinReg\", \"Lasso\", \"Ridge\", \"ElasticNet\"]\n",
    "    \n",
    "    return models_sum"
   ]
  },
  {
   "cell_type": "code",
   "execution_count": 202,
   "metadata": {},
   "outputs": [],
   "source": [
    "models_sum1=linreg_models(X_train, X_test, y_train, y_test)"
   ]
  },
  {
   "cell_type": "code",
   "execution_count": 203,
   "metadata": {},
   "outputs": [
    {
     "data": {
      "text/html": [
       "<div>\n",
       "<style scoped>\n",
       "    .dataframe tbody tr th:only-of-type {\n",
       "        vertical-align: middle;\n",
       "    }\n",
       "\n",
       "    .dataframe tbody tr th {\n",
       "        vertical-align: top;\n",
       "    }\n",
       "\n",
       "    .dataframe thead th {\n",
       "        text-align: right;\n",
       "    }\n",
       "</style>\n",
       "<table border=\"1\" class=\"dataframe\">\n",
       "  <thead>\n",
       "    <tr style=\"text-align: right;\">\n",
       "      <th></th>\n",
       "      <th>rmse</th>\n",
       "      <th>mae</th>\n",
       "      <th>R2</th>\n",
       "      <th>intercept</th>\n",
       "      <th>coefs</th>\n",
       "    </tr>\n",
       "  </thead>\n",
       "  <tbody>\n",
       "    <tr>\n",
       "      <th>Lasso</th>\n",
       "      <td>0.769264</td>\n",
       "      <td>0.760359</td>\n",
       "      <td>-1.367071</td>\n",
       "      <td>13.154696</td>\n",
       "      <td>[Age: -0.255524861878453]</td>\n",
       "    </tr>\n",
       "    <tr>\n",
       "      <th>ElasticNet</th>\n",
       "      <td>0.867652</td>\n",
       "      <td>0.860577</td>\n",
       "      <td>-2.011280</td>\n",
       "      <td>13.269231</td>\n",
       "      <td>[Age: -0.25961538461538464]</td>\n",
       "    </tr>\n",
       "    <tr>\n",
       "      <th>Ridge</th>\n",
       "      <td>1.027017</td>\n",
       "      <td>1.022069</td>\n",
       "      <td>-3.219054</td>\n",
       "      <td>13.453793</td>\n",
       "      <td>[Age: -0.26620689655172414]</td>\n",
       "    </tr>\n",
       "    <tr>\n",
       "      <th>LinReg</th>\n",
       "      <td>1.035929</td>\n",
       "      <td>1.031077</td>\n",
       "      <td>-3.292593</td>\n",
       "      <td>13.464088</td>\n",
       "      <td>[Age: -0.266574585635359]</td>\n",
       "    </tr>\n",
       "  </tbody>\n",
       "</table>\n",
       "</div>"
      ],
      "text/plain": [
       "                rmse       mae        R2  intercept  \\\n",
       "Lasso       0.769264  0.760359 -1.367071  13.154696   \n",
       "ElasticNet  0.867652  0.860577 -2.011280  13.269231   \n",
       "Ridge       1.027017  1.022069 -3.219054  13.453793   \n",
       "LinReg      1.035929  1.031077 -3.292593  13.464088   \n",
       "\n",
       "                                  coefs  \n",
       "Lasso         [Age: -0.255524861878453]  \n",
       "ElasticNet  [Age: -0.25961538461538464]  \n",
       "Ridge       [Age: -0.26620689655172414]  \n",
       "LinReg        [Age: -0.266574585635359]  "
      ]
     },
     "execution_count": 203,
     "metadata": {},
     "output_type": "execute_result"
    }
   ],
   "source": [
    "#the best model according to RMSE\n",
    "models_sum1.sort_values(by=[\"rmse\"], ascending=True)"
   ]
  },
  {
   "cell_type": "code",
   "execution_count": 204,
   "metadata": {},
   "outputs": [
    {
     "data": {
      "image/png": "[encoded data removed]",
      "text/plain": [
       "<Figure size 400x400 with 1 Axes>"
      ]
     },
     "metadata": {},
     "output_type": "display_data"
    }
   ],
   "source": [
    "sns.scatterplot(data=student, x=\"Age\", y=\"Tardies\", color='black')\n",
    "sns.regplot(data=student, x=\"Age\", y=\"Tardies\", scatter=False, color='red');  # Regression line\n"
   ]
  },
  {
   "cell_type": "code",
   "execution_count": 206,
   "metadata": {},
   "outputs": [],
   "source": [
    "student2=student\n",
    "student2[\"predicted_y\"]=(student[\"Age\"]* (-0.2665)) + 13.154696"
   ]
  },
  {
   "cell_type": "code",
   "execution_count": 207,
   "metadata": {},
   "outputs": [
    {
     "data": {
      "text/html": [
       "<div>\n",
       "<style scoped>\n",
       "    .dataframe tbody tr th:only-of-type {\n",
       "        vertical-align: middle;\n",
       "    }\n",
       "\n",
       "    .dataframe tbody tr th {\n",
       "        vertical-align: top;\n",
       "    }\n",
       "\n",
       "    .dataframe thead th {\n",
       "        text-align: right;\n",
       "    }\n",
       "</style>\n",
       "<table border=\"1\" class=\"dataframe\">\n",
       "  <thead>\n",
       "    <tr style=\"text-align: right;\">\n",
       "      <th></th>\n",
       "      <th>Age</th>\n",
       "      <th>Tardies</th>\n",
       "      <th>predicted_y</th>\n",
       "    </tr>\n",
       "  </thead>\n",
       "  <tbody>\n",
       "    <tr>\n",
       "      <th>0</th>\n",
       "      <td>17</td>\n",
       "      <td>10</td>\n",
       "      <td>8.624196</td>\n",
       "    </tr>\n",
       "    <tr>\n",
       "      <th>1</th>\n",
       "      <td>51</td>\n",
       "      <td>1</td>\n",
       "      <td>-0.436804</td>\n",
       "    </tr>\n",
       "    <tr>\n",
       "      <th>2</th>\n",
       "      <td>27</td>\n",
       "      <td>5</td>\n",
       "      <td>5.959196</td>\n",
       "    </tr>\n",
       "    <tr>\n",
       "      <th>3</th>\n",
       "      <td>21</td>\n",
       "      <td>9</td>\n",
       "      <td>7.558196</td>\n",
       "    </tr>\n",
       "    <tr>\n",
       "      <th>4</th>\n",
       "      <td>36</td>\n",
       "      <td>4</td>\n",
       "      <td>3.560696</td>\n",
       "    </tr>\n",
       "    <tr>\n",
       "      <th>5</th>\n",
       "      <td>48</td>\n",
       "      <td>2</td>\n",
       "      <td>0.362696</td>\n",
       "    </tr>\n",
       "    <tr>\n",
       "      <th>6</th>\n",
       "      <td>19</td>\n",
       "      <td>9</td>\n",
       "      <td>8.091196</td>\n",
       "    </tr>\n",
       "    <tr>\n",
       "      <th>7</th>\n",
       "      <td>26</td>\n",
       "      <td>6</td>\n",
       "      <td>6.225696</td>\n",
       "    </tr>\n",
       "    <tr>\n",
       "      <th>8</th>\n",
       "      <td>54</td>\n",
       "      <td>0</td>\n",
       "      <td>-1.236304</td>\n",
       "    </tr>\n",
       "    <tr>\n",
       "      <th>9</th>\n",
       "      <td>30</td>\n",
       "      <td>3</td>\n",
       "      <td>5.159696</td>\n",
       "    </tr>\n",
       "  </tbody>\n",
       "</table>\n",
       "</div>"
      ],
      "text/plain": [
       "   Age  Tardies  predicted_y\n",
       "0   17       10     8.624196\n",
       "1   51        1    -0.436804\n",
       "2   27        5     5.959196\n",
       "3   21        9     7.558196\n",
       "4   36        4     3.560696\n",
       "5   48        2     0.362696\n",
       "6   19        9     8.091196\n",
       "7   26        6     6.225696\n",
       "8   54        0    -1.236304\n",
       "9   30        3     5.159696"
      ]
     },
     "execution_count": 207,
     "metadata": {},
     "output_type": "execute_result"
    }
   ],
   "source": [
    "student2"
   ]
  },
  {
   "cell_type": "markdown",
   "metadata": {},
   "source": [
    "Plot your regression model on your scatter plot."
   ]
  },
  {
   "cell_type": "code",
   "execution_count": 208,
   "metadata": {},
   "outputs": [
    {
     "data": {
      "image/png": "[encoded data removed]",
      "text/plain": [
       "<Figure size 400x400 with 1 Axes>"
      ]
     },
     "metadata": {},
     "output_type": "display_data"
    }
   ],
   "source": [
    "sns.scatterplot(data=student, x=\"Age\", y=\"Tardies\", color='black')\n",
    "sns.scatterplot(data=student, x=\"Age\", y=\"predicted_y\", color='red')\n",
    "sns.lineplot(data=student, x=\"Age\", y=\"predicted_y\", color='red');"
   ]
  },
  {
   "cell_type": "markdown",
   "metadata": {},
   "source": [
    "Interpret the results of your model. What can conclusions can you draw from your model and how confident in these conclusions are you? Can we say that age is a good predictor of tardiness? Add your responses as comments after your code."
   ]
  },
  {
   "cell_type": "markdown",
   "metadata": {},
   "source": [
    "**I think the model is quite good predicting the tardienes of the students based on their age. <br/>\n",
    "However, we are working with a very small dataset, thus our conclusions are surely biased to the sample.**"
   ]
  },
  {
   "cell_type": "markdown",
   "metadata": {},
   "source": [
    "## Challenge 2\n",
    "For the second part of this lab, we will use the vehicles.csv data set. You can find a copy of the dataset in the git hub folder. This dataset includes variables related to vehicle characteristics, including the model, make, and energy efficiency standards, as well as each car's CO2 emissions. As discussed in class the goal of this exercise is to predict vehicles' CO2 emissions based on several independent variables. "
   ]
  },
  {
   "cell_type": "code",
   "execution_count": 211,
   "metadata": {},
   "outputs": [
    {
     "data": {
      "text/html": [
       "<div>\n",
       "<style scoped>\n",
       "    .dataframe tbody tr th:only-of-type {\n",
       "        vertical-align: middle;\n",
       "    }\n",
       "\n",
       "    .dataframe tbody tr th {\n",
       "        vertical-align: top;\n",
       "    }\n",
       "\n",
       "    .dataframe thead th {\n",
       "        text-align: right;\n",
       "    }\n",
       "</style>\n",
       "<table border=\"1\" class=\"dataframe\">\n",
       "  <thead>\n",
       "    <tr style=\"text-align: right;\">\n",
       "      <th></th>\n",
       "      <th>CO2 Emission Grams/Mile</th>\n",
       "      <th>Year</th>\n",
       "      <th>Cylinders</th>\n",
       "      <th>Fuel Barrels/Year</th>\n",
       "      <th>Combined MPG</th>\n",
       "      <th>Fuel Cost/Year</th>\n",
       "    </tr>\n",
       "  </thead>\n",
       "  <tbody>\n",
       "    <tr>\n",
       "      <th>4379</th>\n",
       "      <td>555.437500</td>\n",
       "      <td>1999</td>\n",
       "      <td>6.0</td>\n",
       "      <td>20.600625</td>\n",
       "      <td>16</td>\n",
       "      <td>2100</td>\n",
       "    </tr>\n",
       "    <tr>\n",
       "      <th>10457</th>\n",
       "      <td>592.466667</td>\n",
       "      <td>2003</td>\n",
       "      <td>8.0</td>\n",
       "      <td>21.974000</td>\n",
       "      <td>15</td>\n",
       "      <td>2200</td>\n",
       "    </tr>\n",
       "    <tr>\n",
       "      <th>17204</th>\n",
       "      <td>317.392857</td>\n",
       "      <td>1997</td>\n",
       "      <td>4.0</td>\n",
       "      <td>11.771786</td>\n",
       "      <td>28</td>\n",
       "      <td>1200</td>\n",
       "    </tr>\n",
       "    <tr>\n",
       "      <th>11790</th>\n",
       "      <td>634.785714</td>\n",
       "      <td>2003</td>\n",
       "      <td>8.0</td>\n",
       "      <td>23.543571</td>\n",
       "      <td>14</td>\n",
       "      <td>2400</td>\n",
       "    </tr>\n",
       "  </tbody>\n",
       "</table>\n",
       "</div>"
      ],
      "text/plain": [
       "       CO2 Emission Grams/Mile  Year  Cylinders  Fuel Barrels/Year  \\\n",
       "4379                555.437500  1999        6.0          20.600625   \n",
       "10457               592.466667  2003        8.0          21.974000   \n",
       "17204               317.392857  1997        4.0          11.771786   \n",
       "11790               634.785714  2003        8.0          23.543571   \n",
       "\n",
       "       Combined MPG  Fuel Cost/Year  \n",
       "4379             16            2100  \n",
       "10457            15            2200  \n",
       "17204            28            1200  \n",
       "11790            14            2400  "
      ]
     },
     "execution_count": 211,
     "metadata": {},
     "output_type": "execute_result"
    }
   ],
   "source": [
    "vehicles=pd.read_csv(\"vehicles.csv\")\n",
    "df=vehicles[[\"CO2 Emission Grams/Mile\", \"Year\", \"Cylinders\", \"Fuel Barrels/Year\", \"Combined MPG\", \"Fuel Cost/Year\"]]\n",
    "df.sample(4)"
   ]
  },
  {
   "cell_type": "markdown",
   "metadata": {},
   "source": [
    "Let's use the following variables for our analysis: Year, Cylinders, Fuel Barrels/Year, Combined MPG, and Fuel Cost/Year. We will use **'CO2 Emission Grams/Mile' as our outcome** variable. \n",
    "\n",
    "Calculate the correlations between each of these variables and the outcome. Which variable do you think will be the most important in determining CO2 emissions? Which provides the least amount of helpful information for determining CO2 emissions? Add your responses as comments after your code."
   ]
  },
  {
   "cell_type": "markdown",
   "metadata": {},
   "source": [
    "* `Fuel Barrels/Year` has almost perfect correlation with `C02 emissions` thus this variable would almost perfectly predict the emissions <br/>\n",
    "* `Year` of fabrication has the smallest correlation, thus would NOT be useful to predict the emissions"
   ]
  },
  {
   "cell_type": "code",
   "execution_count": 212,
   "metadata": {},
   "outputs": [
    {
     "data": {
      "image/png": "[encoded data removed]",
      "text/plain": [
       "<Figure size 400x400 with 2 Axes>"
      ]
     },
     "metadata": {},
     "output_type": "display_data"
    }
   ],
   "source": [
    "corrmat = df.corr()\n",
    "\n",
    "sns.set(style='white')       # estilo blanco\n",
    "mascara = np.triu(np.ones_like(corrmat, dtype=bool))   # mascara\n",
    "\n",
    "cmap = sns.diverging_palette(0, 10, as_cmap=True)   # paleta de colores\n",
    "\n",
    "\n",
    "plt.figure(figsize=(4, 4))\n",
    "red_white_red_palette = sns.diverging_palette(240, 10, sep=20, as_cmap=True)\n",
    "sns.heatmap(corrmat, annot=True, cmap=cmap, fmt=\".2f\", linewidths=0.5, mask=mascara  )\n",
    "plt.show()"
   ]
  },
  {
   "cell_type": "markdown",
   "metadata": {},
   "source": [
    "Build a regression model for this data. What type of regression are you using? Add your responses as comments after your code."
   ]
  },
  {
   "cell_type": "code",
   "execution_count": 213,
   "metadata": {},
   "outputs": [
    {
     "data": {
      "text/plain": [
       "((35952, 5), (35952,))"
      ]
     },
     "execution_count": 213,
     "metadata": {},
     "output_type": "execute_result"
    }
   ],
   "source": [
    "indep_var=\"CO2 Emission Grams/Mile\"\n",
    "X = df.drop([indep_var], axis=1)\n",
    "y = df[indep_var]\n",
    "\n",
    "X.shape, y.shape"
   ]
  },
  {
   "cell_type": "code",
   "execution_count": 214,
   "metadata": {},
   "outputs": [
    {
     "data": {
      "text/plain": [
       "((28761, 5), (28761,), (7191, 5), (7191,))"
      ]
     },
     "execution_count": 214,
     "metadata": {},
     "output_type": "execute_result"
    }
   ],
   "source": [
    "from sklearn.model_selection import train_test_split as tts\n",
    "\n",
    "X_train, X_test, y_train, y_test = tts(X, y, test_size=0.2, random_state=42)\n",
    "\n",
    "X_train.shape, y_train.shape, X_test.shape, y_test.shape"
   ]
  },
  {
   "cell_type": "code",
   "execution_count": 238,
   "metadata": {
    "scrolled": true
   },
   "outputs": [
    {
     "data": {
      "text/html": [
       "<div>\n",
       "<style scoped>\n",
       "    .dataframe tbody tr th:only-of-type {\n",
       "        vertical-align: middle;\n",
       "    }\n",
       "\n",
       "    .dataframe tbody tr th {\n",
       "        vertical-align: top;\n",
       "    }\n",
       "\n",
       "    .dataframe thead th {\n",
       "        text-align: right;\n",
       "    }\n",
       "</style>\n",
       "<table border=\"1\" class=\"dataframe\">\n",
       "  <thead>\n",
       "    <tr style=\"text-align: right;\">\n",
       "      <th></th>\n",
       "      <th>rmse</th>\n",
       "      <th>mae</th>\n",
       "      <th>R2</th>\n",
       "      <th>intercept</th>\n",
       "      <th>coefs</th>\n",
       "    </tr>\n",
       "  </thead>\n",
       "  <tbody>\n",
       "    <tr>\n",
       "      <th>Ridge</th>\n",
       "      <td>17.024297</td>\n",
       "      <td>7.449930</td>\n",
       "      <td>0.979454</td>\n",
       "      <td>755.724793</td>\n",
       "      <td>[Year: -0.31560030967640773, Cylinders: 1.7940...</td>\n",
       "    </tr>\n",
       "    <tr>\n",
       "      <th>LinReg</th>\n",
       "      <td>17.024328</td>\n",
       "      <td>7.449673</td>\n",
       "      <td>0.979454</td>\n",
       "      <td>755.693507</td>\n",
       "      <td>[Year: -0.31558675458788704, Cylinders: 1.7940...</td>\n",
       "    </tr>\n",
       "    <tr>\n",
       "      <th>Lasso</th>\n",
       "      <td>17.060614</td>\n",
       "      <td>7.678415</td>\n",
       "      <td>0.979367</td>\n",
       "      <td>721.724525</td>\n",
       "      <td>[Year: -0.2989672818865957, Cylinders: 0.97729...</td>\n",
       "    </tr>\n",
       "    <tr>\n",
       "      <th>ElasticNet</th>\n",
       "      <td>17.562042</td>\n",
       "      <td>10.622079</td>\n",
       "      <td>0.978136</td>\n",
       "      <td>1098.818618</td>\n",
       "      <td>[Year: -0.46619561236604956, Cylinders: 1.5689...</td>\n",
       "    </tr>\n",
       "  </tbody>\n",
       "</table>\n",
       "</div>"
      ],
      "text/plain": [
       "                 rmse        mae        R2    intercept  \\\n",
       "Ridge       17.024297   7.449930  0.979454   755.724793   \n",
       "LinReg      17.024328   7.449673  0.979454   755.693507   \n",
       "Lasso       17.060614   7.678415  0.979367   721.724525   \n",
       "ElasticNet  17.562042  10.622079  0.978136  1098.818618   \n",
       "\n",
       "                                                        coefs  \n",
       "Ridge       [Year: -0.31560030967640773, Cylinders: 1.7940...  \n",
       "LinReg      [Year: -0.31558675458788704, Cylinders: 1.7940...  \n",
       "Lasso       [Year: -0.2989672818865957, Cylinders: 0.97729...  \n",
       "ElasticNet  [Year: -0.46619561236604956, Cylinders: 1.5689...  "
      ]
     },
     "execution_count": 238,
     "metadata": {},
     "output_type": "execute_result"
    }
   ],
   "source": [
    "models_sum2=linreg_models(X_train, X_test, y_train, y_test)\n",
    "models_sum2=models_sum2.sort_values(by=[\"rmse\"], ascending=True)\n",
    "models_sum2"
   ]
  },
  {
   "cell_type": "code",
   "execution_count": 239,
   "metadata": {},
   "outputs": [
    {
     "data": {
      "text/plain": [
       "['Year: -0.31560030967640773',\n",
       " 'Cylinders: 1.7940458721057968',\n",
       " 'Fuel Barrels/Year: 19.23071686159154',\n",
       " 'Combined MPG: -2.9336661019491856',\n",
       " 'Fuel Cost/Year: 0.03197305678455106']"
      ]
     },
     "execution_count": 239,
     "metadata": {},
     "output_type": "execute_result"
    }
   ],
   "source": [
    "models_sum2[\"coefs\"][0]"
   ]
  },
  {
   "cell_type": "markdown",
   "metadata": {},
   "source": [
    "Print your regression summary, and interpret the results. What are the most important varibles in your model and why? What can conclusions can you draw from your model and how confident in these conclusions are you? Add your responses as comments after your code."
   ]
  },
  {
   "cell_type": "markdown",
   "metadata": {},
   "source": [
    "* The model that returned the **smallest RMSE was the ridge** model.\n",
    "* **`Fuel Barrels/Year`** variable has the largest beta coeficient, thus it has the largest weight on predicting the CO2 emissions and so is the most important parameter.\n",
    "\n",
    "* The **p-values for the coefficients** are retrieved in the next cell. \n",
    "According to my results, all the coefficients have statistical significance.\n",
    "Nonetheless, some of these parameters have no information so I would not care about the p-value"
   ]
  },
  {
   "cell_type": "markdown",
   "metadata": {},
   "source": [
    "**help(sm.OLS)**\n",
    "\n",
    "    The fit() method in StatsModels is primarily used for fitting linear regression models without regularization.\n",
    "    It fits an Ordinary Least Squares (OLS) regression model, which doesn't include any form of regularization like Lasso or Ridge.\n",
    "    \n",
    "**Thus, I am getting p-values from a different model (OLS) while I got the fitted model and its coefficients from Ridge model. ...** <br/> \n",
    "\n",
    "Nevertheless, I am getting very similar coefficients... <br/>\n",
    "so I DON'T KNOW IF THIS IS CORRECT<br/> \n",
    "\n"
   ]
  },
  {
   "cell_type": "code",
   "execution_count": 255,
   "metadata": {},
   "outputs": [
    {
     "data": {
      "text/html": [
       "<table class=\"simpletable\">\n",
       "<caption>OLS Regression Results</caption>\n",
       "<tr>\n",
       "  <th>Dep. Variable:</th>    <td>CO2 Emission Grams/Mile</td> <th>  R-squared:         </th>  <td>   0.981</td>  \n",
       "</tr>\n",
       "<tr>\n",
       "  <th>Model:</th>                      <td>OLS</td>           <th>  Adj. R-squared:    </th>  <td>   0.981</td>  \n",
       "</tr>\n",
       "<tr>\n",
       "  <th>Method:</th>                <td>Least Squares</td>      <th>  F-statistic:       </th>  <td>3.005e+05</td> \n",
       "</tr>\n",
       "<tr>\n",
       "  <th>Date:</th>                <td>Wed, 22 Nov 2023</td>     <th>  Prob (F-statistic):</th>   <td>  0.00</td>   \n",
       "</tr>\n",
       "<tr>\n",
       "  <th>Time:</th>                    <td>19:33:07</td>         <th>  Log-Likelihood:    </th> <td>-1.2113e+05</td>\n",
       "</tr>\n",
       "<tr>\n",
       "  <th>No. Observations:</th>         <td> 28761</td>          <th>  AIC:               </th>  <td>2.423e+05</td> \n",
       "</tr>\n",
       "<tr>\n",
       "  <th>Df Residuals:</th>             <td> 28755</td>          <th>  BIC:               </th>  <td>2.423e+05</td> \n",
       "</tr>\n",
       "<tr>\n",
       "  <th>Df Model:</th>                 <td>     5</td>          <th>                     </th>      <td> </td>     \n",
       "</tr>\n",
       "<tr>\n",
       "  <th>Covariance Type:</th>         <td>nonrobust</td>        <th>                     </th>      <td> </td>     \n",
       "</tr>\n",
       "</table>\n",
       "<table class=\"simpletable\">\n",
       "<tr>\n",
       "          <td></td>             <th>coef</th>     <th>std err</th>      <th>t</th>      <th>P>|t|</th>  <th>[0.025</th>    <th>0.975]</th>  \n",
       "</tr>\n",
       "<tr>\n",
       "  <th>const</th>             <td>  755.6935</td> <td>   21.507</td> <td>   35.137</td> <td> 0.000</td> <td>  713.539</td> <td>  797.848</td>\n",
       "</tr>\n",
       "<tr>\n",
       "  <th>Year</th>              <td>   -0.3156</td> <td>    0.011</td> <td>  -29.360</td> <td> 0.000</td> <td>   -0.337</td> <td>   -0.295</td>\n",
       "</tr>\n",
       "<tr>\n",
       "  <th>Cylinders</th>         <td>    1.7940</td> <td>    0.092</td> <td>   19.497</td> <td> 0.000</td> <td>    1.614</td> <td>    1.974</td>\n",
       "</tr>\n",
       "<tr>\n",
       "  <th>Fuel Barrels/Year</th> <td>   19.2310</td> <td>    0.068</td> <td>  281.981</td> <td> 0.000</td> <td>   19.097</td> <td>   19.365</td>\n",
       "</tr>\n",
       "<tr>\n",
       "  <th>Combined MPG</th>      <td>   -2.9336</td> <td>    0.047</td> <td>  -62.750</td> <td> 0.000</td> <td>   -3.025</td> <td>   -2.842</td>\n",
       "</tr>\n",
       "<tr>\n",
       "  <th>Fuel Cost/Year</th>    <td>    0.0320</td> <td>    0.001</td> <td>   59.724</td> <td> 0.000</td> <td>    0.031</td> <td>    0.033</td>\n",
       "</tr>\n",
       "</table>\n",
       "<table class=\"simpletable\">\n",
       "<tr>\n",
       "  <th>Omnibus:</th>       <td>58182.680</td> <th>  Durbin-Watson:     </th>   <td>   2.004</td>   \n",
       "</tr>\n",
       "<tr>\n",
       "  <th>Prob(Omnibus):</th>  <td> 0.000</td>   <th>  Jarque-Bera (JB):  </th> <td>238983414.038</td>\n",
       "</tr>\n",
       "<tr>\n",
       "  <th>Skew:</th>           <td>16.711</td>   <th>  Prob(JB):          </th>   <td>    0.00</td>   \n",
       "</tr>\n",
       "<tr>\n",
       "  <th>Kurtosis:</th>       <td>448.315</td>  <th>  Cond. No.          </th>   <td>6.20e+05</td>   \n",
       "</tr>\n",
       "</table><br/><br/>Notes:<br/>[1] Standard Errors assume that the covariance matrix of the errors is correctly specified.<br/>[2] The condition number is large, 6.2e+05. This might indicate that there are<br/>strong multicollinearity or other numerical problems."
      ],
      "text/plain": [
       "<class 'statsmodels.iolib.summary.Summary'>\n",
       "\"\"\"\n",
       "                               OLS Regression Results                              \n",
       "===================================================================================\n",
       "Dep. Variable:     CO2 Emission Grams/Mile   R-squared:                       0.981\n",
       "Model:                                 OLS   Adj. R-squared:                  0.981\n",
       "Method:                      Least Squares   F-statistic:                 3.005e+05\n",
       "Date:                     Wed, 22 Nov 2023   Prob (F-statistic):               0.00\n",
       "Time:                             19:33:07   Log-Likelihood:            -1.2113e+05\n",
       "No. Observations:                    28761   AIC:                         2.423e+05\n",
       "Df Residuals:                        28755   BIC:                         2.423e+05\n",
       "Df Model:                                5                                         \n",
       "Covariance Type:                 nonrobust                                         \n",
       "=====================================================================================\n",
       "                        coef    std err          t      P>|t|      [0.025      0.975]\n",
       "-------------------------------------------------------------------------------------\n",
       "const               755.6935     21.507     35.137      0.000     713.539     797.848\n",
       "Year                 -0.3156      0.011    -29.360      0.000      -0.337      -0.295\n",
       "Cylinders             1.7940      0.092     19.497      0.000       1.614       1.974\n",
       "Fuel Barrels/Year    19.2310      0.068    281.981      0.000      19.097      19.365\n",
       "Combined MPG         -2.9336      0.047    -62.750      0.000      -3.025      -2.842\n",
       "Fuel Cost/Year        0.0320      0.001     59.724      0.000       0.031       0.033\n",
       "==============================================================================\n",
       "Omnibus:                    58182.680   Durbin-Watson:                   2.004\n",
       "Prob(Omnibus):                  0.000   Jarque-Bera (JB):        238983414.038\n",
       "Skew:                          16.711   Prob(JB):                         0.00\n",
       "Kurtosis:                     448.315   Cond. No.                     6.20e+05\n",
       "==============================================================================\n",
       "\n",
       "Notes:\n",
       "[1] Standard Errors assume that the covariance matrix of the errors is correctly specified.\n",
       "[2] The condition number is large, 6.2e+05. This might indicate that there are\n",
       "strong multicollinearity or other numerical problems.\n",
       "\"\"\""
      ]
     },
     "execution_count": 255,
     "metadata": {},
     "output_type": "execute_result"
    }
   ],
   "source": [
    "#StatsModels\n",
    "import statsmodels.api as sm\n",
    "\n",
    "# Convert X and y to a StatsModels compatible format\n",
    "X_sm = sm.add_constant(X_train)  # Add a constant term for the intercept\n",
    "\n",
    "# Fit Ridge regression model using StatsModels\n",
    "sm_ridge_model = sm.OLS(y_train, X_sm).fit(alpha=1.0, L1_wt=0)  # L1_wt=0 for Ridge\n",
    "\n",
    "\n",
    "sm_ridge_model.summary()\n",
    "\n",
    "# Get p-values for coefficients\n",
    "# p_values = sm_ridge_model.pvalues"
   ]
  },
  {
   "cell_type": "code",
   "execution_count": 256,
   "metadata": {},
   "outputs": [
    {
     "data": {
      "text/plain": [
       "['Year: -0.31560030967640773',\n",
       " 'Cylinders: 1.7940458721057968',\n",
       " 'Fuel Barrels/Year: 19.23071686159154',\n",
       " 'Combined MPG: -2.9336661019491856',\n",
       " 'Fuel Cost/Year: 0.03197305678455106']"
      ]
     },
     "execution_count": 256,
     "metadata": {},
     "output_type": "execute_result"
    }
   ],
   "source": [
    "models_sum2[\"coefs\"][0]"
   ]
  },
  {
   "cell_type": "markdown",
   "metadata": {},
   "source": [
    "## Bonus Challenge: Error Analysis"
   ]
  },
  {
   "cell_type": "markdown",
   "metadata": {},
   "source": [
    "I am suspicious about the last few parties I have thrown: it seems that the more people I invite the more people are unable to attend. To know if my hunch is supported by data, I have decided to do an analysis. I have collected my data in the table below, where X is the number of people I invited, and Y is the number of people who attended. \n",
    "\n",
    "|  X |  Y |\n",
    "|----|----|\n",
    "| 1  |  1 |\n",
    "| 3  |  2 |\n",
    "| 4  |  4 |\n",
    "| 6  |  4 |\n",
    "| 8  |  5 |\n",
    "| 9  |  7 |\n",
    "| 11 |  8 |\n",
    "| 14 |  13 |"
   ]
  },
  {
   "cell_type": "markdown",
   "metadata": {},
   "source": [
    "We want to know if the relationship modeled by the two random variables is linear or not, and therefore if it is appropriate to model it with a linear regression. \n",
    "First, build a dataframe with the data. "
   ]
  },
  {
   "cell_type": "code",
   "execution_count": 7,
   "metadata": {},
   "outputs": [],
   "source": [
    "# Your code here. "
   ]
  },
  {
   "cell_type": "markdown",
   "metadata": {},
   "source": [
    "Draw a dispersion diagram (scatter plot) for the data, and fit a regression line."
   ]
  },
  {
   "cell_type": "code",
   "execution_count": 1,
   "metadata": {},
   "outputs": [],
   "source": [
    "# Your code here."
   ]
  },
  {
   "cell_type": "markdown",
   "metadata": {},
   "source": [
    "What do you see? What does this plot tell you about the likely relationship between the variables? Print the results from your regression."
   ]
  },
  {
   "cell_type": "code",
   "execution_count": 2,
   "metadata": {},
   "outputs": [],
   "source": [
    "# Your response here. "
   ]
  },
  {
   "cell_type": "markdown",
   "metadata": {},
   "source": [
    "Do you see any problematic points, or outliers, in your data? Remove these points and recalculate your regression. Print the new dispersion diagram with your new model and the results of your model. "
   ]
  },
  {
   "cell_type": "code",
   "execution_count": 5,
   "metadata": {},
   "outputs": [],
   "source": [
    "# Your response here. "
   ]
  },
  {
   "cell_type": "markdown",
   "metadata": {},
   "source": [
    "What changed? Based on the results of the two models and your graphs, what can you say about the form of the data with the problematic point and without it?"
   ]
  },
  {
   "cell_type": "code",
   "execution_count": null,
   "metadata": {},
   "outputs": [],
   "source": [
    "# Your response here. "
   ]
  }
 ],
 "metadata": {
  "kernelspec": {
   "display_name": "Python 3 (ipykernel)",
   "language": "python",
   "name": "python3"
  },
  "language_info": {
   "codemirror_mode": {
    "name": "ipython",
    "version": 3
   },
   "file_extension": ".py",
   "mimetype": "text/x-python",
   "name": "python",
   "nbconvert_exporter": "python",
   "pygments_lexer": "ipython3",
   "version": "3.7.16"
  }
 },
 "nbformat": 4,
 "nbformat_minor": 2
}
