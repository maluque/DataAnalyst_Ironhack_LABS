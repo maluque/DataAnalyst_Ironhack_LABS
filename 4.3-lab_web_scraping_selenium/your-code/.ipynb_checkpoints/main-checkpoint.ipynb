{
 "cells": [
  {
   "cell_type": "markdown",
   "metadata": {},
   "source": [
    "# Web Scraping Lab\n",
    "\n",
    "You will find in this notebook some scrapy exercises to practise your scraping skills.\n",
    "\n",
    "**Tips:**\n",
    "\n",
    "- Check the response status code for each request to ensure you have obtained the intended contennt.\n",
    "- Print the response text in each request to understand the kind of info you are getting and its format.\n",
    "- Check for patterns in the response text to extract the data/info requested in each question.\n",
    "- Visit each url and take a look at its source through Chrome DevTools. You'll need to identify the html tags, special class names etc. used for the html content you are expected to extract."
   ]
  },
  {
   "cell_type": "markdown",
   "metadata": {},
   "source": [
    "- [Selenium Doc](https://www.selenium.dev/documentation/)\n",
    "- [Requests library](http://docs.python-requests.org/en/master/#the-user-guide) documentation \n",
    "- [Urllib](https://docs.python.org/3/library/urllib.html#module-urllib)\n",
    "- [re lib](https://docs.python.org/3/library/re.html)\n",
    "- [lxml lib](https://lxml.de/)\n",
    "- [Scrapy](https://scrapy.org/)\n",
    "- [List of HTTP status codes](https://en.wikipedia.org/wiki/List_of_HTTP_status_codes)\n",
    "- [HTML basics](http://www.simplehtmlguide.com/cheatsheet.php)\n",
    "- [CSS basics](https://www.cssbasics.com/#page_start)"
   ]
  },
  {
   "cell_type": "markdown",
   "metadata": {},
   "source": [
    "#### Below are the libraries and modules you may need. `Selenium` and `pandas` are imported for you."
   ]
  },
  {
   "cell_type": "code",
   "execution_count": 582,
   "metadata": {},
   "outputs": [],
   "source": [
    "import pandas as pd\n",
    "\n",
    "from selenium import webdriver\n",
    "from selenium.webdriver.common.by import By\n",
    "PATH = webdriver.FirefoxOptions() "
   ]
  },
  {
   "cell_type": "code",
   "execution_count": 587,
   "metadata": {},
   "outputs": [],
   "source": [
    "driver = webdriver.Firefox(options = PATH)"
   ]
  },
  {
   "cell_type": "code",
   "execution_count": 10,
   "metadata": {},
   "outputs": [],
   "source": [
    "driver.quit()"
   ]
  },
  {
   "cell_type": "markdown",
   "metadata": {},
   "source": [
    "### stuff relevant only for people working with chrome"
   ]
  },
  {
   "cell_type": "code",
   "execution_count": null,
   "metadata": {},
   "outputs": [],
   "source": [
    "#driver configuration\n",
    "#####  opciones=Options()\n",
    "\n",
    "#####  opciones.add_experimental_option('excludeSwitches', ['enable-automation'])\n",
    "#####  opciones.add_experimental_option('useAutomationExtension', False)\n",
    "#####  opciones.headless=False    # si True, no aperece la ventana (headless=no visible)\n",
    "#####  opciones.add_argument('--start-maximized')         # comienza maximizado\n",
    "#####  #opciones.add_argument('user-data-dir=selenium')    # mantiene las cookies\n",
    "#####  #opciones.add_extension('driver_folder/adblock.crx')       # adblocker\n",
    "#####  opciones.add_argument('--incognito')"
   ]
  },
  {
   "cell_type": "code",
   "execution_count": null,
   "metadata": {},
   "outputs": [],
   "source": [
    "#####  driver = \"./chromedriver.exe\" #remember substitute this for your driver path\n",
    "#####  driver = webdriver.Chrome(driver,options = opciones)"
   ]
  },
  {
   "cell_type": "markdown",
   "metadata": {},
   "source": [
    "#### Download, parse, and print the content from the Trending Developers page from GitHub:"
   ]
  },
  {
   "cell_type": "code",
   "execution_count": 12,
   "metadata": {},
   "outputs": [],
   "source": [
    "# This is the url you will scrape in this exercise\n",
    "url = 'https://github.com/trending/developers'\n",
    "driver.get(url)"
   ]
  },
  {
   "cell_type": "code",
   "execution_count": 53,
   "metadata": {},
   "outputs": [],
   "source": [
    "developer_name = driver.find_elements(By.XPATH, '//div//h1[@class=\"h3 lh-condensed\"]')\n",
    "developer_name_list=list([t.text for t in developer_name])\n",
    "\n",
    "developer_alias = driver.find_elements(By.XPATH, '//div//p[@class=\"f4 text-normal mb-1\"]')\n",
    "developer_alias_list=list([t.text for t in developer_alias])"
   ]
  },
  {
   "cell_type": "code",
   "execution_count": 55,
   "metadata": {
    "scrolled": true
   },
   "outputs": [
    {
     "data": {
      "text/plain": [
       "25"
      ]
     },
     "metadata": {},
     "output_type": "display_data"
    },
    {
     "data": {
      "text/plain": [
       "22"
      ]
     },
     "metadata": {},
     "output_type": "display_data"
    }
   ],
   "source": [
    "display(len(developer_name_list), len(developer_alias_list))"
   ]
  },
  {
   "cell_type": "markdown",
   "metadata": {},
   "source": [
    "### hay alias vacios!!!! \n",
    "\n",
    "Para evitar que estas celdas vacias desordenen el resultado, mejor subir un nivel de busqueda"
   ]
  },
  {
   "cell_type": "code",
   "execution_count": 106,
   "metadata": {},
   "outputs": [
    {
     "data": {
      "text/plain": [
       "[['Ismail Pelaseyed', 'homanp'],\n",
       " ['Alex Stokes', 'ralexstokes'],\n",
       " ['Don Jayamanne', 'DonJayamanne'],\n",
       " ['Stefan Prodan', 'stefanprodan'],\n",
       " ['Travis Cline', 'tmc'],\n",
       " ['Oliver', 'SchrodingersGat'],\n",
       " ['dgtlmoon'],\n",
       " ['Guillaume Klein', 'guillaumekln'],\n",
       " ['lllyasviel'],\n",
       " ['Angelos Chalaris', 'Chalarangelo'],\n",
       " ['Jon Skeet', 'jskeet'],\n",
       " ['Chris Banes', 'chrisbanes'],\n",
       " ['Carlos Scheidegger', 'cscheid'],\n",
       " ['Anders Eknert', 'anderseknert'],\n",
       " ['Emil Ernerfeldt', 'emilk'],\n",
       " ['Andrea Aime', 'aaime'],\n",
       " ['Mattt', 'mattt'],\n",
       " ['Meng Zhang', 'wsxiaoys'],\n",
       " ['Shahed Nasser', 'shahednasser'],\n",
       " ['dkhamsing'],\n",
       " ['Kieron Quinn', 'KieronQuinn'],\n",
       " ['afc163', 'afc163'],\n",
       " ['Alan Donovan', 'adonovan'],\n",
       " ['Lee Calcote', 'leecalcote'],\n",
       " ['Costa Huang', 'vwxyzjn']]"
      ]
     },
     "metadata": {},
     "output_type": "display_data"
    }
   ],
   "source": [
    "# OPCION A\n",
    "test=driver.find_elements(By.XPATH, '//div[@class=\"col-md-6\"]')\n",
    "\n",
    "# OPCION B\n",
    "#test=driver.find_elements(By.CSS_SELECTOR, 'div.col-md-6')\n",
    "\n",
    "test_list=[]\n",
    "[test_list.append(t.text) for t in test]\n",
    "\n",
    "## keep only even indexes cause these contain the developer / alias info\n",
    "test_list2=[]      \n",
    "[test_list2.append(test_list[i]) for i in range(len(test_list)) if (i%2==0)]\n",
    "\n",
    "#\n",
    "test_list3=[]      \n",
    "[test_list3.append(i.split(\"\\n\")) for i in test_list2]\n",
    "                \n",
    "display(test_list3)"
   ]
  },
  {
   "cell_type": "markdown",
   "metadata": {},
   "source": [
    "#### Display the names of the trending developers retrieved in the previous step.\n",
    "\n",
    "Your output should be a Python list of developer names. Each name should not contain any html tag.\n",
    "\n",
    "**Instructions:**\n",
    "\n",
    "1. Find out the html tag and class names used for the developer names.\n",
    "\n",
    "1. Use string manipulation techniques to replace whitespaces and linebreaks (i.e. `\\n`) in the *text* of each html element. Use a list to store the clean names.\n",
    "\n",
    "1. Print the list of names.\n",
    "\n",
    "Your output should look like below:\n",
    "\n",
    "```\n",
    "['trimstray (@trimstray)',\n",
    " 'joewalnes (JoeWalnes)',\n",
    " 'charlax (Charles-AxelDein)',\n",
    " 'ForrestKnight (ForrestKnight)',\n",
    " 'revery-ui (revery-ui)',\n",
    " 'alibaba (Alibaba)',\n",
    " 'Microsoft (Microsoft)',\n",
    " 'github (GitHub)',\n",
    " 'facebook (Facebook)',\n",
    " 'boazsegev (Bo)',\n",
    " 'google (Google)',\n",
    " 'cloudfetch',\n",
    " 'sindresorhus (SindreSorhus)',\n",
    " 'tensorflow',\n",
    " 'apache (TheApacheSoftwareFoundation)',\n",
    " 'DevonCrawford (DevonCrawford)',\n",
    " 'ARMmbed (ArmMbed)',\n",
    " 'vuejs (vuejs)',\n",
    " 'fastai (fast.ai)',\n",
    " 'QiShaoXuan (Qi)',\n",
    " 'joelparkerhenderson (JoelParkerHenderson)',\n",
    " 'torvalds (LinusTorvalds)',\n",
    " 'CyC2018',\n",
    " 'komeiji-satori (神楽坂覚々)',\n",
    " 'script-8']\n",
    " ```"
   ]
  },
  {
   "cell_type": "code",
   "execution_count": null,
   "metadata": {},
   "outputs": [],
   "source": []
  },
  {
   "cell_type": "markdown",
   "metadata": {},
   "source": [
    "#### Display the trending Python repositories in GitHub\n",
    "\n",
    "The steps to solve this problem is similar to the previous one except that you need to find out the repository names instead of developer names."
   ]
  },
  {
   "cell_type": "code",
   "execution_count": 107,
   "metadata": {},
   "outputs": [],
   "source": [
    "# This is the url you will scrape in this exercise\n",
    "url = 'https://github.com/trending/python?since=daily'\n",
    "driver.get(url)"
   ]
  },
  {
   "cell_type": "code",
   "execution_count": 116,
   "metadata": {},
   "outputs": [
    {
     "data": {
      "text/plain": [
       "['swisskyrepo / PayloadsAllTheThings',\n",
       " 'THUDM / ChatGLM3',\n",
       " 'PaddlePaddle / PaddleOCR',\n",
       " 'langchain-ai / langchain',\n",
       " 'dataelement / bisheng',\n",
       " 'Azure / MS-AMP',\n",
       " 'xxlong0 / Wonder3D',\n",
       " 'yunjey / pytorch-tutorial',\n",
       " 'facebookresearch / llama',\n",
       " 'localstack / localstack',\n",
       " 'OpenBMB / ChatDev',\n",
       " 'ray-project / ray',\n",
       " 'CycodeLabs / raven',\n",
       " 'ageitgey / face_recognition',\n",
       " 'iam-veeramalla / aws-devops-zero-to-hero',\n",
       " 'openai / whisper',\n",
       " 'sqlfluff / sqlfluff',\n",
       " 'imartinez / privateGPT',\n",
       " 'reflex-dev / reflex',\n",
       " 'donnemartin / system-design-primer',\n",
       " 'lm-sys / FastChat',\n",
       " 'togethercomputer / RedPajama-Data',\n",
       " 'SkyworkAI / Skywork',\n",
       " 'microsoft / qlib',\n",
       " 'pathwaycom / llm-app']"
      ]
     },
     "execution_count": 116,
     "metadata": {},
     "output_type": "execute_result"
    }
   ],
   "source": [
    "test=driver.find_elements(By.XPATH, '//div//h2[@class=\"h3 lh-condensed\"]')\n",
    "test[1].text\n",
    "\n",
    "repo_list=[]\n",
    "[repo_list.append(i.text) for i in test]\n",
    "repo_list\n"
   ]
  },
  {
   "cell_type": "markdown",
   "metadata": {},
   "source": [
    "#### Display all the image links from Walt Disney wikipedia page"
   ]
  },
  {
   "cell_type": "code",
   "execution_count": 117,
   "metadata": {},
   "outputs": [],
   "source": [
    "# This is the url you will scrape in this exercise\n",
    "url = 'https://en.wikipedia.org/wiki/Walt_Disney'\n",
    "driver.get(url)"
   ]
  },
  {
   "cell_type": "code",
   "execution_count": 155,
   "metadata": {},
   "outputs": [
    {
     "data": {
      "text/plain": [
       "['https://upload.wikimedia.org/wikipedia/en/thumb/e/e7/Cscr-featured.svg/20px-Cscr-featured.svg.png',\n",
       " 'https://upload.wikimedia.org/wikipedia/en/thumb/8/8c/Extended-protection-shackle.svg/20px-Extended-protection-shackle.svg.png',\n",
       " 'https://upload.wikimedia.org/wikipedia/commons/thumb/d/df/Walt_Disney_1946.JPG/220px-Walt_Disney_1946.JPG',\n",
       " 'https://upload.wikimedia.org/wikipedia/commons/thumb/8/87/Walt_Disney_1942_signature.svg/150px-Walt_Disney_1942_signature.svg.png',\n",
       " 'https://upload.wikimedia.org/wikipedia/commons/thumb/3/3a/Walt_Disney_Birthplace_Exterior_Hermosa_Chicago_Illinois.jpg/220px-Walt_Disney_Birthplace_Exterior_Hermosa_Chicago_Illinois.jpg']"
      ]
     },
     "metadata": {},
     "output_type": "display_data"
    },
    {
     "data": {
      "text/html": [
       "<img src=\"https://upload.wikimedia.org/wikipedia/commons/thumb/3/3a/Walt_Disney_Birthplace_Exterior_Hermosa_Chicago_Illinois.jpg/220px-Walt_Disney_Birthplace_Exterior_Hermosa_Chicago_Illinois.jpg\"/>"
      ],
      "text/plain": [
       "<IPython.core.display.Image object>"
      ]
     },
     "metadata": {},
     "output_type": "display_data"
    }
   ],
   "source": [
    "from IPython.display import Image\n",
    "\n",
    "test=driver.find_elements(By.XPATH, '//a//img[@class=\"mw-file-element\"]')\n",
    "\n",
    "img_url=test[1].get_attribute('src')\n",
    "\n",
    "img_list=[]\n",
    "[img_list.append(i.get_attribute(\"src\")) for i in test]\n",
    "\n",
    "\n",
    "display(img_list[:5])\n",
    "\n",
    "display(Image(url=img_list[4]))"
   ]
  },
  {
   "cell_type": "markdown",
   "metadata": {},
   "source": [
    "#### Retrieve an arbitary Wikipedia page of \"Python\" and create a list of links on that page"
   ]
  },
  {
   "cell_type": "code",
   "execution_count": 158,
   "metadata": {},
   "outputs": [],
   "source": [
    "# This is the url you will scrape in this exercise\n",
    "url ='https://en.wikipedia.org/wiki/Python_(missile)'\n",
    "driver.get(url)"
   ]
  },
  {
   "cell_type": "code",
   "execution_count": 166,
   "metadata": {},
   "outputs": [
    {
     "data": {
      "text/plain": [
       "['https://en.wikipedia.org/wiki/Air-to-air_missile',\n",
       " 'https://en.wikipedia.org/wiki/Rafael_Advanced_Defense_Systems',\n",
       " 'https://en.wikipedia.org/wiki/Hebrew_language',\n",
       " 'https://en.wikipedia.org/wiki/Dragonfly',\n",
       " 'https://en.wikipedia.org/wiki/Inflection',\n",
       " 'https://en.wikipedia.org/wiki/Damselfly',\n",
       " 'https://en.wikipedia.org/wiki/SPYDER',\n",
       " 'https://en.wikipedia.org/wiki/Israeli_Air_Force',\n",
       " 'https://en.wikipedia.org/wiki/Hebrew_language',\n",
       " 'https://en.wikipedia.org/wiki/Dragonfly']"
      ]
     },
     "metadata": {},
     "output_type": "display_data"
    }
   ],
   "source": [
    "test=driver.find_elements(By.XPATH, '//p//a')\n",
    "\n",
    "links_list=[]\n",
    "[links_list.append(i.get_attribute(\"href\")) for i in test]\n",
    "display(links_list[:10])"
   ]
  },
  {
   "cell_type": "markdown",
   "metadata": {},
   "source": [
    "#### Number of Titles that have changed in the United States Code since its last release point "
   ]
  },
  {
   "cell_type": "code",
   "execution_count": 167,
   "metadata": {},
   "outputs": [],
   "source": [
    "# This is the url you will scrape in this exercise\n",
    "url = 'http://uscode.house.gov/download/download.shtml'\n",
    "driver.get(url)"
   ]
  },
  {
   "cell_type": "code",
   "execution_count": 194,
   "metadata": {},
   "outputs": [
    {
     "data": {
      "text/plain": [
       "['Title 20 - Education', \"Title 38 - Veterans' Benefits ٭\"]"
      ]
     },
     "metadata": {},
     "output_type": "display_data"
    }
   ],
   "source": [
    "#test=driver.find_elements(By.CSS_SELECTOR,  'div[@class=\"uscitem\"]')\n",
    "\n",
    "test=driver.find_elements(By.CSS_SELECTOR,\n",
    "'html body div#body div div#content.page_content div.page_content_internal div.pageframe div.uscitemlist div.uscitem div.usctitlechanged')\n",
    "\n",
    "codes_list=[]\n",
    "[codes_list.append(i.text) for i in test]\n",
    "\n",
    "display(codes_list)\n"
   ]
  },
  {
   "cell_type": "markdown",
   "metadata": {},
   "source": [
    "#### A Python list with the top ten FBI's Most Wanted names "
   ]
  },
  {
   "cell_type": "code",
   "execution_count": 195,
   "metadata": {},
   "outputs": [],
   "source": [
    "# This is the url you will scrape in this exercise\n",
    "url = 'https://www.fbi.gov/wanted/topten'\n",
    "driver.get(url)"
   ]
  },
  {
   "cell_type": "code",
   "execution_count": 213,
   "metadata": {},
   "outputs": [
    {
     "data": {
      "text/plain": [
       "['arnoldo jimenez',\n",
       " 'omar alexander cardenas',\n",
       " 'yulan adonay archaga carias',\n",
       " 'bhadreshkumar chetanbhai patel',\n",
       " 'donald eugene fields ii',\n",
       " 'ruja ignatova',\n",
       " 'wilver villegas palomino',\n",
       " 'alejandro castillo',\n",
       " 'alexis flores',\n",
       " 'jose rodolfo villarreal hernandez']"
      ]
     },
     "execution_count": 213,
     "metadata": {},
     "output_type": "execute_result"
    }
   ],
   "source": [
    "test=driver.find_elements(By.XPATH, 'li//h3[@class=\"title\"]')\n",
    "\n",
    "\n",
    "\n",
    "test=driver.find_elements(By.CSS_SELECTOR, 'li.portal-type-person.castle-grid-block-item h3.title a')\n",
    "\n",
    "test[1].get_attribute('href').split(\"/\")[-1]\n",
    "\n",
    "FBI_list=[]\n",
    "[FBI_list.append(i.get_attribute('href').split(\"/\")[-1].replace(\"-\", \" \")) for i in test]\n",
    "\n",
    "FBI_list"
   ]
  },
  {
   "cell_type": "markdown",
   "metadata": {},
   "source": [
    "####  20 latest earthquakes info (date, time, latitude, longitude and region name) by the EMSC as a pandas dataframe"
   ]
  },
  {
   "cell_type": "code",
   "execution_count": 324,
   "metadata": {},
   "outputs": [],
   "source": [
    "# This is the url you will scrape in this exercise\n",
    "url = 'https://www.emsc-csem.org/Earthquake/'\n",
    "driver.get(url)\n",
    "#driver.find_element(By.CSS_SELECTOR, 'a div.cookieButton').click()"
   ]
  },
  {
   "cell_type": "code",
   "execution_count": 454,
   "metadata": {},
   "outputs": [],
   "source": [
    "#test=driver.find_element(By.CSS_SELECTOR, 'div.content div.htab table.eqs.table-scroll')\n",
    "test=driver.find_elements(By.CSS_SELECTOR, 'html body div.content div.htab table.eqs.table-scroll thead tr th')\n",
    "\n",
    "#tbdat\n",
    "\n",
    "test_list=[]\n",
    "[test_list.append(i.text) for i in test]\n",
    "\n",
    "len(test_list)\n",
    "title=test_list"
   ]
  },
  {
   "cell_type": "code",
   "execution_count": 456,
   "metadata": {},
   "outputs": [
    {
     "data": {
      "text/plain": [
       "['Citizen response',\n",
       " 'Date & Time UTC',\n",
       " 'Lat. degrees',\n",
       " 'Lon. degrees',\n",
       " 'Depth km',\n",
       " 'Mag.[+]',\n",
       " 'Region']"
      ]
     },
     "execution_count": 456,
     "metadata": {},
     "output_type": "execute_result"
    }
   ],
   "source": [
    "title=[i.replace(\"\\n\", \" \") for i in title]\n",
    "title=title[1:]\n",
    "title"
   ]
  },
  {
   "cell_type": "code",
   "execution_count": 457,
   "metadata": {},
   "outputs": [],
   "source": [
    "test=driver.find_elements(By.CSS_SELECTOR, 'html body div.content div.htab table.eqs.table-scroll tbody tr')\n",
    "\n",
    "df_list=[]\n",
    "for j in test:\n",
    "    test2=j.find_elements(By.TAG_NAME, 'td')\n",
    "    rowlist=[]\n",
    "    for i in test2:\n",
    "        rowlist.append(i.text)\n",
    "    df_list.append(rowlist)\n",
    "    \n",
    "TERREMOTO=pd.DataFrame(df_list)\n"
   ]
  },
  {
   "cell_type": "code",
   "execution_count": 458,
   "metadata": {},
   "outputs": [],
   "source": [
    "TERREMOTO=TERREMOTO.iloc[:,[2,3,4,5,6,8,9]]\n",
    "TERREMOTO.columns=title"
   ]
  },
  {
   "cell_type": "code",
   "execution_count": 475,
   "metadata": {},
   "outputs": [],
   "source": [
    "TERREMOTO.iloc[:, 1]=[i.replace(\"\\n\", \" \") for i in TERREMOTO.iloc[:, 1]]"
   ]
  },
  {
   "cell_type": "code",
   "execution_count": 476,
   "metadata": {},
   "outputs": [
    {
     "data": {
      "text/html": [
       "<div>\n",
       "<style scoped>\n",
       "    .dataframe tbody tr th:only-of-type {\n",
       "        vertical-align: middle;\n",
       "    }\n",
       "\n",
       "    .dataframe tbody tr th {\n",
       "        vertical-align: top;\n",
       "    }\n",
       "\n",
       "    .dataframe thead th {\n",
       "        text-align: right;\n",
       "    }\n",
       "</style>\n",
       "<table border=\"1\" class=\"dataframe\">\n",
       "  <thead>\n",
       "    <tr style=\"text-align: right;\">\n",
       "      <th></th>\n",
       "      <th>Citizen response</th>\n",
       "      <th>Date &amp; Time UTC</th>\n",
       "      <th>Lat. degrees</th>\n",
       "      <th>Lon. degrees</th>\n",
       "      <th>Depth km</th>\n",
       "      <th>Mag.[+]</th>\n",
       "      <th>Region</th>\n",
       "    </tr>\n",
       "  </thead>\n",
       "  <tbody>\n",
       "    <tr>\n",
       "      <th>0</th>\n",
       "      <td></td>\n",
       "      <td>2023-11-01 15:53:06 21 min ago</td>\n",
       "      <td>61.869</td>\n",
       "      <td>-148.039</td>\n",
       "      <td>33</td>\n",
       "      <td>3.9</td>\n",
       "      <td>SOUTHERN ALASKA</td>\n",
       "    </tr>\n",
       "    <tr>\n",
       "      <th>1</th>\n",
       "      <td></td>\n",
       "      <td>2023-11-01 15:36:52 37 min ago</td>\n",
       "      <td>11.940</td>\n",
       "      <td>-86.820</td>\n",
       "      <td>44</td>\n",
       "      <td>3.6</td>\n",
       "      <td>NEAR COAST OF NICARAGUA</td>\n",
       "    </tr>\n",
       "    <tr>\n",
       "      <th>2</th>\n",
       "      <td></td>\n",
       "      <td>2023-11-01 15:23:02 51 min ago</td>\n",
       "      <td>-21.190</td>\n",
       "      <td>-68.910</td>\n",
       "      <td>111</td>\n",
       "      <td>2.6</td>\n",
       "      <td>TARAPACA, CHILE</td>\n",
       "    </tr>\n",
       "    <tr>\n",
       "      <th>3</th>\n",
       "      <td></td>\n",
       "      <td>2023-11-01 15:14:13 1 hr 00 min ago</td>\n",
       "      <td>36.891</td>\n",
       "      <td>-2.999</td>\n",
       "      <td>13</td>\n",
       "      <td>2.2</td>\n",
       "      <td>STRAIT OF GIBRALTAR</td>\n",
       "    </tr>\n",
       "    <tr>\n",
       "      <th>4</th>\n",
       "      <td></td>\n",
       "      <td>2023-11-01 15:09:09 1 hr 05 min ago</td>\n",
       "      <td>11.840</td>\n",
       "      <td>125.640</td>\n",
       "      <td>19</td>\n",
       "      <td>3.0</td>\n",
       "      <td>SAMAR, PHILIPPINES</td>\n",
       "    </tr>\n",
       "    <tr>\n",
       "      <th>...</th>\n",
       "      <td>...</td>\n",
       "      <td>...</td>\n",
       "      <td>...</td>\n",
       "      <td>...</td>\n",
       "      <td>...</td>\n",
       "      <td>...</td>\n",
       "      <td>...</td>\n",
       "    </tr>\n",
       "    <tr>\n",
       "      <th>99</th>\n",
       "      <td></td>\n",
       "      <td>2023-11-01 06:23:24 9 hr 50 min ago</td>\n",
       "      <td>18.110</td>\n",
       "      <td>-103.310</td>\n",
       "      <td>14</td>\n",
       "      <td>3.6</td>\n",
       "      <td>OFFSHORE MICHOACAN, MEXICO</td>\n",
       "    </tr>\n",
       "    <tr>\n",
       "      <th>100</th>\n",
       "      <td></td>\n",
       "      <td>2023-11-01 06:22:42 9 hr 51 min ago</td>\n",
       "      <td>15.280</td>\n",
       "      <td>-93.760</td>\n",
       "      <td>11</td>\n",
       "      <td>3.8</td>\n",
       "      <td>OFFSHORE CHIAPAS, MEXICO</td>\n",
       "    </tr>\n",
       "    <tr>\n",
       "      <th>101</th>\n",
       "      <td></td>\n",
       "      <td>2023-11-01 06:03:35 10 hr 10 min ago</td>\n",
       "      <td>46.389</td>\n",
       "      <td>12.731</td>\n",
       "      <td>8</td>\n",
       "      <td>1.0</td>\n",
       "      <td>NORTHERN ITALY</td>\n",
       "    </tr>\n",
       "    <tr>\n",
       "      <th>102</th>\n",
       "      <td></td>\n",
       "      <td>2023-11-01 06:03:26 10 hr 10 min ago</td>\n",
       "      <td>17.400</td>\n",
       "      <td>-94.710</td>\n",
       "      <td>136</td>\n",
       "      <td>3.8</td>\n",
       "      <td>VERACRUZ, MEXICO</td>\n",
       "    </tr>\n",
       "    <tr>\n",
       "      <th>103</th>\n",
       "      <td></td>\n",
       "      <td>2023-11-01 06:01:15 10 hr 13 min ago</td>\n",
       "      <td>17.640</td>\n",
       "      <td>-101.280</td>\n",
       "      <td>49</td>\n",
       "      <td>3.9</td>\n",
       "      <td>GUERRERO, MEXICO</td>\n",
       "    </tr>\n",
       "  </tbody>\n",
       "</table>\n",
       "<p>104 rows × 7 columns</p>\n",
       "</div>"
      ],
      "text/plain": [
       "    Citizen response                       Date & Time UTC Lat. degrees  \\\n",
       "0                           2023-11-01 15:53:06 21 min ago       61.869   \n",
       "1                           2023-11-01 15:36:52 37 min ago       11.940   \n",
       "2                           2023-11-01 15:23:02 51 min ago      -21.190   \n",
       "3                      2023-11-01 15:14:13 1 hr 00 min ago       36.891   \n",
       "4                      2023-11-01 15:09:09 1 hr 05 min ago       11.840   \n",
       "..               ...                                   ...          ...   \n",
       "99                     2023-11-01 06:23:24 9 hr 50 min ago       18.110   \n",
       "100                    2023-11-01 06:22:42 9 hr 51 min ago       15.280   \n",
       "101                   2023-11-01 06:03:35 10 hr 10 min ago       46.389   \n",
       "102                   2023-11-01 06:03:26 10 hr 10 min ago       17.400   \n",
       "103                   2023-11-01 06:01:15 10 hr 13 min ago       17.640   \n",
       "\n",
       "    Lon. degrees Depth km Mag.[+]                      Region  \n",
       "0       -148.039       33     3.9             SOUTHERN ALASKA  \n",
       "1        -86.820       44     3.6     NEAR COAST OF NICARAGUA  \n",
       "2        -68.910      111     2.6             TARAPACA, CHILE  \n",
       "3         -2.999       13     2.2         STRAIT OF GIBRALTAR  \n",
       "4        125.640       19     3.0          SAMAR, PHILIPPINES  \n",
       "..           ...      ...     ...                         ...  \n",
       "99      -103.310       14     3.6  OFFSHORE MICHOACAN, MEXICO  \n",
       "100      -93.760       11     3.8    OFFSHORE CHIAPAS, MEXICO  \n",
       "101       12.731        8     1.0              NORTHERN ITALY  \n",
       "102      -94.710      136     3.8            VERACRUZ, MEXICO  \n",
       "103     -101.280       49     3.9            GUERRERO, MEXICO  \n",
       "\n",
       "[104 rows x 7 columns]"
      ]
     },
     "execution_count": 476,
     "metadata": {},
     "output_type": "execute_result"
    }
   ],
   "source": [
    "TERREMOTO"
   ]
  },
  {
   "cell_type": "markdown",
   "metadata": {},
   "source": [
    "#### Count number of tweets by a given Twitter account."
   ]
  },
  {
   "cell_type": "markdown",
   "metadata": {},
   "source": [
    "You will need to include a ***try/except block*** for account names not found. \n",
    "<br>***Hint:*** the program should count the number of tweets for any provided account"
   ]
  },
  {
   "cell_type": "code",
   "execution_count": 536,
   "metadata": {},
   "outputs": [
    {
     "name": "stdout",
     "output_type": "stream",
     "text": [
      "https://twitter.com/elonmusk 32,7 mil posts\n",
      "https://twitter.com/NASA 70,9 mil posts\n",
      "https://twitter.com/paquito does not exist or has no tweets\n",
      "https://twitter.com/paquitasalas 2.162 posts\n"
     ]
    }
   ],
   "source": [
    "import time\n",
    "\n",
    "user_list=[\"elonmusk\", \"NASA\", \"paquito\", \"paquitasalas\"]\n",
    "\n",
    "for i in user_list:\n",
    "    url = 'https://twitter.com/'\n",
    "    url_i=url+i\n",
    "    driver.get(url_i)\n",
    "    time.sleep(2) # espera 2 segundos\n",
    "    test=driver.find_elements(By.XPATH, '//div[@class=\"css-901oao css-1hf3ou5 r-14j79pv r-37j5jr r-n6v787 r-16dba41 r-1cwl3u0 r-bcqeeo r-qvutc0\"]')\n",
    "    if (len(test)!=0):\n",
    "        print(url_i, test[0].text)\n",
    "    \n",
    "    else:\n",
    "        print(url_i, \"does not exist or has no tweets\")\n",
    "    \n"
   ]
  },
  {
   "cell_type": "markdown",
   "metadata": {},
   "source": [
    "#### Number of followers of a given twitter account"
   ]
  },
  {
   "cell_type": "markdown",
   "metadata": {},
   "source": [
    "You will need to include a ***try/except block*** in case account/s name not found. \n",
    "<br>***Hint:*** the program should count the followers for any provided account"
   ]
  },
  {
   "cell_type": "code",
   "execution_count": 549,
   "metadata": {},
   "outputs": [
    {
     "name": "stdout",
     "output_type": "stream",
     "text": [
      "https://twitter.com/elonmusk 473 Siguiendo 161,7 M Seguidores\n",
      "https://twitter.com/NASA 175 Siguiendo 77,8 M Seguidores\n",
      "https://twitter.com/paquito does not exist or has no tweets\n",
      "https://twitter.com/paquitasalas 54 Siguiendo 153,5 mil Seguidores\n"
     ]
    }
   ],
   "source": [
    "import time\n",
    "\n",
    "user_list=[\"elonmusk\", \"NASA\", \"paquito\", \"paquitasalas\"]\n",
    "\n",
    "for i in user_list:\n",
    "    url = 'https://twitter.com/'\n",
    "    url_i=url+i\n",
    "    driver.get(url_i)\n",
    "    time.sleep(2) # espera 2 segundos\n",
    "    test_B=driver.find_elements(By.XPATH, '//div//a[@class=\"css-4rbku5 css-18t94o4 css-901oao r-18jsvk2 r-1loqt21 r-37j5jr r-a023e6 r-16dba41 r-rjixqe r-bcqeeo r-qvutc0\"]')\n",
    "\n",
    "    if (len(test_B)!=0):\n",
    "        print(url_i, test_B[0].text, test_B[1].text)\n",
    "    \n",
    "    else:\n",
    "        print(url_i, \"does not exist or has no tweets\")"
   ]
  },
  {
   "cell_type": "markdown",
   "metadata": {},
   "source": [
    "#### List all language names and number of related articles in the order they appear in wikipedia.org"
   ]
  },
  {
   "cell_type": "code",
   "execution_count": 588,
   "metadata": {},
   "outputs": [],
   "source": [
    "# This is the url you will scrape in this exercise\n",
    "url = 'https://www.wikipedia.org/'\n",
    "driver.get(url)"
   ]
  },
  {
   "cell_type": "code",
   "execution_count": 589,
   "metadata": {},
   "outputs": [
    {
     "data": {
      "text/plain": [
       "[<selenium.webdriver.remote.webelement.WebElement (session=\"1ca4af01-abf2-47d7-a413-b262ddba185a\", element=\"c0a9c7a3-7c89-40ea-b93a-06bfcabd8a8e\")>]"
      ]
     },
     "execution_count": 589,
     "metadata": {},
     "output_type": "execute_result"
    }
   ],
   "source": [
    "test=driver.find_elements(By.XPATH, 'html//body//div[@class=\"central-featured\"]')\n",
    "test"
   ]
  },
  {
   "cell_type": "code",
   "execution_count": 595,
   "metadata": {},
   "outputs": [
    {
     "data": {
      "text/plain": [
       "['Español: 1 892 000 artículos',\n",
       " 'English: 6 715 000 articles',\n",
       " '日本語: 1 387 000 記事',\n",
       " 'Русский: 1 938 000 статей',\n",
       " 'Deutsch: 2 836 000 Artikel',\n",
       " 'Français: 2 553 000 articles',\n",
       " 'Italiano: 1 826 000 voci',\n",
       " '中文: 1 377 000 条目 / 條目',\n",
       " 'Português: 1 109 000 artigos',\n",
       " 'العربية: 1 217 000 مقالة']"
      ]
     },
     "execution_count": 595,
     "metadata": {},
     "output_type": "execute_result"
    }
   ],
   "source": [
    "test2=test[0].find_elements(By.CSS_SELECTOR, 'div')\n",
    "\n",
    "langlist=[]\n",
    "[langlist.append(i.text) for i in test2]\n",
    "\n",
    "for i in range(len(langlist)):\n",
    "    langlist[i]=langlist[i].replace(\"\\n\", \": \")\n",
    "    langlist[i]=langlist[i].replace(\"+\", \"\")\n",
    "    \n",
    "langlist"
   ]
  },
  {
   "cell_type": "markdown",
   "metadata": {},
   "source": [
    "#### A list with the different kind of datasets available in data.gov.uk "
   ]
  },
  {
   "cell_type": "code",
   "execution_count": 597,
   "metadata": {},
   "outputs": [],
   "source": [
    "# This is the url you will scrape in this exercise\n",
    "url = 'https://data.gov.uk/'\n",
    "driver.get(url)"
   ]
  },
  {
   "cell_type": "code",
   "execution_count": 673,
   "metadata": {},
   "outputs": [
    {
     "data": {
      "text/plain": [
       "['Business and economy',\n",
       " 'Crime and justice',\n",
       " 'Defence',\n",
       " 'Education',\n",
       " 'Environment',\n",
       " 'Government',\n",
       " 'Government spending',\n",
       " 'Health',\n",
       " 'Mapping',\n",
       " 'Society',\n",
       " 'Towns and cities',\n",
       " 'Transport',\n",
       " 'Digital service performance',\n",
       " 'Government reference data']"
      ]
     },
     "execution_count": 673,
     "metadata": {},
     "output_type": "execute_result"
    }
   ],
   "source": [
    "test=driver.find_elements(By.CSS_SELECTOR, 'div.govuk-grid-row div.govuk-grid-column-full')\n",
    "#test2=test[0].find_elements(By.XPATH, '/html/body/div[3]/main/div[3]/div/ul/li[2]/h3')\n",
    "\n",
    "test=test[0].find_elements(By.XPATH, '/html/body/div[3]/main/div[3]/div/ul')\n",
    "the_text=test[0].text.split(\"\\n\")\n",
    "\n",
    "len(the_text)\n",
    "\n",
    "## keep only even indexes cause these contain the developer / alias info\n",
    "test_list2=[]      \n",
    "[test_list2.append(the_text[i]) for i in range(len(the_text)) if (i%2==0)]\n",
    "test_list2"
   ]
  },
  {
   "cell_type": "markdown",
   "metadata": {},
   "source": [
    "#### Top 10 languages by number of native speakers stored in a Pandas Dataframe"
   ]
  },
  {
   "cell_type": "code",
   "execution_count": 780,
   "metadata": {},
   "outputs": [],
   "source": [
    "# This is the url you will scrape in this exercise\n",
    "url = 'https://en.wikipedia.org/wiki/List_of_languages_by_number_of_native_speakers'\n",
    "driver.get(url)"
   ]
  },
  {
   "cell_type": "code",
   "execution_count": 782,
   "metadata": {},
   "outputs": [
    {
     "data": {
      "text/plain": [
       "[<selenium.webdriver.remote.webelement.WebElement (session=\"1ca4af01-abf2-47d7-a413-b262ddba185a\", element=\"2e12d9d7-c3a8-4fc6-ba84-b686dcb6c0cb\")>]"
      ]
     },
     "execution_count": 782,
     "metadata": {},
     "output_type": "execute_result"
    }
   ],
   "source": [
    "test=driver.find_elements(By.CSS_SELECTOR,'html.client-js.vector-feature-language-in-header-enabled.vector-feature-language-in-main-page-header-disabled.vector-feature-sticky-header-disabled.vector-feature-page-tools-pinned-disabled.vector-feature-toc-pinned-clientpref-1.vector-feature-main-menu-pinned-disabled.vector-feature-limited-width-clientpref-1.vector-feature-limited-width-content-enabled.vector-feature-zebra-design-disabled.vector-feature-custom-font-size-clientpref-0.vector-feature-client-preferences-disabled.vector-feature-typography-survey-disabled.vector-toc-available.vector-animations-ready.ve-available body.skin-vector.skin-vector-search-vue.mediawiki.ltr.sitedir-ltr.mw-hide-empty-elt.ns-0.ns-subject.page-List_of_languages_by_number_of_native_speakers.rootpage-List_of_languages_by_number_of_native_speakers.skin-vector-2022.action-view.uls-dialog-sticky-hide.vector-below-page-title div.mw-page-container div.mw-page-container-inner div.mw-content-container main#content.mw-body div#bodyContent.vector-body.ve-init-mw-desktopArticleTarget-targetContainer div#mw-content-text.mw-body-content.mw-content-ltr div.mw-parser-output table.wikitable.sortable.static-row-numbers.jquery-tablesorter')\n",
    "test"
   ]
  },
  {
   "cell_type": "code",
   "execution_count": 783,
   "metadata": {},
   "outputs": [],
   "source": [
    "test2=test[0].find_elements(By.CSS_SELECTOR, 'tr')\n"
   ]
  },
  {
   "cell_type": "code",
   "execution_count": 784,
   "metadata": {},
   "outputs": [],
   "source": [
    "table_list=[]\n",
    "for i in range(len(test2)):\n",
    "    test3=test2[i].find_elements(By.CSS_SELECTOR, 'td')\n",
    "    rows_list=[]\n",
    "    for j in range(len(test3)):\n",
    "        rows_list.append(test3[j].text)\n",
    "    table_list.append(rows_list)\n"
   ]
  },
  {
   "cell_type": "code",
   "execution_count": 799,
   "metadata": {},
   "outputs": [],
   "source": [
    "thedataf=pd.DataFrame(table_list)"
   ]
  },
  {
   "cell_type": "code",
   "execution_count": 805,
   "metadata": {},
   "outputs": [],
   "source": [
    "tttt=driver.find_elements(By.XPATH,  '/html/body/div[2]/div/div[3]/main/div[3]/div[3]/div[1]/table[1]/thead/tr/th')\n",
    "\n",
    "titles=[]\n",
    "titles=[(tt.text) for tt in tttt]\n",
    "titles=[(tt.replace(\"\\n\", \" \")) for tt in titles]\n",
    "thedataf.columns=titles\n",
    "\n",
    "thedataf=thedataf.iloc[1:,:]\n",
    "thedataf.iloc[:,0]=[d.replace(\"\\n\", \" \") for d in thedataf.iloc[:,0]]"
   ]
  },
  {
   "cell_type": "code",
   "execution_count": 808,
   "metadata": {},
   "outputs": [
    {
     "data": {
      "text/html": [
       "<div>\n",
       "<style scoped>\n",
       "    .dataframe tbody tr th:only-of-type {\n",
       "        vertical-align: middle;\n",
       "    }\n",
       "\n",
       "    .dataframe tbody tr th {\n",
       "        vertical-align: top;\n",
       "    }\n",
       "\n",
       "    .dataframe thead th {\n",
       "        text-align: right;\n",
       "    }\n",
       "</style>\n",
       "<table border=\"1\" class=\"dataframe\">\n",
       "  <thead>\n",
       "    <tr style=\"text-align: right;\">\n",
       "      <th></th>\n",
       "      <th>Language</th>\n",
       "      <th>Native speakers (millions)</th>\n",
       "      <th>Language family</th>\n",
       "      <th>Branch</th>\n",
       "    </tr>\n",
       "  </thead>\n",
       "  <tbody>\n",
       "    <tr>\n",
       "      <th>1</th>\n",
       "      <td>Mandarin Chinese (incl. Standard Chinese, but ...</td>\n",
       "      <td>939</td>\n",
       "      <td>Sino-Tibetan</td>\n",
       "      <td>Sinitic</td>\n",
       "    </tr>\n",
       "    <tr>\n",
       "      <th>2</th>\n",
       "      <td>Spanish</td>\n",
       "      <td>485</td>\n",
       "      <td>Indo-European</td>\n",
       "      <td>Romance</td>\n",
       "    </tr>\n",
       "    <tr>\n",
       "      <th>3</th>\n",
       "      <td>English</td>\n",
       "      <td>380</td>\n",
       "      <td>Indo-European</td>\n",
       "      <td>Germanic</td>\n",
       "    </tr>\n",
       "    <tr>\n",
       "      <th>4</th>\n",
       "      <td>Hindi (excl. Urdu, and other languages)</td>\n",
       "      <td>345</td>\n",
       "      <td>Indo-European</td>\n",
       "      <td>Indo-Aryan</td>\n",
       "    </tr>\n",
       "    <tr>\n",
       "      <th>5</th>\n",
       "      <td>Portuguese</td>\n",
       "      <td>236</td>\n",
       "      <td>Indo-European</td>\n",
       "      <td>Romance</td>\n",
       "    </tr>\n",
       "  </tbody>\n",
       "</table>\n",
       "</div>"
      ],
      "text/plain": [
       "                                            Language  \\\n",
       "1  Mandarin Chinese (incl. Standard Chinese, but ...   \n",
       "2                                            Spanish   \n",
       "3                                            English   \n",
       "4            Hindi (excl. Urdu, and other languages)   \n",
       "5                                         Portuguese   \n",
       "\n",
       "  Native speakers (millions) Language family      Branch  \n",
       "1                        939    Sino-Tibetan     Sinitic  \n",
       "2                        485   Indo-European     Romance  \n",
       "3                        380   Indo-European    Germanic  \n",
       "4                        345   Indo-European  Indo-Aryan  \n",
       "5                        236   Indo-European     Romance  "
      ]
     },
     "execution_count": 808,
     "metadata": {},
     "output_type": "execute_result"
    }
   ],
   "source": [
    "thedataf.head()"
   ]
  },
  {
   "cell_type": "markdown",
   "metadata": {},
   "source": [
    "### BONUS QUESTIONS"
   ]
  },
  {
   "cell_type": "markdown",
   "metadata": {},
   "source": [
    "#### Scrape a certain number of tweets of a given Twitter account."
   ]
  },
  {
   "cell_type": "code",
   "execution_count": null,
   "metadata": {},
   "outputs": [],
   "source": [
    "# This is the url you will scrape in this exercise \n",
    "# You will need to add the account credentials to this url\n",
    "url = 'https://twitter.com/'"
   ]
  },
  {
   "cell_type": "code",
   "execution_count": null,
   "metadata": {},
   "outputs": [],
   "source": [
    "# your code"
   ]
  },
  {
   "cell_type": "markdown",
   "metadata": {},
   "source": [
    "#### IMDB's Top 250 data (movie name, Initial release, director name and stars) as a pandas dataframe"
   ]
  },
  {
   "cell_type": "code",
   "execution_count": null,
   "metadata": {},
   "outputs": [],
   "source": [
    "# This is the url you will scrape in this exercise \n",
    "url = 'https://www.imdb.com/chart/top'"
   ]
  },
  {
   "cell_type": "code",
   "execution_count": null,
   "metadata": {},
   "outputs": [],
   "source": [
    "# your code"
   ]
  },
  {
   "cell_type": "markdown",
   "metadata": {},
   "source": [
    "#### Movie name, year and a brief summary of the top 10 random movies (IMDB) as a pandas dataframe."
   ]
  },
  {
   "cell_type": "code",
   "execution_count": null,
   "metadata": {},
   "outputs": [],
   "source": [
    "#This is the url you will scrape in this exercise\n",
    "url = 'http://www.imdb.com/chart/top'"
   ]
  },
  {
   "cell_type": "code",
   "execution_count": null,
   "metadata": {},
   "outputs": [],
   "source": [
    "#your code"
   ]
  },
  {
   "cell_type": "markdown",
   "metadata": {},
   "source": [
    "#### Find the live weather report (temperature, wind speed, description and weather) of a given city."
   ]
  },
  {
   "cell_type": "code",
   "execution_count": null,
   "metadata": {},
   "outputs": [],
   "source": [
    "#https://openweathermap.org/current\n",
    "city = city=input('Enter the city:')\n",
    "url = 'http://api.openweathermap.org/data/2.5/weather?'+'q='+city+'&APPID=b35975e18dc93725acb092f7272cc6b8&units=metric'"
   ]
  },
  {
   "cell_type": "code",
   "execution_count": null,
   "metadata": {},
   "outputs": [],
   "source": [
    "# your code"
   ]
  },
  {
   "cell_type": "markdown",
   "metadata": {},
   "source": [
    "#### Book name,price and stock availability as a pandas dataframe."
   ]
  },
  {
   "cell_type": "code",
   "execution_count": null,
   "metadata": {},
   "outputs": [],
   "source": [
    "# This is the url you will scrape in this exercise. \n",
    "# It is a fictional bookstore created to be scraped. \n",
    "url = 'http://books.toscrape.com/'"
   ]
  },
  {
   "cell_type": "code",
   "execution_count": null,
   "metadata": {},
   "outputs": [],
   "source": [
    "#your code"
   ]
  }
 ],
 "metadata": {
  "kernelspec": {
   "display_name": "Python 3 (ipykernel)",
   "language": "python",
   "name": "python3"
  },
  "language_info": {
   "codemirror_mode": {
    "name": "ipython",
    "version": 3
   },
   "file_extension": ".py",
   "mimetype": "text/x-python",
   "name": "python",
   "nbconvert_exporter": "python",
   "pygments_lexer": "ipython3",
   "version": "3.7.16"
  }
 },
 "nbformat": 4,
 "nbformat_minor": 2
}
